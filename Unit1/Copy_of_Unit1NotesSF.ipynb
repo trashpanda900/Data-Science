{
  "nbformat": 4,
  "nbformat_minor": 0,
  "metadata": {
    "colab": {
      "provenance": [],
      "include_colab_link": true
    },
    "kernelspec": {
      "name": "python3",
      "display_name": "Python 3"
    },
    "language_info": {
      "name": "python"
    }
  },
  "cells": [
    {
      "cell_type": "markdown",
      "metadata": {
        "id": "view-in-github",
        "colab_type": "text"
      },
      "source": [
        "<a href=\"https://colab.research.google.com/github/trashpanda900/Data-Science/blob/main/Copy_of_Unit1NotesSF.ipynb\" target=\"_parent\"><img src=\"https://colab.research.google.com/assets/colab-badge.svg\" alt=\"Open In Colab\"/></a>"
      ]
    },
    {
      "cell_type": "markdown",
      "source": [
        "# Unit 1: Python Crash Course\n",
        "\n",
        "This is a crash course in the basics of python and data manipulation.\n",
        "\n",
        "Our goal is get vulnerable and exposed to some common ways to manipulate data in python, and learn some practical skills along the way.\n",
        "\n",
        "We will:\n",
        "\n",
        "1. Use variables to do basic operations.\n",
        "2. Explore the built in data structures we'll use: int, float, string, list, and dict\n",
        "3. Create and Manipulate Numpy Arrays\n",
        "4. Import and Manipulate Pandas Dataframes (plus cover bools)\n",
        "5. Use for loops to support Dataframe queries\n",
        "6. Export Data from Colab\n",
        "\n",
        "Will this unit cover all the python you'll need to ace this course?\n",
        "\n",
        "No.\n",
        "\n",
        "Will this feel like way too much information?\n",
        "\n",
        "Probably.\n",
        "\n",
        "But don't worry, you've got this! We'll learn as we go, and as we go you'll see me consisitently type \"how to \\___ in python\" or \"how to \\___ with pandas\" into google. You will learn to do the same.\n",
        "\n",
        "Let this be Lesson 0: **you don't need to know everything, you just need to know enough to ask for what you need**.\n"
      ],
      "metadata": {
        "id": "8NmSIRxdEMOm"
      }
    },
    {
      "cell_type": "markdown",
      "source": [
        "##Arithmetic with ints\n",
        "Let's start your journey into the world of data science with good ole' fashion addition, subtraction, and mutliplication. Let yourself wonder why I'm saving division for later."
      ],
      "metadata": {
        "id": "xlniv8ZUrj4S"
      }
    },
    {
      "cell_type": "code",
      "source": [
        "#Adding in python works inuitively. python automatically prints the result of any operation\n",
        "3 + 2"
      ],
      "metadata": {
        "id": "lA_t51FKsBnR",
        "outputId": "23b323fa-19bd-4dea-b35a-e44bf718dabb",
        "colab": {
          "base_uri": "https://localhost:8080/"
        }
      },
      "execution_count": 75,
      "outputs": [
        {
          "output_type": "execute_result",
          "data": {
            "text/plain": [
              "5"
            ]
          },
          "metadata": {},
          "execution_count": 75
        }
      ]
    },
    {
      "cell_type": "code",
      "source": [
        "#same with subtraction\n",
        "3 - 2"
      ],
      "metadata": {
        "id": "ud6x_r7KsMWN",
        "outputId": "645e7b3f-20c5-4e6b-b4ec-c443aa61292f",
        "colab": {
          "base_uri": "https://localhost:8080/"
        }
      },
      "execution_count": 76,
      "outputs": [
        {
          "output_type": "execute_result",
          "data": {
            "text/plain": [
              "1"
            ]
          },
          "metadata": {},
          "execution_count": 76
        }
      ]
    },
    {
      "cell_type": "code",
      "source": [
        "# multiplication use the astrisk symbol, \"*\"\n",
        "3 * 2"
      ],
      "metadata": {
        "id": "O84xxJdhsYRP",
        "outputId": "b8d79bad-e538-488d-9c94-d5254f75b8c5",
        "colab": {
          "base_uri": "https://localhost:8080/"
        }
      },
      "execution_count": 77,
      "outputs": [
        {
          "output_type": "execute_result",
          "data": {
            "text/plain": [
              "6"
            ]
          },
          "metadata": {},
          "execution_count": 77
        }
      ]
    },
    {
      "cell_type": "code",
      "source": [
        "# exponetiation is quick too--just use the multiplication symbol twice\n",
        "3 ** 2"
      ],
      "metadata": {
        "id": "72OwsHmVsnTR",
        "outputId": "973a58e9-35f3-45cd-fcd8-892e764402f8",
        "colab": {
          "base_uri": "https://localhost:8080/"
        }
      },
      "execution_count": 78,
      "outputs": [
        {
          "output_type": "execute_result",
          "data": {
            "text/plain": [
              "9"
            ]
          },
          "metadata": {},
          "execution_count": 78
        }
      ]
    },
    {
      "cell_type": "markdown",
      "source": [
        "This next code block introduces our first built in function, \"type\". Functions take in an input through parentheses, and then return an output."
      ],
      "metadata": {
        "id": "4X_T6eXCHXTh"
      }
    },
    {
      "cell_type": "code",
      "source": [
        "type(3)"
      ],
      "metadata": {
        "id": "Z2BqqcRZHQTJ",
        "outputId": "8c3f06e8-caa5-474f-9d29-f0d9659ef463",
        "colab": {
          "base_uri": "https://localhost:8080/"
        }
      },
      "execution_count": 79,
      "outputs": [
        {
          "output_type": "execute_result",
          "data": {
            "text/plain": [
              "int"
            ]
          },
          "metadata": {},
          "execution_count": 79
        }
      ]
    },
    {
      "cell_type": "markdown",
      "source": [
        "For example, the absolute value function is \"abs\" in python, and works exactly like you think it would. Use the dash key \"-\" in front of a number (int or float) to make it negative"
      ],
      "metadata": {
        "id": "ET-zNOKTIMI8"
      }
    },
    {
      "cell_type": "code",
      "source": [
        "abs(- 2)"
      ],
      "metadata": {
        "id": "K9ZORCw-MBR-",
        "outputId": "4bed2bec-269c-407b-faae-1c83a106821f",
        "colab": {
          "base_uri": "https://localhost:8080/"
        }
      },
      "execution_count": 80,
      "outputs": [
        {
          "output_type": "execute_result",
          "data": {
            "text/plain": [
              "2"
            ]
          },
          "metadata": {},
          "execution_count": 80
        }
      ]
    },
    {
      "cell_type": "markdown",
      "source": [
        "I can stores these numbers in a variable for later use."
      ],
      "metadata": {
        "id": "2hbre6KZqDgl"
      }
    },
    {
      "cell_type": "code",
      "source": [
        "# I store \"-5\" in the variable x\n",
        "x = -5\n",
        "# I store \"2\" in the variable thing\n",
        "thing = 2\n",
        "\n",
        "#I print the content of the variables x and thing\n",
        "x, thing"
      ],
      "metadata": {
        "id": "tbAT1c2NqAtK",
        "outputId": "172a0a68-cad4-4572-fc31-af926202d2b4",
        "colab": {
          "base_uri": "https://localhost:8080/"
        }
      },
      "execution_count": 81,
      "outputs": [
        {
          "output_type": "execute_result",
          "data": {
            "text/plain": [
              "(-5, 2)"
            ]
          },
          "metadata": {},
          "execution_count": 81
        }
      ]
    },
    {
      "cell_type": "markdown",
      "source": [
        "The ```=``` character is how we assign values to a variable. To help you understand this a little better, I'll refer to anther language, R.\n",
        "\n",
        "In python, we write ```x = -5```. In R, we would write ```x <- -5```. The ```<-``` is supposed to look like an arrow. As in, we are putting the value ```-5``` inside the container named ```x```.\n",
        "\n",
        "Again, ```=``` is only for assigning variables."
      ],
      "metadata": {
        "id": "ZESpjuAsisFf"
      }
    },
    {
      "cell_type": "markdown",
      "source": [
        "We can update the content of these variables whenever we want."
      ],
      "metadata": {
        "id": "z-M49yHXqUDI"
      }
    },
    {
      "cell_type": "code",
      "source": [
        "# add \"-5\" to \"2\" using the variables x and thing\n",
        "x = x + thing\n",
        "\n",
        "#print the contents of x\n",
        "x"
      ],
      "metadata": {
        "id": "rTK7DypRsGPD",
        "outputId": "4880855a-bcff-47f5-9f31-aa3f700ba0fd",
        "colab": {
          "base_uri": "https://localhost:8080/"
        }
      },
      "execution_count": 82,
      "outputs": [
        {
          "output_type": "execute_result",
          "data": {
            "text/plain": [
              "-3"
            ]
          },
          "metadata": {},
          "execution_count": 82
        }
      ]
    },
    {
      "cell_type": "markdown",
      "source": [
        "Notice that we managed to get our computer to calculate $-5 +2$ without having to write $-5$ or $2$.\n",
        "\n",
        "What happens if we run the same code block?"
      ],
      "metadata": {
        "id": "S2c3KdXxsndl"
      }
    },
    {
      "cell_type": "code",
      "source": [
        "# add the contents x and thing\n",
        "x = x + thing\n",
        "\n",
        "#print the contents of x\n",
        "x"
      ],
      "metadata": {
        "id": "nhtggrhms_mE",
        "outputId": "320d22a2-bfa8-420d-a351-efd5ed8dc1f8",
        "colab": {
          "base_uri": "https://localhost:8080/"
        }
      },
      "execution_count": 83,
      "outputs": [
        {
          "output_type": "execute_result",
          "data": {
            "text/plain": [
              "-1"
            ]
          },
          "metadata": {},
          "execution_count": 83
        }
      ]
    },
    {
      "cell_type": "markdown",
      "source": [
        "**Task1**:\n",
        "\n",
        "Explain why the variable x's value is now -1."
      ],
      "metadata": {
        "id": "7-jJWgbYt9AC"
      }
    },
    {
      "cell_type": "markdown",
      "source": [
        "You don't have to write your answer within the brackets, just with the cell that says '**Answer1**'"
      ],
      "metadata": {
        "id": "jKcYDuKV1bpG"
      }
    },
    {
      "cell_type": "markdown",
      "source": [
        "**Answer1**:\n",
        "\n",
        "X is now equal to -3 so -3+2 =-1"
      ],
      "metadata": {
        "id": "6PXkfOytuMY9"
      }
    },
    {
      "cell_type": "markdown",
      "source": [
        "Computers are only ever capable of doing exactly what we tell them to do, and its always possible to tell them to do something we don't underestand. This can be a\n",
        "\n",
        "- feature: a good thing we may or may not have intended to happen.\n",
        "\n",
        "or a\n",
        "\n",
        "- bug: a bad thing we didn't want to happen, but are never the less entirely responsible for."
      ],
      "metadata": {
        "id": "t9gOJClYtfFi"
      }
    },
    {
      "cell_type": "markdown",
      "source": [
        "Every piece of code you'll ever write is either a feature, a bug, or confusing. Keep this in mind as we move through the course."
      ],
      "metadata": {
        "id": "3U7N5dZmulbB"
      }
    },
    {
      "cell_type": "markdown",
      "source": [
        "### Division\n",
        "\n",
        "Let's look at an example of division, the other mathematical operation I left out."
      ],
      "metadata": {
        "id": "MMc63SWHvvgn"
      }
    },
    {
      "cell_type": "code",
      "source": [
        "#use a backslash for division\n",
        "-4 / 2"
      ],
      "metadata": {
        "id": "YGEdLrscv7Ak",
        "outputId": "4cd1434a-d02a-44ad-8b44-926065778bd0",
        "colab": {
          "base_uri": "https://localhost:8080/"
        }
      },
      "execution_count": 84,
      "outputs": [
        {
          "output_type": "execute_result",
          "data": {
            "text/plain": [
              "-2.0"
            ]
          },
          "metadata": {},
          "execution_count": 84
        }
      ]
    },
    {
      "cell_type": "markdown",
      "source": [
        "That number has a decimal; let's check to see if it's still an int."
      ],
      "metadata": {
        "id": "c9H_FkDGwFep"
      }
    },
    {
      "cell_type": "code",
      "source": [
        "type(-4 / 2)"
      ],
      "metadata": {
        "id": "oEaWL39VwFHC",
        "outputId": "72994028-6b07-4660-f5c0-322a415f8275",
        "colab": {
          "base_uri": "https://localhost:8080/"
        }
      },
      "execution_count": 85,
      "outputs": [
        {
          "output_type": "execute_result",
          "data": {
            "text/plain": [
              "float"
            ]
          },
          "metadata": {},
          "execution_count": 85
        }
      ]
    },
    {
      "cell_type": "markdown",
      "source": [
        "### Libraries\n",
        "\n",
        "To better deal with this new float thing, I'll call a library of functions called numpy, and nickname it np for short.\n",
        "\n",
        "I need to use numpy for two reasons:\n",
        "\n",
        "- floats, as we'll see, do not behave as nicely as ints, and need to be treated with care. We'll only ever use libraries that show our floats the proper care and attention they need\n",
        "- python doesn't really have any built in math functions; abs() is basically the only one."
      ],
      "metadata": {
        "id": "4IQCcfbL0zuu"
      }
    },
    {
      "cell_type": "code",
      "source": [
        "import numpy as np"
      ],
      "metadata": {
        "id": "GYfyC8nl2Bb7"
      },
      "execution_count": 86,
      "outputs": []
    },
    {
      "cell_type": "markdown",
      "source": [
        "With that our of the way, let's learn why we need to be cautious with floats."
      ],
      "metadata": {
        "id": "retVUltb186a"
      }
    },
    {
      "cell_type": "markdown",
      "source": [
        "##Floats, and the perils of infinite math with finite computers\n",
        "\n",
        "We often represent the real numbers, like $\\pi$, $\\sqrt{2}$, and $\\log(0.1)$ using another data type called a float. That's short for floating point number."
      ],
      "metadata": {
        "id": "FRXCeP2PIM-w"
      }
    },
    {
      "cell_type": "markdown",
      "source": [
        "Let's play with that last one, $\\log(0.1)$. We'll need to call numpy to use a log. Note that ```np.log``` is $\\log_e()$ or $\\ln()$"
      ],
      "metadata": {
        "id": "jFRD9ZrE9Ki9"
      }
    },
    {
      "cell_type": "code",
      "source": [
        "#numpy use log base e. Note how it tells its a float\n",
        "np.log(0.1)"
      ],
      "metadata": {
        "colab": {
          "base_uri": "https://localhost:8080/"
        },
        "outputId": "77e69ac3-dc88-4a4c-c0c3-15723041b54f",
        "id": "xUXiaaJ0IVGK"
      },
      "execution_count": 87,
      "outputs": [
        {
          "output_type": "execute_result",
          "data": {
            "text/plain": [
              "np.float64(-2.3025850929940455)"
            ]
          },
          "metadata": {},
          "execution_count": 87
        }
      ]
    },
    {
      "cell_type": "markdown",
      "source": [
        "You may notice this is a different typw of float from ```-4/2```. This won't matter that much until Unit 9, when our models will get a little more picky about data types."
      ],
      "metadata": {
        "id": "DV8Zyozi-Y-s"
      }
    },
    {
      "cell_type": "code",
      "source": [
        "#it has a decimal, which in python means its a float--or at least, a type of float\n",
        "type(np.log(0.1)), type(-4/2)"
      ],
      "metadata": {
        "colab": {
          "base_uri": "https://localhost:8080/"
        },
        "outputId": "4222312d-b72f-4bf6-a9d6-faab737b3411",
        "id": "Xy1H5tIHIbRc"
      },
      "execution_count": 88,
      "outputs": [
        {
          "output_type": "execute_result",
          "data": {
            "text/plain": [
              "(numpy.float64, float)"
            ]
          },
          "metadata": {},
          "execution_count": 88
        }
      ]
    },
    {
      "cell_type": "markdown",
      "source": [
        "Now for the big reveal: our computers can't actually do math.\n",
        "\n",
        "At least, not *all* of math. Comupters are reliable mathematically, if we use them well.\n",
        "\n",
        "Here's an example:"
      ],
      "metadata": {
        "id": "eg5cmfOk_FsT"
      }
    },
    {
      "cell_type": "code",
      "source": [
        "2000 * np.log(0.1)"
      ],
      "metadata": {
        "colab": {
          "base_uri": "https://localhost:8080/"
        },
        "id": "MfFVYm5-8WSr",
        "outputId": "12e60475-1355-4938-cb87-8dcae07f9519"
      },
      "execution_count": 89,
      "outputs": [
        {
          "output_type": "execute_result",
          "data": {
            "text/plain": [
              "np.float64(-4605.170185988091)"
            ]
          },
          "metadata": {},
          "execution_count": 89
        }
      ]
    },
    {
      "cell_type": "markdown",
      "source": [
        "This is $2000 \\cdot \\log(0.1)$, and numpy correctly computed an approximation of that as the decimal number ```-4605.170185988091```.\n",
        "\n",
        "Math makes some fun statements about logarithms. Specifically, you may remember the rule that:\n",
        "\n",
        "$2000 \\cdot \\log(0.1) = \\log(0.1^{2000})$\n",
        "\n",
        "That statement is true--you may have even provided it in a previous class, using the defintions of logarithms, exponentiation, and the field axioms.\n",
        "\n",
        "But watch what happens when we try this on our computer."
      ],
      "metadata": {
        "id": "MsY7MF3w_d3M"
      }
    },
    {
      "cell_type": "code",
      "source": [
        "np.log(0.1**(2000))"
      ],
      "metadata": {
        "colab": {
          "base_uri": "https://localhost:8080/"
        },
        "id": "FX6dqgfb8hW1",
        "outputId": "f388958c-384c-4253-f315-6262091754a3"
      },
      "execution_count": 90,
      "outputs": [
        {
          "output_type": "stream",
          "name": "stderr",
          "text": [
            "/tmp/ipython-input-67815179.py:1: RuntimeWarning: divide by zero encountered in log\n",
            "  np.log(0.1**(2000))\n"
          ]
        },
        {
          "output_type": "execute_result",
          "data": {
            "text/plain": [
              "np.float64(-inf)"
            ]
          },
          "metadata": {},
          "execution_count": 90
        }
      ]
    },
    {
      "cell_type": "markdown",
      "source": [
        "Python is often known as a great language for debugging, or finding errors; you can see that here, in that Python gives us a RuntimeWarning and complains about dividing by zero, before spitting out its answer: negative infinity (or ```-inf```)\n",
        "\n",
        "Before explaining why that happens, I will explain a bit about how computers handle numbers.\n",
        "\n",
        "In order to report a number as an answer, a computer must be able to represent that number--physically. This is a problem, because numbers are infinite, and comupters are very much not.\n",
        "\n",
        "We can get around this problem for integers with some clever application of mathematical rules.\n",
        "\n",
        "But for real numbers like $\\log(0.1)$, our tricks only take us so far. **Extremely long decimal numbers will break our computer's ability to do math.**"
      ],
      "metadata": {
        "id": "jsfQUf0NBE1m"
      }
    },
    {
      "cell_type": "markdown",
      "source": [
        "**Task2**:\n",
        "\n",
        "Assume that $2000 \\cdot \\log(0.1) = \\log(0.1^{2000})$ (or prove it to yourself).\n",
        "\n",
        "Do\n",
        "\n",
        "```2000 * np.log(0.1)```\n",
        "\n",
        "and\n",
        "\n",
        "```np.log(0.1**(2000))```\n",
        "\n",
        "give the same output when run in python? **Why not?**\n",
        "\n",
        "Hint: attempt to write $0.1^{2000}$ all the way out."
      ],
      "metadata": {
        "id": "Tgx3YccxI2tR"
      }
    },
    {
      "cell_type": "markdown",
      "source": [
        "**Answer2**:\n",
        "\n",
        "because it does not have the same order of opperations."
      ],
      "metadata": {
        "id": "IFsA_ffFn2V0"
      }
    },
    {
      "cell_type": "markdown",
      "source": [
        "##Strings, Lists, and Dicts\n",
        "Before we get more into those libraires like numpy, let's return to base python.\n",
        "Everything in this section can be done without importing a library."
      ],
      "metadata": {
        "id": "vPH20lfw-j4t"
      }
    },
    {
      "cell_type": "markdown",
      "source": [
        "###Strings\n",
        "Let's start with strings. We can define a string by putting ' ' or \" \" around any character, including numbers"
      ],
      "metadata": {
        "id": "g3hNcIF72f05"
      }
    },
    {
      "cell_type": "code",
      "source": [
        "'5', type('5'), 5, type(5)"
      ],
      "metadata": {
        "id": "uBBrfiQr2oa8",
        "outputId": "89e831fd-0948-4f19-e060-250aafa0d0b4",
        "colab": {
          "base_uri": "https://localhost:8080/"
        }
      },
      "execution_count": 91,
      "outputs": [
        {
          "output_type": "execute_result",
          "data": {
            "text/plain": [
              "('5', str, 5, int)"
            ]
          },
          "metadata": {},
          "execution_count": 91
        }
      ]
    },
    {
      "cell_type": "code",
      "source": [
        "'type(5)', type('type(5)')"
      ],
      "metadata": {
        "id": "SH1YJUPE3FI3",
        "outputId": "44f086ec-babf-48a0-f7be-178b596c348c",
        "colab": {
          "base_uri": "https://localhost:8080/"
        }
      },
      "execution_count": 92,
      "outputs": [
        {
          "output_type": "execute_result",
          "data": {
            "text/plain": [
              "('type(5)', str)"
            ]
          },
          "metadata": {},
          "execution_count": 92
        }
      ]
    },
    {
      "cell_type": "markdown",
      "source": [
        "We'll use strings to define labels for our models and graphs, and to represent non-numerical data.\n",
        "\n",
        "For right now though, they are our first example of an iterable data type. In other words, python keeps track of the individual characters in a string, their order, and how many characters there are."
      ],
      "metadata": {
        "id": "O0zDg6_P3u8U"
      }
    },
    {
      "cell_type": "code",
      "source": [
        "\"dog\""
      ],
      "metadata": {
        "id": "5Q4UeShB5Nix",
        "outputId": "9b17ef7b-046d-4290-b738-24ea39761ee2",
        "colab": {
          "base_uri": "https://localhost:8080/",
          "height": 35
        }
      },
      "execution_count": 93,
      "outputs": [
        {
          "output_type": "execute_result",
          "data": {
            "text/plain": [
              "'dog'"
            ],
            "application/vnd.google.colaboratory.intrinsic+json": {
              "type": "string"
            }
          },
          "metadata": {},
          "execution_count": 93
        }
      ]
    },
    {
      "cell_type": "code",
      "source": [
        "#find the length of an iterable object\n",
        "len('dog')"
      ],
      "metadata": {
        "id": "cM8fOMKv4lrL",
        "outputId": "9eedc0d5-f7bf-4609-c8d6-54c9e07020dc",
        "colab": {
          "base_uri": "https://localhost:8080/"
        }
      },
      "execution_count": 94,
      "outputs": [
        {
          "output_type": "execute_result",
          "data": {
            "text/plain": [
              "3"
            ]
          },
          "metadata": {},
          "execution_count": 94
        }
      ]
    },
    {
      "cell_type": "code",
      "source": [
        "#grab the first character in the string 'cat'\n",
        "'dog'[0]"
      ],
      "metadata": {
        "id": "hT3_vg_b4urp",
        "outputId": "98a403ec-bdf5-4be9-e631-76d778e2f655",
        "colab": {
          "base_uri": "https://localhost:8080/",
          "height": 35
        }
      },
      "execution_count": 95,
      "outputs": [
        {
          "output_type": "execute_result",
          "data": {
            "text/plain": [
              "'d'"
            ],
            "application/vnd.google.colaboratory.intrinsic+json": {
              "type": "string"
            }
          },
          "metadata": {},
          "execution_count": 95
        }
      ]
    },
    {
      "cell_type": "markdown",
      "source": [
        "Variables are not strings. We'll get an error if we make that mistake"
      ],
      "metadata": {
        "id": "GehBqP5r47Ak"
      }
    },
    {
      "cell_type": "code",
      "source": [
        "dog"
      ],
      "metadata": {
        "id": "ERSeuNwc4_oQ",
        "outputId": "58e4b6e3-9a4b-44f3-cfa0-17aabe0bd207",
        "colab": {
          "base_uri": "https://localhost:8080/",
          "height": 141
        }
      },
      "execution_count": 96,
      "outputs": [
        {
          "output_type": "error",
          "ename": "NameError",
          "evalue": "name 'dog' is not defined",
          "traceback": [
            "\u001b[0;31m---------------------------------------------------------------------------\u001b[0m",
            "\u001b[0;31mNameError\u001b[0m                                 Traceback (most recent call last)",
            "\u001b[0;32m/tmp/ipython-input-2905124123.py\u001b[0m in \u001b[0;36m<cell line: 0>\u001b[0;34m()\u001b[0m\n\u001b[0;32m----> 1\u001b[0;31m \u001b[0mdog\u001b[0m\u001b[0;34m\u001b[0m\u001b[0;34m\u001b[0m\u001b[0m\n\u001b[0m",
            "\u001b[0;31mNameError\u001b[0m: name 'dog' is not defined"
          ]
        }
      ]
    },
    {
      "cell_type": "markdown",
      "source": [
        "That said, I can assign a string to a variable."
      ],
      "metadata": {
        "id": "KgXEQM7X5bkz"
      }
    },
    {
      "cell_type": "code",
      "source": [
        "#assign the string 'dog' to variable x\n",
        "x = 'dog'\n",
        "#grab the second and third characters of the string\n",
        "x[1:3]"
      ],
      "metadata": {
        "id": "R111JN8r5gjg"
      },
      "execution_count": null,
      "outputs": []
    },
    {
      "cell_type": "markdown",
      "source": [
        "Using the [ ] directly behind an iterable object, or directly behind a varable that points to an iterable object, splices the object according to some built in rules. Let's practice to see how it works."
      ],
      "metadata": {
        "id": "VAE-zDld52Dv"
      }
    },
    {
      "cell_type": "markdown",
      "source": [
        "**Task3**:\n",
        "\n",
        "Splice the string 'Hippopotomonstrosesquippedaliophobia' to output 'monstro' using a single line of code.\n",
        "\n",
        "Note: with data science, its not important to get it right on the first try. Just try stuff and see what happens."
      ],
      "metadata": {
        "id": "jRtb8JwP6ecc"
      }
    },
    {
      "cell_type": "code",
      "source": [
        "#ANSWER3\n",
        "'Hippopotomonstrosesquippedaliophobia'[9:16]\n"
      ],
      "metadata": {
        "id": "hdzJ-sST7idE"
      },
      "execution_count": null,
      "outputs": []
    },
    {
      "cell_type": "markdown",
      "source": [
        "There's one more thing about strings you must know: strings are immutable, unchangeable. Anytime it looks like you're changing a string, you're actaully creating a new string based off the old, still extant, string.\n",
        "\n",
        "This means that we, as data scientists, will rarely, if ever, store our data in strings. They're also really hard to look at when they get larger, as Task3 showed."
      ],
      "metadata": {
        "id": "BFxALqJ_8__R"
      }
    },
    {
      "cell_type": "markdown",
      "source": [
        "###Lists\n",
        "\n",
        "This brings us to our next data type, lists. They are iterable like strings, but they are mutable (changable), and can hold all types of data, not just characters."
      ],
      "metadata": {
        "id": "HkkqnEof-HK-"
      }
    },
    {
      "cell_type": "code",
      "source": [
        "#define my list with brackets\n",
        "my_list = [\"dog\", x, 5]\n",
        "#print my list\n",
        "my_list"
      ],
      "metadata": {
        "id": "0LnTNA_b-k0A"
      },
      "execution_count": null,
      "outputs": []
    },
    {
      "cell_type": "markdown",
      "source": [
        "Notice that when I put a variable in my list, the list reports the contents of the variable. Let's see how that works"
      ],
      "metadata": {
        "id": "KBAs9WwF-_5-"
      }
    },
    {
      "cell_type": "code",
      "source": [
        "b_list = ['Hippopotomonstrosesquippedaliophobia'[9:16], 4/2 , len(my_list), my_list]\n",
        "\n",
        "b_list"
      ],
      "metadata": {
        "id": "3m0hddna_f_Q",
        "outputId": "4afda1f2-dbbf-410a-c8c0-7b37a24f632e",
        "colab": {
          "base_uri": "https://localhost:8080/",
          "height": 176
        }
      },
      "execution_count": 97,
      "outputs": [
        {
          "output_type": "error",
          "ename": "NameError",
          "evalue": "name 'my_list' is not defined",
          "traceback": [
            "\u001b[0;31m---------------------------------------------------------------------------\u001b[0m",
            "\u001b[0;31mNameError\u001b[0m                                 Traceback (most recent call last)",
            "\u001b[0;32m/tmp/ipython-input-1693095275.py\u001b[0m in \u001b[0;36m<cell line: 0>\u001b[0;34m()\u001b[0m\n\u001b[0;32m----> 1\u001b[0;31m \u001b[0mb_list\u001b[0m \u001b[0;34m=\u001b[0m \u001b[0;34m[\u001b[0m\u001b[0;34m'Hippopotomonstrosesquippedaliophobia'\u001b[0m\u001b[0;34m[\u001b[0m\u001b[0;36m9\u001b[0m\u001b[0;34m:\u001b[0m\u001b[0;36m16\u001b[0m\u001b[0;34m]\u001b[0m\u001b[0;34m,\u001b[0m \u001b[0;36m4\u001b[0m\u001b[0;34m/\u001b[0m\u001b[0;36m2\u001b[0m \u001b[0;34m,\u001b[0m \u001b[0mlen\u001b[0m\u001b[0;34m(\u001b[0m\u001b[0mmy_list\u001b[0m\u001b[0;34m)\u001b[0m\u001b[0;34m,\u001b[0m \u001b[0mmy_list\u001b[0m\u001b[0;34m]\u001b[0m\u001b[0;34m\u001b[0m\u001b[0;34m\u001b[0m\u001b[0m\n\u001b[0m\u001b[1;32m      2\u001b[0m \u001b[0;34m\u001b[0m\u001b[0m\n\u001b[1;32m      3\u001b[0m \u001b[0mb_list\u001b[0m\u001b[0;34m\u001b[0m\u001b[0;34m\u001b[0m\u001b[0m\n",
            "\u001b[0;31mNameError\u001b[0m: name 'my_list' is not defined"
          ]
        }
      ]
    },
    {
      "cell_type": "code",
      "source": [
        "#add another item to the end of my list\n",
        "my_list.append(np.log(0.1))\n",
        "#print the list\n",
        "my_list"
      ],
      "metadata": {
        "id": "HNz2Yei7_7Ln"
      },
      "execution_count": null,
      "outputs": []
    },
    {
      "cell_type": "code",
      "source": [
        "b_list"
      ],
      "metadata": {
        "id": "4IIAegX7AICW"
      },
      "execution_count": null,
      "outputs": []
    },
    {
      "cell_type": "markdown",
      "source": [
        "**Task4**:\n",
        "\n",
        "Explain what happened in the last three code blocks; why is 2580156526864974.5 in b_list now?"
      ],
      "metadata": {
        "id": "n13RCo86AVGZ"
      }
    },
    {
      "cell_type": "markdown",
      "source": [
        "**Answer4**:\n",
        "\n",
        "np.log(0.1) is not a string so it outputs a number."
      ],
      "metadata": {
        "id": "SjxYvKC3AihR"
      }
    },
    {
      "cell_type": "markdown",
      "source": [
        "Let's practice splicing once more before moving on."
      ],
      "metadata": {
        "id": "fvLSQQt9BNor"
      }
    },
    {
      "cell_type": "markdown",
      "source": [
        "**Task5**:\n",
        "\n",
        "Using one line of code, grab the last three entries of my_list without writing my_list anywhere in your code.\n",
        "\n",
        "This task is a little harder than the others, so make sure you're working together. Don't be shy about googling 'how to splice lists in python' either."
      ],
      "metadata": {
        "id": "iftRvhTLBRZL"
      }
    },
    {
      "cell_type": "code",
      "source": [
        "#ANSWER5\n",
        "b_list[3][1:4]\n"
      ],
      "metadata": {
        "id": "TWu4b5eVBljg",
        "outputId": "99c62e25-7820-487d-f8aa-fa8bf34dd556",
        "colab": {
          "base_uri": "https://localhost:8080/",
          "height": 159
        }
      },
      "execution_count": 98,
      "outputs": [
        {
          "output_type": "error",
          "ename": "NameError",
          "evalue": "name 'b_list' is not defined",
          "traceback": [
            "\u001b[0;31m---------------------------------------------------------------------------\u001b[0m",
            "\u001b[0;31mNameError\u001b[0m                                 Traceback (most recent call last)",
            "\u001b[0;32m/tmp/ipython-input-3356243296.py\u001b[0m in \u001b[0;36m<cell line: 0>\u001b[0;34m()\u001b[0m\n\u001b[1;32m      1\u001b[0m \u001b[0;31m#ANSWER5\u001b[0m\u001b[0;34m\u001b[0m\u001b[0;34m\u001b[0m\u001b[0m\n\u001b[0;32m----> 2\u001b[0;31m \u001b[0mb_list\u001b[0m\u001b[0;34m[\u001b[0m\u001b[0;36m3\u001b[0m\u001b[0;34m]\u001b[0m\u001b[0;34m[\u001b[0m\u001b[0;36m1\u001b[0m\u001b[0;34m:\u001b[0m\u001b[0;36m4\u001b[0m\u001b[0;34m]\u001b[0m\u001b[0;34m\u001b[0m\u001b[0;34m\u001b[0m\u001b[0m\n\u001b[0m",
            "\u001b[0;31mNameError\u001b[0m: name 'b_list' is not defined"
          ]
        }
      ]
    },
    {
      "cell_type": "markdown",
      "source": [
        "###Dicts\n",
        "\n",
        "Like lists, dicts can hold any and all types of data. What differentiaties them from lists is that data in a dict is stored as a key/value pair called an item."
      ],
      "metadata": {
        "id": "mCVql9lfCXmv"
      }
    },
    {
      "cell_type": "code",
      "source": [
        "#make my dict\n",
        "my_dict = {'one':4/2, 2:my_list, '3':b_list[0]}\n",
        "my_dict"
      ],
      "metadata": {
        "id": "fmksWP1hJ4F2"
      },
      "execution_count": null,
      "outputs": []
    },
    {
      "cell_type": "markdown",
      "source": [
        "Dicts aren't entirely iterable."
      ],
      "metadata": {
        "id": "BLYdbXSpKkF4"
      }
    },
    {
      "cell_type": "code",
      "source": [
        "my_dict[0]"
      ],
      "metadata": {
        "id": "3ipy3XswKavQ"
      },
      "execution_count": null,
      "outputs": []
    },
    {
      "cell_type": "markdown",
      "source": [
        "Instead of splicing, we acces the values of a dict using its keys."
      ],
      "metadata": {
        "id": "NSm5uTbSKprj"
      }
    },
    {
      "cell_type": "code",
      "source": [
        "my_dict['one'], my_dict['3'], my_dict[2.]"
      ],
      "metadata": {
        "id": "q7gBFLcgK0wo",
        "outputId": "8ba4edec-b396-4f05-b095-5af9b11240ee",
        "colab": {
          "base_uri": "https://localhost:8080/",
          "height": 141
        }
      },
      "execution_count": 99,
      "outputs": [
        {
          "output_type": "error",
          "ename": "NameError",
          "evalue": "name 'my_dict' is not defined",
          "traceback": [
            "\u001b[0;31m---------------------------------------------------------------------------\u001b[0m",
            "\u001b[0;31mNameError\u001b[0m                                 Traceback (most recent call last)",
            "\u001b[0;32m/tmp/ipython-input-2253571121.py\u001b[0m in \u001b[0;36m<cell line: 0>\u001b[0;34m()\u001b[0m\n\u001b[0;32m----> 1\u001b[0;31m \u001b[0mmy_dict\u001b[0m\u001b[0;34m[\u001b[0m\u001b[0;34m'one'\u001b[0m\u001b[0;34m]\u001b[0m\u001b[0;34m,\u001b[0m \u001b[0mmy_dict\u001b[0m\u001b[0;34m[\u001b[0m\u001b[0;34m'3'\u001b[0m\u001b[0;34m]\u001b[0m\u001b[0;34m,\u001b[0m \u001b[0mmy_dict\u001b[0m\u001b[0;34m[\u001b[0m\u001b[0;36m2.\u001b[0m\u001b[0;34m]\u001b[0m\u001b[0;34m\u001b[0m\u001b[0;34m\u001b[0m\u001b[0m\n\u001b[0m",
            "\u001b[0;31mNameError\u001b[0m: name 'my_dict' is not defined"
          ]
        }
      ]
    },
    {
      "cell_type": "code",
      "source": [
        "#dicts can recognize when floats are equivalent to ints\n",
        "my_dict[2]"
      ],
      "metadata": {
        "id": "1wL5QtHkLJqt"
      },
      "execution_count": null,
      "outputs": []
    },
    {
      "cell_type": "markdown",
      "source": [
        "If we want to iterate a dict, we need its keys. We can also just grab the values directly"
      ],
      "metadata": {
        "id": "BzcUpk73MFAE"
      }
    },
    {
      "cell_type": "code",
      "source": [
        "my_dict.keys()"
      ],
      "metadata": {
        "id": "4s26s4OMMMK4"
      },
      "execution_count": null,
      "outputs": []
    },
    {
      "cell_type": "code",
      "source": [
        "my_dict.values()"
      ],
      "metadata": {
        "id": "FyfaQT4RMTk0",
        "outputId": "f5a0cc6a-c8c6-4ec5-94cf-95b4b74405d4",
        "colab": {
          "base_uri": "https://localhost:8080/",
          "height": 141
        }
      },
      "execution_count": 100,
      "outputs": [
        {
          "output_type": "error",
          "ename": "NameError",
          "evalue": "name 'my_dict' is not defined",
          "traceback": [
            "\u001b[0;31m---------------------------------------------------------------------------\u001b[0m",
            "\u001b[0;31mNameError\u001b[0m                                 Traceback (most recent call last)",
            "\u001b[0;32m/tmp/ipython-input-1463584910.py\u001b[0m in \u001b[0;36m<cell line: 0>\u001b[0;34m()\u001b[0m\n\u001b[0;32m----> 1\u001b[0;31m \u001b[0mmy_dict\u001b[0m\u001b[0;34m.\u001b[0m\u001b[0mvalues\u001b[0m\u001b[0;34m(\u001b[0m\u001b[0;34m)\u001b[0m\u001b[0;34m\u001b[0m\u001b[0;34m\u001b[0m\u001b[0m\n\u001b[0m",
            "\u001b[0;31mNameError\u001b[0m: name 'my_dict' is not defined"
          ]
        }
      ]
    },
    {
      "cell_type": "markdown",
      "source": [
        "There are two other basic iterable data types in python: sets and tuples. We don't need to know much about them for this course though, so we'll move on to some data structures that we will use *a lot*."
      ],
      "metadata": {
        "id": "RkArvD60Mvyd"
      }
    },
    {
      "cell_type": "markdown",
      "source": [
        "## Numpy Arrays\n",
        "\n",
        "Nearly all scientific computing and data science in python uses numpy arrays, or something built out of numpy arrays. Numpy arrays are similar to lists, except they are imutable, and only hold one data type at a time"
      ],
      "metadata": {
        "id": "3vUOOe4wNvdR"
      }
    },
    {
      "cell_type": "code",
      "source": [
        "first_array = np.array([x,'dog', 'montro'])\n",
        "first_array"
      ],
      "metadata": {
        "id": "xpS4CyPsN1wE"
      },
      "execution_count": null,
      "outputs": []
    },
    {
      "cell_type": "code",
      "source": [
        "hoo_array = np.array([np.pi, 11, 2 - 7])\n",
        "hoo_array"
      ],
      "metadata": {
        "id": "3Kfkr0QcPHJ8",
        "outputId": "f9ea9813-3ea5-4780-fff5-c7c24119aa41",
        "colab": {
          "base_uri": "https://localhost:8080/"
        }
      },
      "execution_count": 101,
      "outputs": [
        {
          "output_type": "execute_result",
          "data": {
            "text/plain": [
              "array([ 3.14159265, 11.        , -5.        ])"
            ]
          },
          "metadata": {},
          "execution_count": 101
        }
      ]
    },
    {
      "cell_type": "markdown",
      "source": [
        "hoo_array converted the two ints, 11 and -5, into floats, to ensure that everything is the same data type.\n",
        "\n",
        "A similar thing happens when you try to mix floats and ints with strings."
      ],
      "metadata": {
        "id": "aMJY5Q1RPPGd"
      }
    },
    {
      "cell_type": "markdown",
      "source": [
        "**Task6**:\n",
        "\n",
        "What happens when you make an numpy array with floats, strings, and ints?"
      ],
      "metadata": {
        "id": "36yrr-YlQL0v"
      }
    },
    {
      "cell_type": "code",
      "source": [
        "#ANSWER6\n",
        "a_array=np.array([np.pi, 11,\"pi\"])\n",
        "a_array\n",
        "\n"
      ],
      "metadata": {
        "id": "o2qCieLlPiCw",
        "outputId": "fcfb448d-17ef-4989-fa6c-2eeb083a5333",
        "colab": {
          "base_uri": "https://localhost:8080/"
        }
      },
      "execution_count": 102,
      "outputs": [
        {
          "output_type": "execute_result",
          "data": {
            "text/plain": [
              "array(['3.141592653589793', '11', 'pi'], dtype='<U32')"
            ]
          },
          "metadata": {},
          "execution_count": 102
        }
      ]
    },
    {
      "cell_type": "markdown",
      "source": [
        "**Answer6 cont.**:\n",
        "\n",
        "turns them all to strings"
      ],
      "metadata": {
        "id": "OY6nERNPQYjD"
      }
    },
    {
      "cell_type": "markdown",
      "source": [
        "Why make such a big deal out of numpy arrays, if they have this weird behavior?\n",
        "\n",
        "Ensuring that arrays are always of the same data type makes operations with arrays fast, which is essential when dealing with even moderately sized data sets."
      ],
      "metadata": {
        "id": "Ool262SkQqeh"
      }
    },
    {
      "cell_type": "markdown",
      "source": [
        "Actually there's more reasons to love numpy arrays."
      ],
      "metadata": {
        "id": "Pyp-Wt0NRxsU"
      }
    },
    {
      "cell_type": "markdown",
      "source": [
        "Arrays support element wise multiplication, addition, subtraction, and division by constants. Which is just what would happen to vectors, the mathematical object arrays were modeled after."
      ],
      "metadata": {
        "id": "q0OA_dk_SJLR"
      }
    },
    {
      "cell_type": "code",
      "source": [
        "2 * hoo_array + 1"
      ],
      "metadata": {
        "id": "GIYrGdr3SAtW",
        "outputId": "2d343f7b-37b7-4344-93c4-0f83e5e9a7cd",
        "colab": {
          "base_uri": "https://localhost:8080/"
        }
      },
      "execution_count": 103,
      "outputs": [
        {
          "output_type": "execute_result",
          "data": {
            "text/plain": [
              "array([ 7.28318531, 23.        , -9.        ])"
            ]
          },
          "metadata": {},
          "execution_count": 103
        }
      ]
    },
    {
      "cell_type": "markdown",
      "source": [
        "Regular multiplication with arrays executes element wise multiplication"
      ],
      "metadata": {
        "id": "UodMsbZzcLa2"
      }
    },
    {
      "cell_type": "code",
      "source": [
        "hoo_array * hoo_array"
      ],
      "metadata": {
        "id": "TBHNfz31cFVj",
        "outputId": "d88a8eab-574e-497a-ed88-14cd5004d6de",
        "colab": {
          "base_uri": "https://localhost:8080/"
        }
      },
      "execution_count": 104,
      "outputs": [
        {
          "output_type": "execute_result",
          "data": {
            "text/plain": [
              "array([  9.8696044, 121.       ,  25.       ])"
            ]
          },
          "metadata": {},
          "execution_count": 104
        }
      ]
    },
    {
      "cell_type": "markdown",
      "source": [
        "Numpy arrays also handle matrix multiplication. What's that? Don't worry about it for now, just know that it exists."
      ],
      "metadata": {
        "id": "Yq_6ND-_ctm8"
      }
    },
    {
      "cell_type": "code",
      "source": [
        "# define a new array, with easy to follow numbers\n",
        "pl_array = np.array([1,2,3])"
      ],
      "metadata": {
        "id": "0-9__1ALfkE8"
      },
      "execution_count": 105,
      "outputs": []
    },
    {
      "cell_type": "code",
      "source": [
        "#inner product, dot product\n",
        "pl_array @ pl_array"
      ],
      "metadata": {
        "id": "lQ7p1i06c8kt",
        "outputId": "3b9aabd5-2711-447a-c7b7-e059900fb9f7",
        "colab": {
          "base_uri": "https://localhost:8080/"
        }
      },
      "execution_count": 106,
      "outputs": [
        {
          "output_type": "execute_result",
          "data": {
            "text/plain": [
              "np.int64(14)"
            ]
          },
          "metadata": {},
          "execution_count": 106
        }
      ]
    },
    {
      "cell_type": "code",
      "source": [
        "#matmul works as a dot product/ inner product as well\n",
        "np.matmul(pl_array,pl_array)"
      ],
      "metadata": {
        "id": "zhNg5teigA6H",
        "outputId": "66d9d40b-82ca-442b-e9a0-8f672a893588",
        "colab": {
          "base_uri": "https://localhost:8080/"
        }
      },
      "execution_count": 107,
      "outputs": [
        {
          "output_type": "execute_result",
          "data": {
            "text/plain": [
              "np.int64(14)"
            ]
          },
          "metadata": {},
          "execution_count": 107
        }
      ]
    },
    {
      "cell_type": "code",
      "source": [
        "#use np.outer for outer product\n",
        "first_matrix = np.outer(pl_array,pl_array)\n",
        "first_matrix"
      ],
      "metadata": {
        "id": "8ONBvwbFhEfY",
        "outputId": "352d97eb-28d4-47d5-bfa6-22b567401127",
        "colab": {
          "base_uri": "https://localhost:8080/"
        }
      },
      "execution_count": 108,
      "outputs": [
        {
          "output_type": "execute_result",
          "data": {
            "text/plain": [
              "array([[1, 2, 3],\n",
              "       [2, 4, 6],\n",
              "       [3, 6, 9]])"
            ]
          },
          "metadata": {},
          "execution_count": 108
        }
      ]
    },
    {
      "cell_type": "markdown",
      "source": [
        "### Array Creation\n",
        "\n",
        "One of the great things about computers is that they can do tedious tasks for me, like make a 100 by 100 matrix."
      ],
      "metadata": {
        "id": "b7ravYUmi59e"
      }
    },
    {
      "cell_type": "code",
      "source": [
        "#feel the power\n",
        "some_ones = np.ones((100,100))\n",
        "some_ones"
      ],
      "metadata": {
        "id": "6GXoMBvUkmfh",
        "outputId": "364e8ed9-0e41-4a23-a3e4-83b5b36bad38",
        "colab": {
          "base_uri": "https://localhost:8080/"
        }
      },
      "execution_count": 109,
      "outputs": [
        {
          "output_type": "execute_result",
          "data": {
            "text/plain": [
              "array([[1., 1., 1., ..., 1., 1., 1.],\n",
              "       [1., 1., 1., ..., 1., 1., 1.],\n",
              "       [1., 1., 1., ..., 1., 1., 1.],\n",
              "       ...,\n",
              "       [1., 1., 1., ..., 1., 1., 1.],\n",
              "       [1., 1., 1., ..., 1., 1., 1.],\n",
              "       [1., 1., 1., ..., 1., 1., 1.]])"
            ]
          },
          "metadata": {},
          "execution_count": 109
        }
      ]
    },
    {
      "cell_type": "code",
      "source": [
        "#zeros works the same way, except with zeros\n",
        "np.zeros(3)"
      ],
      "metadata": {
        "id": "MaOPiDRQk2ZX",
        "outputId": "e6ab06ec-e8a4-4299-d256-a7a08bac4bea",
        "colab": {
          "base_uri": "https://localhost:8080/"
        }
      },
      "execution_count": 110,
      "outputs": [
        {
          "output_type": "execute_result",
          "data": {
            "text/plain": [
              "array([0., 0., 0.])"
            ]
          },
          "metadata": {},
          "execution_count": 110
        }
      ]
    },
    {
      "cell_type": "markdown",
      "source": [
        "Here are examples of other ways to make arrays. You can find even more [here](https://numpy.org/doc/stable/reference/routines.array-creation.html)."
      ],
      "metadata": {
        "id": "vr3rE7ROlWZe"
      }
    },
    {
      "cell_type": "code",
      "source": [
        "#creates an array of 21 values, evenly spaced from -10 to 10, inclusive\n",
        "#notice how it always generates floats\n",
        "np.linspace(-10,10,21)"
      ],
      "metadata": {
        "id": "dR137gollgY8",
        "outputId": "7d360e27-cb2e-49ed-94ca-c377468e014b",
        "colab": {
          "base_uri": "https://localhost:8080/"
        }
      },
      "execution_count": 111,
      "outputs": [
        {
          "output_type": "execute_result",
          "data": {
            "text/plain": [
              "array([-10.,  -9.,  -8.,  -7.,  -6.,  -5.,  -4.,  -3.,  -2.,  -1.,   0.,\n",
              "         1.,   2.,   3.,   4.,   5.,   6.,   7.,   8.,   9.,  10.])"
            ]
          },
          "metadata": {},
          "execution_count": 111
        }
      ]
    },
    {
      "cell_type": "code",
      "source": [
        "#also creates evely spaced values over a specificed range.\n",
        "#similar to linspace, but less stable, and requires less inputs\n",
        "#sometimes it generates floats, sometimes it generates ints\n",
        "x_array = np.arange(10)\n",
        "x_array"
      ],
      "metadata": {
        "id": "MIKaa4nimBBc",
        "outputId": "a82d58d6-5ba9-4562-effd-e07c68d04ec9",
        "colab": {
          "base_uri": "https://localhost:8080/"
        }
      },
      "execution_count": 112,
      "outputs": [
        {
          "output_type": "execute_result",
          "data": {
            "text/plain": [
              "array([0, 1, 2, 3, 4, 5, 6, 7, 8, 9])"
            ]
          },
          "metadata": {},
          "execution_count": 112
        }
      ]
    },
    {
      "cell_type": "code",
      "source": [
        "#makes an array of 15 4s\n",
        "np.repeat(4,15)"
      ],
      "metadata": {
        "id": "PJAWfZ91mZoI",
        "outputId": "a59fd728-ab2c-4324-e7db-23bc9cb4f4fc",
        "colab": {
          "base_uri": "https://localhost:8080/"
        }
      },
      "execution_count": 113,
      "outputs": [
        {
          "output_type": "execute_result",
          "data": {
            "text/plain": [
              "array([4, 4, 4, 4, 4, 4, 4, 4, 4, 4, 4, 4, 4, 4, 4])"
            ]
          },
          "metadata": {},
          "execution_count": 113
        }
      ]
    },
    {
      "cell_type": "markdown",
      "source": [
        "**Task7**:\n",
        "\n",
        "Make an array from 87 to 104 (inclusive) with exactly 50 entries."
      ],
      "metadata": {
        "id": "HkRdH9nXVN1e"
      }
    },
    {
      "cell_type": "code",
      "source": [
        "#ANSWER7\n",
        "np.linspace(87,104,50)\n"
      ],
      "metadata": {
        "id": "wjQQMzlrWx_N",
        "outputId": "ef2cf407-5d03-4bda-ed66-2d7691984385",
        "colab": {
          "base_uri": "https://localhost:8080/"
        }
      },
      "execution_count": 114,
      "outputs": [
        {
          "output_type": "execute_result",
          "data": {
            "text/plain": [
              "array([ 87.        ,  87.34693878,  87.69387755,  88.04081633,\n",
              "        88.3877551 ,  88.73469388,  89.08163265,  89.42857143,\n",
              "        89.7755102 ,  90.12244898,  90.46938776,  90.81632653,\n",
              "        91.16326531,  91.51020408,  91.85714286,  92.20408163,\n",
              "        92.55102041,  92.89795918,  93.24489796,  93.59183673,\n",
              "        93.93877551,  94.28571429,  94.63265306,  94.97959184,\n",
              "        95.32653061,  95.67346939,  96.02040816,  96.36734694,\n",
              "        96.71428571,  97.06122449,  97.40816327,  97.75510204,\n",
              "        98.10204082,  98.44897959,  98.79591837,  99.14285714,\n",
              "        99.48979592,  99.83673469, 100.18367347, 100.53061224,\n",
              "       100.87755102, 101.2244898 , 101.57142857, 101.91836735,\n",
              "       102.26530612, 102.6122449 , 102.95918367, 103.30612245,\n",
              "       103.65306122, 104.        ])"
            ]
          },
          "metadata": {},
          "execution_count": 114
        }
      ]
    },
    {
      "cell_type": "markdown",
      "source": [
        "Splicing works the same for arrays and lists."
      ],
      "metadata": {
        "id": "D_HYihKoXXDL"
      }
    },
    {
      "cell_type": "markdown",
      "source": [
        "**Task8**:\n",
        "\n",
        "Grab the first through fifth entries of x_array."
      ],
      "metadata": {
        "id": "YopMOoy-Xap9"
      }
    },
    {
      "cell_type": "code",
      "source": [
        "#ANSWER8\n",
        "\n"
      ],
      "metadata": {
        "id": "yxCDEKDGXkvw"
      },
      "execution_count": 115,
      "outputs": []
    },
    {
      "cell_type": "markdown",
      "source": [
        "### Vectorized Operations\n",
        "\n",
        "Numpy arrays come with many built in methods, many of which are vectorized operations. All you need to know about 'vectorized operations' is that: they are usually much faster than any other option, and how to use them.\n",
        "\n",
        "There are two examples below. You can see others [here](https://numpy.org/doc/stable/reference/arrays.ndarray.html#array-methods)."
      ],
      "metadata": {
        "id": "zQgQJUEdjg-7"
      }
    },
    {
      "cell_type": "code",
      "source": [
        "#finds the most positive (largest) value in the array\n",
        "x_array.max()"
      ],
      "metadata": {
        "id": "LRMtaF4Uj-ol",
        "outputId": "fd451376-6200-4b2d-bd18-259574a158f7",
        "colab": {
          "base_uri": "https://localhost:8080/"
        }
      },
      "execution_count": 116,
      "outputs": [
        {
          "output_type": "execute_result",
          "data": {
            "text/plain": [
              "np.int64(9)"
            ]
          },
          "metadata": {},
          "execution_count": 116
        }
      ]
    },
    {
      "cell_type": "code",
      "source": [
        "#finds the average of the values in x_array\n",
        "x_array.mean()"
      ],
      "metadata": {
        "id": "Mul5TjVGj3bX",
        "outputId": "e6f60899-ca74-4a3f-a60a-b6a5cd942442",
        "colab": {
          "base_uri": "https://localhost:8080/"
        }
      },
      "execution_count": 117,
      "outputs": [
        {
          "output_type": "execute_result",
          "data": {
            "text/plain": [
              "np.float64(4.5)"
            ]
          },
          "metadata": {},
          "execution_count": 117
        }
      ]
    },
    {
      "cell_type": "markdown",
      "source": [
        "## Pandas Dataframes\n",
        "\n",
        "These are the data structure we will most often directly manipulate in this class. Paying special attention to this section will make your life easier later.\n",
        "\n",
        "Like numpy, we need to import pandas, and we often use an abreviation."
      ],
      "metadata": {
        "id": "vkWoeIclXkE3"
      }
    },
    {
      "cell_type": "code",
      "source": [
        "import pandas as pd"
      ],
      "metadata": {
        "id": "vpng4PWJY8dF"
      },
      "execution_count": 118,
      "outputs": []
    },
    {
      "cell_type": "markdown",
      "source": [
        "We can make a pandas dataframe from any numpy array."
      ],
      "metadata": {
        "id": "dSkZCWaRY_x0"
      }
    },
    {
      "cell_type": "code",
      "source": [
        "x_df = pd.DataFrame(x_array)\n",
        "x_df"
      ],
      "metadata": {
        "id": "SqwgQYkRZUIt",
        "outputId": "2fdb709e-b037-4f8f-a5b3-5793f739f4c7",
        "colab": {
          "base_uri": "https://localhost:8080/",
          "height": 363
        }
      },
      "execution_count": 119,
      "outputs": [
        {
          "output_type": "execute_result",
          "data": {
            "text/plain": [
              "   0\n",
              "0  0\n",
              "1  1\n",
              "2  2\n",
              "3  3\n",
              "4  4\n",
              "5  5\n",
              "6  6\n",
              "7  7\n",
              "8  8\n",
              "9  9"
            ],
            "text/html": [
              "\n",
              "  <div id=\"df-e5e996ab-297e-4a97-8a15-e08a10228935\" class=\"colab-df-container\">\n",
              "    <div>\n",
              "<style scoped>\n",
              "    .dataframe tbody tr th:only-of-type {\n",
              "        vertical-align: middle;\n",
              "    }\n",
              "\n",
              "    .dataframe tbody tr th {\n",
              "        vertical-align: top;\n",
              "    }\n",
              "\n",
              "    .dataframe thead th {\n",
              "        text-align: right;\n",
              "    }\n",
              "</style>\n",
              "<table border=\"1\" class=\"dataframe\">\n",
              "  <thead>\n",
              "    <tr style=\"text-align: right;\">\n",
              "      <th></th>\n",
              "      <th>0</th>\n",
              "    </tr>\n",
              "  </thead>\n",
              "  <tbody>\n",
              "    <tr>\n",
              "      <th>0</th>\n",
              "      <td>0</td>\n",
              "    </tr>\n",
              "    <tr>\n",
              "      <th>1</th>\n",
              "      <td>1</td>\n",
              "    </tr>\n",
              "    <tr>\n",
              "      <th>2</th>\n",
              "      <td>2</td>\n",
              "    </tr>\n",
              "    <tr>\n",
              "      <th>3</th>\n",
              "      <td>3</td>\n",
              "    </tr>\n",
              "    <tr>\n",
              "      <th>4</th>\n",
              "      <td>4</td>\n",
              "    </tr>\n",
              "    <tr>\n",
              "      <th>5</th>\n",
              "      <td>5</td>\n",
              "    </tr>\n",
              "    <tr>\n",
              "      <th>6</th>\n",
              "      <td>6</td>\n",
              "    </tr>\n",
              "    <tr>\n",
              "      <th>7</th>\n",
              "      <td>7</td>\n",
              "    </tr>\n",
              "    <tr>\n",
              "      <th>8</th>\n",
              "      <td>8</td>\n",
              "    </tr>\n",
              "    <tr>\n",
              "      <th>9</th>\n",
              "      <td>9</td>\n",
              "    </tr>\n",
              "  </tbody>\n",
              "</table>\n",
              "</div>\n",
              "    <div class=\"colab-df-buttons\">\n",
              "\n",
              "  <div class=\"colab-df-container\">\n",
              "    <button class=\"colab-df-convert\" onclick=\"convertToInteractive('df-e5e996ab-297e-4a97-8a15-e08a10228935')\"\n",
              "            title=\"Convert this dataframe to an interactive table.\"\n",
              "            style=\"display:none;\">\n",
              "\n",
              "  <svg xmlns=\"http://www.w3.org/2000/svg\" height=\"24px\" viewBox=\"0 -960 960 960\">\n",
              "    <path d=\"M120-120v-720h720v720H120Zm60-500h600v-160H180v160Zm220 220h160v-160H400v160Zm0 220h160v-160H400v160ZM180-400h160v-160H180v160Zm440 0h160v-160H620v160ZM180-180h160v-160H180v160Zm440 0h160v-160H620v160Z\"/>\n",
              "  </svg>\n",
              "    </button>\n",
              "\n",
              "  <style>\n",
              "    .colab-df-container {\n",
              "      display:flex;\n",
              "      gap: 12px;\n",
              "    }\n",
              "\n",
              "    .colab-df-convert {\n",
              "      background-color: #E8F0FE;\n",
              "      border: none;\n",
              "      border-radius: 50%;\n",
              "      cursor: pointer;\n",
              "      display: none;\n",
              "      fill: #1967D2;\n",
              "      height: 32px;\n",
              "      padding: 0 0 0 0;\n",
              "      width: 32px;\n",
              "    }\n",
              "\n",
              "    .colab-df-convert:hover {\n",
              "      background-color: #E2EBFA;\n",
              "      box-shadow: 0px 1px 2px rgba(60, 64, 67, 0.3), 0px 1px 3px 1px rgba(60, 64, 67, 0.15);\n",
              "      fill: #174EA6;\n",
              "    }\n",
              "\n",
              "    .colab-df-buttons div {\n",
              "      margin-bottom: 4px;\n",
              "    }\n",
              "\n",
              "    [theme=dark] .colab-df-convert {\n",
              "      background-color: #3B4455;\n",
              "      fill: #D2E3FC;\n",
              "    }\n",
              "\n",
              "    [theme=dark] .colab-df-convert:hover {\n",
              "      background-color: #434B5C;\n",
              "      box-shadow: 0px 1px 3px 1px rgba(0, 0, 0, 0.15);\n",
              "      filter: drop-shadow(0px 1px 2px rgba(0, 0, 0, 0.3));\n",
              "      fill: #FFFFFF;\n",
              "    }\n",
              "  </style>\n",
              "\n",
              "    <script>\n",
              "      const buttonEl =\n",
              "        document.querySelector('#df-e5e996ab-297e-4a97-8a15-e08a10228935 button.colab-df-convert');\n",
              "      buttonEl.style.display =\n",
              "        google.colab.kernel.accessAllowed ? 'block' : 'none';\n",
              "\n",
              "      async function convertToInteractive(key) {\n",
              "        const element = document.querySelector('#df-e5e996ab-297e-4a97-8a15-e08a10228935');\n",
              "        const dataTable =\n",
              "          await google.colab.kernel.invokeFunction('convertToInteractive',\n",
              "                                                    [key], {});\n",
              "        if (!dataTable) return;\n",
              "\n",
              "        const docLinkHtml = 'Like what you see? Visit the ' +\n",
              "          '<a target=\"_blank\" href=https://colab.research.google.com/notebooks/data_table.ipynb>data table notebook</a>'\n",
              "          + ' to learn more about interactive tables.';\n",
              "        element.innerHTML = '';\n",
              "        dataTable['output_type'] = 'display_data';\n",
              "        await google.colab.output.renderOutput(dataTable, element);\n",
              "        const docLink = document.createElement('div');\n",
              "        docLink.innerHTML = docLinkHtml;\n",
              "        element.appendChild(docLink);\n",
              "      }\n",
              "    </script>\n",
              "  </div>\n",
              "\n",
              "\n",
              "    <div id=\"df-9c455c23-6577-4240-aa87-8d17573881a6\">\n",
              "      <button class=\"colab-df-quickchart\" onclick=\"quickchart('df-9c455c23-6577-4240-aa87-8d17573881a6')\"\n",
              "                title=\"Suggest charts\"\n",
              "                style=\"display:none;\">\n",
              "\n",
              "<svg xmlns=\"http://www.w3.org/2000/svg\" height=\"24px\"viewBox=\"0 0 24 24\"\n",
              "     width=\"24px\">\n",
              "    <g>\n",
              "        <path d=\"M19 3H5c-1.1 0-2 .9-2 2v14c0 1.1.9 2 2 2h14c1.1 0 2-.9 2-2V5c0-1.1-.9-2-2-2zM9 17H7v-7h2v7zm4 0h-2V7h2v10zm4 0h-2v-4h2v4z\"/>\n",
              "    </g>\n",
              "</svg>\n",
              "      </button>\n",
              "\n",
              "<style>\n",
              "  .colab-df-quickchart {\n",
              "      --bg-color: #E8F0FE;\n",
              "      --fill-color: #1967D2;\n",
              "      --hover-bg-color: #E2EBFA;\n",
              "      --hover-fill-color: #174EA6;\n",
              "      --disabled-fill-color: #AAA;\n",
              "      --disabled-bg-color: #DDD;\n",
              "  }\n",
              "\n",
              "  [theme=dark] .colab-df-quickchart {\n",
              "      --bg-color: #3B4455;\n",
              "      --fill-color: #D2E3FC;\n",
              "      --hover-bg-color: #434B5C;\n",
              "      --hover-fill-color: #FFFFFF;\n",
              "      --disabled-bg-color: #3B4455;\n",
              "      --disabled-fill-color: #666;\n",
              "  }\n",
              "\n",
              "  .colab-df-quickchart {\n",
              "    background-color: var(--bg-color);\n",
              "    border: none;\n",
              "    border-radius: 50%;\n",
              "    cursor: pointer;\n",
              "    display: none;\n",
              "    fill: var(--fill-color);\n",
              "    height: 32px;\n",
              "    padding: 0;\n",
              "    width: 32px;\n",
              "  }\n",
              "\n",
              "  .colab-df-quickchart:hover {\n",
              "    background-color: var(--hover-bg-color);\n",
              "    box-shadow: 0 1px 2px rgba(60, 64, 67, 0.3), 0 1px 3px 1px rgba(60, 64, 67, 0.15);\n",
              "    fill: var(--button-hover-fill-color);\n",
              "  }\n",
              "\n",
              "  .colab-df-quickchart-complete:disabled,\n",
              "  .colab-df-quickchart-complete:disabled:hover {\n",
              "    background-color: var(--disabled-bg-color);\n",
              "    fill: var(--disabled-fill-color);\n",
              "    box-shadow: none;\n",
              "  }\n",
              "\n",
              "  .colab-df-spinner {\n",
              "    border: 2px solid var(--fill-color);\n",
              "    border-color: transparent;\n",
              "    border-bottom-color: var(--fill-color);\n",
              "    animation:\n",
              "      spin 1s steps(1) infinite;\n",
              "  }\n",
              "\n",
              "  @keyframes spin {\n",
              "    0% {\n",
              "      border-color: transparent;\n",
              "      border-bottom-color: var(--fill-color);\n",
              "      border-left-color: var(--fill-color);\n",
              "    }\n",
              "    20% {\n",
              "      border-color: transparent;\n",
              "      border-left-color: var(--fill-color);\n",
              "      border-top-color: var(--fill-color);\n",
              "    }\n",
              "    30% {\n",
              "      border-color: transparent;\n",
              "      border-left-color: var(--fill-color);\n",
              "      border-top-color: var(--fill-color);\n",
              "      border-right-color: var(--fill-color);\n",
              "    }\n",
              "    40% {\n",
              "      border-color: transparent;\n",
              "      border-right-color: var(--fill-color);\n",
              "      border-top-color: var(--fill-color);\n",
              "    }\n",
              "    60% {\n",
              "      border-color: transparent;\n",
              "      border-right-color: var(--fill-color);\n",
              "    }\n",
              "    80% {\n",
              "      border-color: transparent;\n",
              "      border-right-color: var(--fill-color);\n",
              "      border-bottom-color: var(--fill-color);\n",
              "    }\n",
              "    90% {\n",
              "      border-color: transparent;\n",
              "      border-bottom-color: var(--fill-color);\n",
              "    }\n",
              "  }\n",
              "</style>\n",
              "\n",
              "      <script>\n",
              "        async function quickchart(key) {\n",
              "          const quickchartButtonEl =\n",
              "            document.querySelector('#' + key + ' button');\n",
              "          quickchartButtonEl.disabled = true;  // To prevent multiple clicks.\n",
              "          quickchartButtonEl.classList.add('colab-df-spinner');\n",
              "          try {\n",
              "            const charts = await google.colab.kernel.invokeFunction(\n",
              "                'suggestCharts', [key], {});\n",
              "          } catch (error) {\n",
              "            console.error('Error during call to suggestCharts:', error);\n",
              "          }\n",
              "          quickchartButtonEl.classList.remove('colab-df-spinner');\n",
              "          quickchartButtonEl.classList.add('colab-df-quickchart-complete');\n",
              "        }\n",
              "        (() => {\n",
              "          let quickchartButtonEl =\n",
              "            document.querySelector('#df-9c455c23-6577-4240-aa87-8d17573881a6 button');\n",
              "          quickchartButtonEl.style.display =\n",
              "            google.colab.kernel.accessAllowed ? 'block' : 'none';\n",
              "        })();\n",
              "      </script>\n",
              "    </div>\n",
              "    </div>\n",
              "  </div>\n"
            ],
            "application/vnd.google.colaboratory.intrinsic+json": {
              "type": "dataframe",
              "variable_name": "x_df",
              "summary": "{\n  \"name\": \"x_df\",\n  \"rows\": 10,\n  \"fields\": [\n    {\n      \"column\": 0,\n      \"properties\": {\n        \"dtype\": \"number\",\n        \"std\": 3,\n        \"min\": 0,\n        \"max\": 9,\n        \"num_unique_values\": 10,\n        \"samples\": [\n          8,\n          1,\n          5\n        ],\n        \"semantic_type\": \"\",\n        \"description\": \"\"\n      }\n    }\n  ]\n}"
            }
          },
          "metadata": {},
          "execution_count": 119
        }
      ]
    },
    {
      "cell_type": "markdown",
      "source": [
        "Notice how the one dimensional array was turned into a vertical column. Pandas dataframes frame (ahem) data around columns and column labels. There are row labels too, and these are refered to as indicies."
      ],
      "metadata": {
        "id": "ZCcmzU8TZmIU"
      }
    },
    {
      "cell_type": "code",
      "source": [
        "some_ones_df = pd.DataFrame(some_ones)\n",
        "some_ones_df"
      ],
      "metadata": {
        "id": "p8_JoDnIZFMD",
        "outputId": "46d11ca6-adff-4215-8bbc-dd56056933e8",
        "colab": {
          "base_uri": "https://localhost:8080/",
          "height": 424
        }
      },
      "execution_count": 120,
      "outputs": [
        {
          "output_type": "execute_result",
          "data": {
            "text/plain": [
              "     0    1    2    3    4    5    6    7    8    9   ...   90   91   92   93  \\\n",
              "0   1.0  1.0  1.0  1.0  1.0  1.0  1.0  1.0  1.0  1.0  ...  1.0  1.0  1.0  1.0   \n",
              "1   1.0  1.0  1.0  1.0  1.0  1.0  1.0  1.0  1.0  1.0  ...  1.0  1.0  1.0  1.0   \n",
              "2   1.0  1.0  1.0  1.0  1.0  1.0  1.0  1.0  1.0  1.0  ...  1.0  1.0  1.0  1.0   \n",
              "3   1.0  1.0  1.0  1.0  1.0  1.0  1.0  1.0  1.0  1.0  ...  1.0  1.0  1.0  1.0   \n",
              "4   1.0  1.0  1.0  1.0  1.0  1.0  1.0  1.0  1.0  1.0  ...  1.0  1.0  1.0  1.0   \n",
              "..  ...  ...  ...  ...  ...  ...  ...  ...  ...  ...  ...  ...  ...  ...  ...   \n",
              "95  1.0  1.0  1.0  1.0  1.0  1.0  1.0  1.0  1.0  1.0  ...  1.0  1.0  1.0  1.0   \n",
              "96  1.0  1.0  1.0  1.0  1.0  1.0  1.0  1.0  1.0  1.0  ...  1.0  1.0  1.0  1.0   \n",
              "97  1.0  1.0  1.0  1.0  1.0  1.0  1.0  1.0  1.0  1.0  ...  1.0  1.0  1.0  1.0   \n",
              "98  1.0  1.0  1.0  1.0  1.0  1.0  1.0  1.0  1.0  1.0  ...  1.0  1.0  1.0  1.0   \n",
              "99  1.0  1.0  1.0  1.0  1.0  1.0  1.0  1.0  1.0  1.0  ...  1.0  1.0  1.0  1.0   \n",
              "\n",
              "     94   95   96   97   98   99  \n",
              "0   1.0  1.0  1.0  1.0  1.0  1.0  \n",
              "1   1.0  1.0  1.0  1.0  1.0  1.0  \n",
              "2   1.0  1.0  1.0  1.0  1.0  1.0  \n",
              "3   1.0  1.0  1.0  1.0  1.0  1.0  \n",
              "4   1.0  1.0  1.0  1.0  1.0  1.0  \n",
              "..  ...  ...  ...  ...  ...  ...  \n",
              "95  1.0  1.0  1.0  1.0  1.0  1.0  \n",
              "96  1.0  1.0  1.0  1.0  1.0  1.0  \n",
              "97  1.0  1.0  1.0  1.0  1.0  1.0  \n",
              "98  1.0  1.0  1.0  1.0  1.0  1.0  \n",
              "99  1.0  1.0  1.0  1.0  1.0  1.0  \n",
              "\n",
              "[100 rows x 100 columns]"
            ],
            "text/html": [
              "\n",
              "  <div id=\"df-f7f21979-f868-4dad-8404-67ab310730cf\" class=\"colab-df-container\">\n",
              "    <div>\n",
              "<style scoped>\n",
              "    .dataframe tbody tr th:only-of-type {\n",
              "        vertical-align: middle;\n",
              "    }\n",
              "\n",
              "    .dataframe tbody tr th {\n",
              "        vertical-align: top;\n",
              "    }\n",
              "\n",
              "    .dataframe thead th {\n",
              "        text-align: right;\n",
              "    }\n",
              "</style>\n",
              "<table border=\"1\" class=\"dataframe\">\n",
              "  <thead>\n",
              "    <tr style=\"text-align: right;\">\n",
              "      <th></th>\n",
              "      <th>0</th>\n",
              "      <th>1</th>\n",
              "      <th>2</th>\n",
              "      <th>3</th>\n",
              "      <th>4</th>\n",
              "      <th>5</th>\n",
              "      <th>6</th>\n",
              "      <th>7</th>\n",
              "      <th>8</th>\n",
              "      <th>9</th>\n",
              "      <th>...</th>\n",
              "      <th>90</th>\n",
              "      <th>91</th>\n",
              "      <th>92</th>\n",
              "      <th>93</th>\n",
              "      <th>94</th>\n",
              "      <th>95</th>\n",
              "      <th>96</th>\n",
              "      <th>97</th>\n",
              "      <th>98</th>\n",
              "      <th>99</th>\n",
              "    </tr>\n",
              "  </thead>\n",
              "  <tbody>\n",
              "    <tr>\n",
              "      <th>0</th>\n",
              "      <td>1.0</td>\n",
              "      <td>1.0</td>\n",
              "      <td>1.0</td>\n",
              "      <td>1.0</td>\n",
              "      <td>1.0</td>\n",
              "      <td>1.0</td>\n",
              "      <td>1.0</td>\n",
              "      <td>1.0</td>\n",
              "      <td>1.0</td>\n",
              "      <td>1.0</td>\n",
              "      <td>...</td>\n",
              "      <td>1.0</td>\n",
              "      <td>1.0</td>\n",
              "      <td>1.0</td>\n",
              "      <td>1.0</td>\n",
              "      <td>1.0</td>\n",
              "      <td>1.0</td>\n",
              "      <td>1.0</td>\n",
              "      <td>1.0</td>\n",
              "      <td>1.0</td>\n",
              "      <td>1.0</td>\n",
              "    </tr>\n",
              "    <tr>\n",
              "      <th>1</th>\n",
              "      <td>1.0</td>\n",
              "      <td>1.0</td>\n",
              "      <td>1.0</td>\n",
              "      <td>1.0</td>\n",
              "      <td>1.0</td>\n",
              "      <td>1.0</td>\n",
              "      <td>1.0</td>\n",
              "      <td>1.0</td>\n",
              "      <td>1.0</td>\n",
              "      <td>1.0</td>\n",
              "      <td>...</td>\n",
              "      <td>1.0</td>\n",
              "      <td>1.0</td>\n",
              "      <td>1.0</td>\n",
              "      <td>1.0</td>\n",
              "      <td>1.0</td>\n",
              "      <td>1.0</td>\n",
              "      <td>1.0</td>\n",
              "      <td>1.0</td>\n",
              "      <td>1.0</td>\n",
              "      <td>1.0</td>\n",
              "    </tr>\n",
              "    <tr>\n",
              "      <th>2</th>\n",
              "      <td>1.0</td>\n",
              "      <td>1.0</td>\n",
              "      <td>1.0</td>\n",
              "      <td>1.0</td>\n",
              "      <td>1.0</td>\n",
              "      <td>1.0</td>\n",
              "      <td>1.0</td>\n",
              "      <td>1.0</td>\n",
              "      <td>1.0</td>\n",
              "      <td>1.0</td>\n",
              "      <td>...</td>\n",
              "      <td>1.0</td>\n",
              "      <td>1.0</td>\n",
              "      <td>1.0</td>\n",
              "      <td>1.0</td>\n",
              "      <td>1.0</td>\n",
              "      <td>1.0</td>\n",
              "      <td>1.0</td>\n",
              "      <td>1.0</td>\n",
              "      <td>1.0</td>\n",
              "      <td>1.0</td>\n",
              "    </tr>\n",
              "    <tr>\n",
              "      <th>3</th>\n",
              "      <td>1.0</td>\n",
              "      <td>1.0</td>\n",
              "      <td>1.0</td>\n",
              "      <td>1.0</td>\n",
              "      <td>1.0</td>\n",
              "      <td>1.0</td>\n",
              "      <td>1.0</td>\n",
              "      <td>1.0</td>\n",
              "      <td>1.0</td>\n",
              "      <td>1.0</td>\n",
              "      <td>...</td>\n",
              "      <td>1.0</td>\n",
              "      <td>1.0</td>\n",
              "      <td>1.0</td>\n",
              "      <td>1.0</td>\n",
              "      <td>1.0</td>\n",
              "      <td>1.0</td>\n",
              "      <td>1.0</td>\n",
              "      <td>1.0</td>\n",
              "      <td>1.0</td>\n",
              "      <td>1.0</td>\n",
              "    </tr>\n",
              "    <tr>\n",
              "      <th>4</th>\n",
              "      <td>1.0</td>\n",
              "      <td>1.0</td>\n",
              "      <td>1.0</td>\n",
              "      <td>1.0</td>\n",
              "      <td>1.0</td>\n",
              "      <td>1.0</td>\n",
              "      <td>1.0</td>\n",
              "      <td>1.0</td>\n",
              "      <td>1.0</td>\n",
              "      <td>1.0</td>\n",
              "      <td>...</td>\n",
              "      <td>1.0</td>\n",
              "      <td>1.0</td>\n",
              "      <td>1.0</td>\n",
              "      <td>1.0</td>\n",
              "      <td>1.0</td>\n",
              "      <td>1.0</td>\n",
              "      <td>1.0</td>\n",
              "      <td>1.0</td>\n",
              "      <td>1.0</td>\n",
              "      <td>1.0</td>\n",
              "    </tr>\n",
              "    <tr>\n",
              "      <th>...</th>\n",
              "      <td>...</td>\n",
              "      <td>...</td>\n",
              "      <td>...</td>\n",
              "      <td>...</td>\n",
              "      <td>...</td>\n",
              "      <td>...</td>\n",
              "      <td>...</td>\n",
              "      <td>...</td>\n",
              "      <td>...</td>\n",
              "      <td>...</td>\n",
              "      <td>...</td>\n",
              "      <td>...</td>\n",
              "      <td>...</td>\n",
              "      <td>...</td>\n",
              "      <td>...</td>\n",
              "      <td>...</td>\n",
              "      <td>...</td>\n",
              "      <td>...</td>\n",
              "      <td>...</td>\n",
              "      <td>...</td>\n",
              "      <td>...</td>\n",
              "    </tr>\n",
              "    <tr>\n",
              "      <th>95</th>\n",
              "      <td>1.0</td>\n",
              "      <td>1.0</td>\n",
              "      <td>1.0</td>\n",
              "      <td>1.0</td>\n",
              "      <td>1.0</td>\n",
              "      <td>1.0</td>\n",
              "      <td>1.0</td>\n",
              "      <td>1.0</td>\n",
              "      <td>1.0</td>\n",
              "      <td>1.0</td>\n",
              "      <td>...</td>\n",
              "      <td>1.0</td>\n",
              "      <td>1.0</td>\n",
              "      <td>1.0</td>\n",
              "      <td>1.0</td>\n",
              "      <td>1.0</td>\n",
              "      <td>1.0</td>\n",
              "      <td>1.0</td>\n",
              "      <td>1.0</td>\n",
              "      <td>1.0</td>\n",
              "      <td>1.0</td>\n",
              "    </tr>\n",
              "    <tr>\n",
              "      <th>96</th>\n",
              "      <td>1.0</td>\n",
              "      <td>1.0</td>\n",
              "      <td>1.0</td>\n",
              "      <td>1.0</td>\n",
              "      <td>1.0</td>\n",
              "      <td>1.0</td>\n",
              "      <td>1.0</td>\n",
              "      <td>1.0</td>\n",
              "      <td>1.0</td>\n",
              "      <td>1.0</td>\n",
              "      <td>...</td>\n",
              "      <td>1.0</td>\n",
              "      <td>1.0</td>\n",
              "      <td>1.0</td>\n",
              "      <td>1.0</td>\n",
              "      <td>1.0</td>\n",
              "      <td>1.0</td>\n",
              "      <td>1.0</td>\n",
              "      <td>1.0</td>\n",
              "      <td>1.0</td>\n",
              "      <td>1.0</td>\n",
              "    </tr>\n",
              "    <tr>\n",
              "      <th>97</th>\n",
              "      <td>1.0</td>\n",
              "      <td>1.0</td>\n",
              "      <td>1.0</td>\n",
              "      <td>1.0</td>\n",
              "      <td>1.0</td>\n",
              "      <td>1.0</td>\n",
              "      <td>1.0</td>\n",
              "      <td>1.0</td>\n",
              "      <td>1.0</td>\n",
              "      <td>1.0</td>\n",
              "      <td>...</td>\n",
              "      <td>1.0</td>\n",
              "      <td>1.0</td>\n",
              "      <td>1.0</td>\n",
              "      <td>1.0</td>\n",
              "      <td>1.0</td>\n",
              "      <td>1.0</td>\n",
              "      <td>1.0</td>\n",
              "      <td>1.0</td>\n",
              "      <td>1.0</td>\n",
              "      <td>1.0</td>\n",
              "    </tr>\n",
              "    <tr>\n",
              "      <th>98</th>\n",
              "      <td>1.0</td>\n",
              "      <td>1.0</td>\n",
              "      <td>1.0</td>\n",
              "      <td>1.0</td>\n",
              "      <td>1.0</td>\n",
              "      <td>1.0</td>\n",
              "      <td>1.0</td>\n",
              "      <td>1.0</td>\n",
              "      <td>1.0</td>\n",
              "      <td>1.0</td>\n",
              "      <td>...</td>\n",
              "      <td>1.0</td>\n",
              "      <td>1.0</td>\n",
              "      <td>1.0</td>\n",
              "      <td>1.0</td>\n",
              "      <td>1.0</td>\n",
              "      <td>1.0</td>\n",
              "      <td>1.0</td>\n",
              "      <td>1.0</td>\n",
              "      <td>1.0</td>\n",
              "      <td>1.0</td>\n",
              "    </tr>\n",
              "    <tr>\n",
              "      <th>99</th>\n",
              "      <td>1.0</td>\n",
              "      <td>1.0</td>\n",
              "      <td>1.0</td>\n",
              "      <td>1.0</td>\n",
              "      <td>1.0</td>\n",
              "      <td>1.0</td>\n",
              "      <td>1.0</td>\n",
              "      <td>1.0</td>\n",
              "      <td>1.0</td>\n",
              "      <td>1.0</td>\n",
              "      <td>...</td>\n",
              "      <td>1.0</td>\n",
              "      <td>1.0</td>\n",
              "      <td>1.0</td>\n",
              "      <td>1.0</td>\n",
              "      <td>1.0</td>\n",
              "      <td>1.0</td>\n",
              "      <td>1.0</td>\n",
              "      <td>1.0</td>\n",
              "      <td>1.0</td>\n",
              "      <td>1.0</td>\n",
              "    </tr>\n",
              "  </tbody>\n",
              "</table>\n",
              "<p>100 rows × 100 columns</p>\n",
              "</div>\n",
              "    <div class=\"colab-df-buttons\">\n",
              "\n",
              "  <div class=\"colab-df-container\">\n",
              "    <button class=\"colab-df-convert\" onclick=\"convertToInteractive('df-f7f21979-f868-4dad-8404-67ab310730cf')\"\n",
              "            title=\"Convert this dataframe to an interactive table.\"\n",
              "            style=\"display:none;\">\n",
              "\n",
              "  <svg xmlns=\"http://www.w3.org/2000/svg\" height=\"24px\" viewBox=\"0 -960 960 960\">\n",
              "    <path d=\"M120-120v-720h720v720H120Zm60-500h600v-160H180v160Zm220 220h160v-160H400v160Zm0 220h160v-160H400v160ZM180-400h160v-160H180v160Zm440 0h160v-160H620v160ZM180-180h160v-160H180v160Zm440 0h160v-160H620v160Z\"/>\n",
              "  </svg>\n",
              "    </button>\n",
              "\n",
              "  <style>\n",
              "    .colab-df-container {\n",
              "      display:flex;\n",
              "      gap: 12px;\n",
              "    }\n",
              "\n",
              "    .colab-df-convert {\n",
              "      background-color: #E8F0FE;\n",
              "      border: none;\n",
              "      border-radius: 50%;\n",
              "      cursor: pointer;\n",
              "      display: none;\n",
              "      fill: #1967D2;\n",
              "      height: 32px;\n",
              "      padding: 0 0 0 0;\n",
              "      width: 32px;\n",
              "    }\n",
              "\n",
              "    .colab-df-convert:hover {\n",
              "      background-color: #E2EBFA;\n",
              "      box-shadow: 0px 1px 2px rgba(60, 64, 67, 0.3), 0px 1px 3px 1px rgba(60, 64, 67, 0.15);\n",
              "      fill: #174EA6;\n",
              "    }\n",
              "\n",
              "    .colab-df-buttons div {\n",
              "      margin-bottom: 4px;\n",
              "    }\n",
              "\n",
              "    [theme=dark] .colab-df-convert {\n",
              "      background-color: #3B4455;\n",
              "      fill: #D2E3FC;\n",
              "    }\n",
              "\n",
              "    [theme=dark] .colab-df-convert:hover {\n",
              "      background-color: #434B5C;\n",
              "      box-shadow: 0px 1px 3px 1px rgba(0, 0, 0, 0.15);\n",
              "      filter: drop-shadow(0px 1px 2px rgba(0, 0, 0, 0.3));\n",
              "      fill: #FFFFFF;\n",
              "    }\n",
              "  </style>\n",
              "\n",
              "    <script>\n",
              "      const buttonEl =\n",
              "        document.querySelector('#df-f7f21979-f868-4dad-8404-67ab310730cf button.colab-df-convert');\n",
              "      buttonEl.style.display =\n",
              "        google.colab.kernel.accessAllowed ? 'block' : 'none';\n",
              "\n",
              "      async function convertToInteractive(key) {\n",
              "        const element = document.querySelector('#df-f7f21979-f868-4dad-8404-67ab310730cf');\n",
              "        const dataTable =\n",
              "          await google.colab.kernel.invokeFunction('convertToInteractive',\n",
              "                                                    [key], {});\n",
              "        if (!dataTable) return;\n",
              "\n",
              "        const docLinkHtml = 'Like what you see? Visit the ' +\n",
              "          '<a target=\"_blank\" href=https://colab.research.google.com/notebooks/data_table.ipynb>data table notebook</a>'\n",
              "          + ' to learn more about interactive tables.';\n",
              "        element.innerHTML = '';\n",
              "        dataTable['output_type'] = 'display_data';\n",
              "        await google.colab.output.renderOutput(dataTable, element);\n",
              "        const docLink = document.createElement('div');\n",
              "        docLink.innerHTML = docLinkHtml;\n",
              "        element.appendChild(docLink);\n",
              "      }\n",
              "    </script>\n",
              "  </div>\n",
              "\n",
              "\n",
              "    <div id=\"df-458b0fcb-7fef-484e-9ee9-80226377b7cd\">\n",
              "      <button class=\"colab-df-quickchart\" onclick=\"quickchart('df-458b0fcb-7fef-484e-9ee9-80226377b7cd')\"\n",
              "                title=\"Suggest charts\"\n",
              "                style=\"display:none;\">\n",
              "\n",
              "<svg xmlns=\"http://www.w3.org/2000/svg\" height=\"24px\"viewBox=\"0 0 24 24\"\n",
              "     width=\"24px\">\n",
              "    <g>\n",
              "        <path d=\"M19 3H5c-1.1 0-2 .9-2 2v14c0 1.1.9 2 2 2h14c1.1 0 2-.9 2-2V5c0-1.1-.9-2-2-2zM9 17H7v-7h2v7zm4 0h-2V7h2v10zm4 0h-2v-4h2v4z\"/>\n",
              "    </g>\n",
              "</svg>\n",
              "      </button>\n",
              "\n",
              "<style>\n",
              "  .colab-df-quickchart {\n",
              "      --bg-color: #E8F0FE;\n",
              "      --fill-color: #1967D2;\n",
              "      --hover-bg-color: #E2EBFA;\n",
              "      --hover-fill-color: #174EA6;\n",
              "      --disabled-fill-color: #AAA;\n",
              "      --disabled-bg-color: #DDD;\n",
              "  }\n",
              "\n",
              "  [theme=dark] .colab-df-quickchart {\n",
              "      --bg-color: #3B4455;\n",
              "      --fill-color: #D2E3FC;\n",
              "      --hover-bg-color: #434B5C;\n",
              "      --hover-fill-color: #FFFFFF;\n",
              "      --disabled-bg-color: #3B4455;\n",
              "      --disabled-fill-color: #666;\n",
              "  }\n",
              "\n",
              "  .colab-df-quickchart {\n",
              "    background-color: var(--bg-color);\n",
              "    border: none;\n",
              "    border-radius: 50%;\n",
              "    cursor: pointer;\n",
              "    display: none;\n",
              "    fill: var(--fill-color);\n",
              "    height: 32px;\n",
              "    padding: 0;\n",
              "    width: 32px;\n",
              "  }\n",
              "\n",
              "  .colab-df-quickchart:hover {\n",
              "    background-color: var(--hover-bg-color);\n",
              "    box-shadow: 0 1px 2px rgba(60, 64, 67, 0.3), 0 1px 3px 1px rgba(60, 64, 67, 0.15);\n",
              "    fill: var(--button-hover-fill-color);\n",
              "  }\n",
              "\n",
              "  .colab-df-quickchart-complete:disabled,\n",
              "  .colab-df-quickchart-complete:disabled:hover {\n",
              "    background-color: var(--disabled-bg-color);\n",
              "    fill: var(--disabled-fill-color);\n",
              "    box-shadow: none;\n",
              "  }\n",
              "\n",
              "  .colab-df-spinner {\n",
              "    border: 2px solid var(--fill-color);\n",
              "    border-color: transparent;\n",
              "    border-bottom-color: var(--fill-color);\n",
              "    animation:\n",
              "      spin 1s steps(1) infinite;\n",
              "  }\n",
              "\n",
              "  @keyframes spin {\n",
              "    0% {\n",
              "      border-color: transparent;\n",
              "      border-bottom-color: var(--fill-color);\n",
              "      border-left-color: var(--fill-color);\n",
              "    }\n",
              "    20% {\n",
              "      border-color: transparent;\n",
              "      border-left-color: var(--fill-color);\n",
              "      border-top-color: var(--fill-color);\n",
              "    }\n",
              "    30% {\n",
              "      border-color: transparent;\n",
              "      border-left-color: var(--fill-color);\n",
              "      border-top-color: var(--fill-color);\n",
              "      border-right-color: var(--fill-color);\n",
              "    }\n",
              "    40% {\n",
              "      border-color: transparent;\n",
              "      border-right-color: var(--fill-color);\n",
              "      border-top-color: var(--fill-color);\n",
              "    }\n",
              "    60% {\n",
              "      border-color: transparent;\n",
              "      border-right-color: var(--fill-color);\n",
              "    }\n",
              "    80% {\n",
              "      border-color: transparent;\n",
              "      border-right-color: var(--fill-color);\n",
              "      border-bottom-color: var(--fill-color);\n",
              "    }\n",
              "    90% {\n",
              "      border-color: transparent;\n",
              "      border-bottom-color: var(--fill-color);\n",
              "    }\n",
              "  }\n",
              "</style>\n",
              "\n",
              "      <script>\n",
              "        async function quickchart(key) {\n",
              "          const quickchartButtonEl =\n",
              "            document.querySelector('#' + key + ' button');\n",
              "          quickchartButtonEl.disabled = true;  // To prevent multiple clicks.\n",
              "          quickchartButtonEl.classList.add('colab-df-spinner');\n",
              "          try {\n",
              "            const charts = await google.colab.kernel.invokeFunction(\n",
              "                'suggestCharts', [key], {});\n",
              "          } catch (error) {\n",
              "            console.error('Error during call to suggestCharts:', error);\n",
              "          }\n",
              "          quickchartButtonEl.classList.remove('colab-df-spinner');\n",
              "          quickchartButtonEl.classList.add('colab-df-quickchart-complete');\n",
              "        }\n",
              "        (() => {\n",
              "          let quickchartButtonEl =\n",
              "            document.querySelector('#df-458b0fcb-7fef-484e-9ee9-80226377b7cd button');\n",
              "          quickchartButtonEl.style.display =\n",
              "            google.colab.kernel.accessAllowed ? 'block' : 'none';\n",
              "        })();\n",
              "      </script>\n",
              "    </div>\n",
              "    </div>\n",
              "  </div>\n"
            ],
            "application/vnd.google.colaboratory.intrinsic+json": {
              "type": "dataframe",
              "variable_name": "some_ones_df"
            }
          },
          "metadata": {},
          "execution_count": 120
        }
      ]
    },
    {
      "cell_type": "markdown",
      "source": [
        "Pandas dataframes also have lots of methods, many of them vectorized operations, like numpy. This is because pandas was built on top of numpy."
      ],
      "metadata": {
        "id": "FF1gLUtJky6q"
      }
    },
    {
      "cell_type": "code",
      "source": [
        "#finds the largest value in column 0 of x_df\n",
        "x_df.max()"
      ],
      "metadata": {
        "id": "myskG9v1l2Py",
        "outputId": "7e471ef2-1bab-4b28-99b0-f0879d86a8ad",
        "colab": {
          "base_uri": "https://localhost:8080/",
          "height": 115
        }
      },
      "execution_count": 121,
      "outputs": [
        {
          "output_type": "execute_result",
          "data": {
            "text/plain": [
              "0    9\n",
              "dtype: int64"
            ],
            "text/html": [
              "<div>\n",
              "<style scoped>\n",
              "    .dataframe tbody tr th:only-of-type {\n",
              "        vertical-align: middle;\n",
              "    }\n",
              "\n",
              "    .dataframe tbody tr th {\n",
              "        vertical-align: top;\n",
              "    }\n",
              "\n",
              "    .dataframe thead th {\n",
              "        text-align: right;\n",
              "    }\n",
              "</style>\n",
              "<table border=\"1\" class=\"dataframe\">\n",
              "  <thead>\n",
              "    <tr style=\"text-align: right;\">\n",
              "      <th></th>\n",
              "      <th>0</th>\n",
              "    </tr>\n",
              "  </thead>\n",
              "  <tbody>\n",
              "    <tr>\n",
              "      <th>0</th>\n",
              "      <td>9</td>\n",
              "    </tr>\n",
              "  </tbody>\n",
              "</table>\n",
              "</div><br><label><b>dtype:</b> int64</label>"
            ]
          },
          "metadata": {},
          "execution_count": 121
        }
      ]
    },
    {
      "cell_type": "code",
      "source": [
        "#sums each row\n",
        "some_ones_df.sum(axis=0)"
      ],
      "metadata": {
        "id": "S1EXGe-PmltN",
        "outputId": "98928bfd-27ef-4b54-a1b3-77c4e5e92c84",
        "colab": {
          "base_uri": "https://localhost:8080/",
          "height": 458
        }
      },
      "execution_count": 122,
      "outputs": [
        {
          "output_type": "execute_result",
          "data": {
            "text/plain": [
              "0     100.0\n",
              "1     100.0\n",
              "2     100.0\n",
              "3     100.0\n",
              "4     100.0\n",
              "      ...  \n",
              "95    100.0\n",
              "96    100.0\n",
              "97    100.0\n",
              "98    100.0\n",
              "99    100.0\n",
              "Length: 100, dtype: float64"
            ],
            "text/html": [
              "<div>\n",
              "<style scoped>\n",
              "    .dataframe tbody tr th:only-of-type {\n",
              "        vertical-align: middle;\n",
              "    }\n",
              "\n",
              "    .dataframe tbody tr th {\n",
              "        vertical-align: top;\n",
              "    }\n",
              "\n",
              "    .dataframe thead th {\n",
              "        text-align: right;\n",
              "    }\n",
              "</style>\n",
              "<table border=\"1\" class=\"dataframe\">\n",
              "  <thead>\n",
              "    <tr style=\"text-align: right;\">\n",
              "      <th></th>\n",
              "      <th>0</th>\n",
              "    </tr>\n",
              "  </thead>\n",
              "  <tbody>\n",
              "    <tr>\n",
              "      <th>0</th>\n",
              "      <td>100.0</td>\n",
              "    </tr>\n",
              "    <tr>\n",
              "      <th>1</th>\n",
              "      <td>100.0</td>\n",
              "    </tr>\n",
              "    <tr>\n",
              "      <th>2</th>\n",
              "      <td>100.0</td>\n",
              "    </tr>\n",
              "    <tr>\n",
              "      <th>3</th>\n",
              "      <td>100.0</td>\n",
              "    </tr>\n",
              "    <tr>\n",
              "      <th>4</th>\n",
              "      <td>100.0</td>\n",
              "    </tr>\n",
              "    <tr>\n",
              "      <th>...</th>\n",
              "      <td>...</td>\n",
              "    </tr>\n",
              "    <tr>\n",
              "      <th>95</th>\n",
              "      <td>100.0</td>\n",
              "    </tr>\n",
              "    <tr>\n",
              "      <th>96</th>\n",
              "      <td>100.0</td>\n",
              "    </tr>\n",
              "    <tr>\n",
              "      <th>97</th>\n",
              "      <td>100.0</td>\n",
              "    </tr>\n",
              "    <tr>\n",
              "      <th>98</th>\n",
              "      <td>100.0</td>\n",
              "    </tr>\n",
              "    <tr>\n",
              "      <th>99</th>\n",
              "      <td>100.0</td>\n",
              "    </tr>\n",
              "  </tbody>\n",
              "</table>\n",
              "<p>100 rows × 1 columns</p>\n",
              "</div><br><label><b>dtype:</b> float64</label>"
            ]
          },
          "metadata": {},
          "execution_count": 122
        }
      ]
    },
    {
      "cell_type": "markdown",
      "source": [
        "### Slicing Dataframes\n",
        "\n",
        "For the next part, we're going to need a more interesting example than some_ones_df.\n",
        "\n",
        "To get a more interesting dataframe, I'm going to pull one from my github using pd.read_csv. This is the most common way you'll get data in this course, but pandas offers more versatile options. You can view them [here](https://pandas.pydata.org/docs/reference/io.html)."
      ],
      "metadata": {
        "id": "zVJ78NjVbVQx"
      }
    },
    {
      "cell_type": "code",
      "source": [
        "#make a string of the webpage where my data lives\n",
        "url_basketball = 'https://raw.githubusercontent.com/thedarredondo/data-science-fundamentals/main/Data/basketball2324.csv'\n",
        "#feed that string into the pandas read csv function\n",
        "basketball = pd.read_csv(url_basketball)"
      ],
      "metadata": {
        "id": "5HhlGXKYbJBc"
      },
      "execution_count": 123,
      "outputs": []
    },
    {
      "cell_type": "code",
      "source": [
        "basketball"
      ],
      "metadata": {
        "id": "l-IuScDRc-o6",
        "outputId": "7ca8bbdc-55a4-4fa3-93c1-7305e3ebea54",
        "colab": {
          "base_uri": "https://localhost:8080/",
          "height": 652
        }
      },
      "execution_count": 124,
      "outputs": [
        {
          "output_type": "execute_result",
          "data": {
            "text/plain": [
              "                       Player   Pos  Age   Tm   G  GS    MP   FG   FGA    FG%  \\\n",
              "0            Precious Achiuwa  PF-C   24  TOT  74  18  1624  235   469  0.501   \n",
              "1                 Bam Adebayo     C   26  MIA  71  71  2416  530  1017  0.521   \n",
              "2                Ochai Agbaji    SG   23  TOT  78  28  1641  178   433  0.411   \n",
              "3                Santi Aldama    PF   23  MEM  61  35  1618  247   568  0.435   \n",
              "4    Nickeil Alexander-Walker    SG   25  MIN  82  20  1921  236   538  0.439   \n",
              "..                        ...   ...  ...  ...  ..  ..   ...  ...   ...    ...   \n",
              "567            Thaddeus Young    PF   35  TOT  33   6   439   65   108  0.602   \n",
              "568                Trae Young    PG   25  ATL  54  54  1942  433  1008  0.430   \n",
              "569            Omer Yurtseven     C   25  UTA  48  12   545   99   184  0.538   \n",
              "570               Cody Zeller     C   31  NOP  43   0   320   26    62  0.419   \n",
              "571               Ivica Zubac     C   26  LAC  68  68  1794  337   519  0.649   \n",
              "\n",
              "     ...  ORB  DRB  TRB  AST  STL  BLK  TOV   PF   PTS  Player-additional  \n",
              "0    ...  191  296  487   97   46   68   83  143   565          achiupr01  \n",
              "1    ...  159  578  737  278   81   66  162  159  1367          adebaba01  \n",
              "2    ...   74  142  216   83   47   44   64  117   455          agbajoc01  \n",
              "3    ...   72  280  352  138   43   54   69   89   654          aldamsa01  \n",
              "4    ...   35  132  167  204   64   42   76  143   655          alexani01  \n",
              "..   ...  ...  ...  ...  ...  ...  ...  ...  ...   ...                ...  \n",
              "567  ...   46   57  103   57   23    5   15   49   137          youngth01  \n",
              "568  ...   23  126  149  583   72   11  235  109  1389          youngtr01  \n",
              "569  ...   72  136  208   29    8   18   37   52   222          yurtsom01  \n",
              "570  ...   48   64  112   39    9    5   16   45    76          zelleco01  \n",
              "571  ...  196  430  626   93   22   83   79  180   794          zubaciv01  \n",
              "\n",
              "[572 rows x 30 columns]"
            ],
            "text/html": [
              "\n",
              "  <div id=\"df-09e96ea9-c5aa-431f-9017-3940bec03285\" class=\"colab-df-container\">\n",
              "    <div>\n",
              "<style scoped>\n",
              "    .dataframe tbody tr th:only-of-type {\n",
              "        vertical-align: middle;\n",
              "    }\n",
              "\n",
              "    .dataframe tbody tr th {\n",
              "        vertical-align: top;\n",
              "    }\n",
              "\n",
              "    .dataframe thead th {\n",
              "        text-align: right;\n",
              "    }\n",
              "</style>\n",
              "<table border=\"1\" class=\"dataframe\">\n",
              "  <thead>\n",
              "    <tr style=\"text-align: right;\">\n",
              "      <th></th>\n",
              "      <th>Player</th>\n",
              "      <th>Pos</th>\n",
              "      <th>Age</th>\n",
              "      <th>Tm</th>\n",
              "      <th>G</th>\n",
              "      <th>GS</th>\n",
              "      <th>MP</th>\n",
              "      <th>FG</th>\n",
              "      <th>FGA</th>\n",
              "      <th>FG%</th>\n",
              "      <th>...</th>\n",
              "      <th>ORB</th>\n",
              "      <th>DRB</th>\n",
              "      <th>TRB</th>\n",
              "      <th>AST</th>\n",
              "      <th>STL</th>\n",
              "      <th>BLK</th>\n",
              "      <th>TOV</th>\n",
              "      <th>PF</th>\n",
              "      <th>PTS</th>\n",
              "      <th>Player-additional</th>\n",
              "    </tr>\n",
              "  </thead>\n",
              "  <tbody>\n",
              "    <tr>\n",
              "      <th>0</th>\n",
              "      <td>Precious Achiuwa</td>\n",
              "      <td>PF-C</td>\n",
              "      <td>24</td>\n",
              "      <td>TOT</td>\n",
              "      <td>74</td>\n",
              "      <td>18</td>\n",
              "      <td>1624</td>\n",
              "      <td>235</td>\n",
              "      <td>469</td>\n",
              "      <td>0.501</td>\n",
              "      <td>...</td>\n",
              "      <td>191</td>\n",
              "      <td>296</td>\n",
              "      <td>487</td>\n",
              "      <td>97</td>\n",
              "      <td>46</td>\n",
              "      <td>68</td>\n",
              "      <td>83</td>\n",
              "      <td>143</td>\n",
              "      <td>565</td>\n",
              "      <td>achiupr01</td>\n",
              "    </tr>\n",
              "    <tr>\n",
              "      <th>1</th>\n",
              "      <td>Bam Adebayo</td>\n",
              "      <td>C</td>\n",
              "      <td>26</td>\n",
              "      <td>MIA</td>\n",
              "      <td>71</td>\n",
              "      <td>71</td>\n",
              "      <td>2416</td>\n",
              "      <td>530</td>\n",
              "      <td>1017</td>\n",
              "      <td>0.521</td>\n",
              "      <td>...</td>\n",
              "      <td>159</td>\n",
              "      <td>578</td>\n",
              "      <td>737</td>\n",
              "      <td>278</td>\n",
              "      <td>81</td>\n",
              "      <td>66</td>\n",
              "      <td>162</td>\n",
              "      <td>159</td>\n",
              "      <td>1367</td>\n",
              "      <td>adebaba01</td>\n",
              "    </tr>\n",
              "    <tr>\n",
              "      <th>2</th>\n",
              "      <td>Ochai Agbaji</td>\n",
              "      <td>SG</td>\n",
              "      <td>23</td>\n",
              "      <td>TOT</td>\n",
              "      <td>78</td>\n",
              "      <td>28</td>\n",
              "      <td>1641</td>\n",
              "      <td>178</td>\n",
              "      <td>433</td>\n",
              "      <td>0.411</td>\n",
              "      <td>...</td>\n",
              "      <td>74</td>\n",
              "      <td>142</td>\n",
              "      <td>216</td>\n",
              "      <td>83</td>\n",
              "      <td>47</td>\n",
              "      <td>44</td>\n",
              "      <td>64</td>\n",
              "      <td>117</td>\n",
              "      <td>455</td>\n",
              "      <td>agbajoc01</td>\n",
              "    </tr>\n",
              "    <tr>\n",
              "      <th>3</th>\n",
              "      <td>Santi Aldama</td>\n",
              "      <td>PF</td>\n",
              "      <td>23</td>\n",
              "      <td>MEM</td>\n",
              "      <td>61</td>\n",
              "      <td>35</td>\n",
              "      <td>1618</td>\n",
              "      <td>247</td>\n",
              "      <td>568</td>\n",
              "      <td>0.435</td>\n",
              "      <td>...</td>\n",
              "      <td>72</td>\n",
              "      <td>280</td>\n",
              "      <td>352</td>\n",
              "      <td>138</td>\n",
              "      <td>43</td>\n",
              "      <td>54</td>\n",
              "      <td>69</td>\n",
              "      <td>89</td>\n",
              "      <td>654</td>\n",
              "      <td>aldamsa01</td>\n",
              "    </tr>\n",
              "    <tr>\n",
              "      <th>4</th>\n",
              "      <td>Nickeil Alexander-Walker</td>\n",
              "      <td>SG</td>\n",
              "      <td>25</td>\n",
              "      <td>MIN</td>\n",
              "      <td>82</td>\n",
              "      <td>20</td>\n",
              "      <td>1921</td>\n",
              "      <td>236</td>\n",
              "      <td>538</td>\n",
              "      <td>0.439</td>\n",
              "      <td>...</td>\n",
              "      <td>35</td>\n",
              "      <td>132</td>\n",
              "      <td>167</td>\n",
              "      <td>204</td>\n",
              "      <td>64</td>\n",
              "      <td>42</td>\n",
              "      <td>76</td>\n",
              "      <td>143</td>\n",
              "      <td>655</td>\n",
              "      <td>alexani01</td>\n",
              "    </tr>\n",
              "    <tr>\n",
              "      <th>...</th>\n",
              "      <td>...</td>\n",
              "      <td>...</td>\n",
              "      <td>...</td>\n",
              "      <td>...</td>\n",
              "      <td>...</td>\n",
              "      <td>...</td>\n",
              "      <td>...</td>\n",
              "      <td>...</td>\n",
              "      <td>...</td>\n",
              "      <td>...</td>\n",
              "      <td>...</td>\n",
              "      <td>...</td>\n",
              "      <td>...</td>\n",
              "      <td>...</td>\n",
              "      <td>...</td>\n",
              "      <td>...</td>\n",
              "      <td>...</td>\n",
              "      <td>...</td>\n",
              "      <td>...</td>\n",
              "      <td>...</td>\n",
              "      <td>...</td>\n",
              "    </tr>\n",
              "    <tr>\n",
              "      <th>567</th>\n",
              "      <td>Thaddeus Young</td>\n",
              "      <td>PF</td>\n",
              "      <td>35</td>\n",
              "      <td>TOT</td>\n",
              "      <td>33</td>\n",
              "      <td>6</td>\n",
              "      <td>439</td>\n",
              "      <td>65</td>\n",
              "      <td>108</td>\n",
              "      <td>0.602</td>\n",
              "      <td>...</td>\n",
              "      <td>46</td>\n",
              "      <td>57</td>\n",
              "      <td>103</td>\n",
              "      <td>57</td>\n",
              "      <td>23</td>\n",
              "      <td>5</td>\n",
              "      <td>15</td>\n",
              "      <td>49</td>\n",
              "      <td>137</td>\n",
              "      <td>youngth01</td>\n",
              "    </tr>\n",
              "    <tr>\n",
              "      <th>568</th>\n",
              "      <td>Trae Young</td>\n",
              "      <td>PG</td>\n",
              "      <td>25</td>\n",
              "      <td>ATL</td>\n",
              "      <td>54</td>\n",
              "      <td>54</td>\n",
              "      <td>1942</td>\n",
              "      <td>433</td>\n",
              "      <td>1008</td>\n",
              "      <td>0.430</td>\n",
              "      <td>...</td>\n",
              "      <td>23</td>\n",
              "      <td>126</td>\n",
              "      <td>149</td>\n",
              "      <td>583</td>\n",
              "      <td>72</td>\n",
              "      <td>11</td>\n",
              "      <td>235</td>\n",
              "      <td>109</td>\n",
              "      <td>1389</td>\n",
              "      <td>youngtr01</td>\n",
              "    </tr>\n",
              "    <tr>\n",
              "      <th>569</th>\n",
              "      <td>Omer Yurtseven</td>\n",
              "      <td>C</td>\n",
              "      <td>25</td>\n",
              "      <td>UTA</td>\n",
              "      <td>48</td>\n",
              "      <td>12</td>\n",
              "      <td>545</td>\n",
              "      <td>99</td>\n",
              "      <td>184</td>\n",
              "      <td>0.538</td>\n",
              "      <td>...</td>\n",
              "      <td>72</td>\n",
              "      <td>136</td>\n",
              "      <td>208</td>\n",
              "      <td>29</td>\n",
              "      <td>8</td>\n",
              "      <td>18</td>\n",
              "      <td>37</td>\n",
              "      <td>52</td>\n",
              "      <td>222</td>\n",
              "      <td>yurtsom01</td>\n",
              "    </tr>\n",
              "    <tr>\n",
              "      <th>570</th>\n",
              "      <td>Cody Zeller</td>\n",
              "      <td>C</td>\n",
              "      <td>31</td>\n",
              "      <td>NOP</td>\n",
              "      <td>43</td>\n",
              "      <td>0</td>\n",
              "      <td>320</td>\n",
              "      <td>26</td>\n",
              "      <td>62</td>\n",
              "      <td>0.419</td>\n",
              "      <td>...</td>\n",
              "      <td>48</td>\n",
              "      <td>64</td>\n",
              "      <td>112</td>\n",
              "      <td>39</td>\n",
              "      <td>9</td>\n",
              "      <td>5</td>\n",
              "      <td>16</td>\n",
              "      <td>45</td>\n",
              "      <td>76</td>\n",
              "      <td>zelleco01</td>\n",
              "    </tr>\n",
              "    <tr>\n",
              "      <th>571</th>\n",
              "      <td>Ivica Zubac</td>\n",
              "      <td>C</td>\n",
              "      <td>26</td>\n",
              "      <td>LAC</td>\n",
              "      <td>68</td>\n",
              "      <td>68</td>\n",
              "      <td>1794</td>\n",
              "      <td>337</td>\n",
              "      <td>519</td>\n",
              "      <td>0.649</td>\n",
              "      <td>...</td>\n",
              "      <td>196</td>\n",
              "      <td>430</td>\n",
              "      <td>626</td>\n",
              "      <td>93</td>\n",
              "      <td>22</td>\n",
              "      <td>83</td>\n",
              "      <td>79</td>\n",
              "      <td>180</td>\n",
              "      <td>794</td>\n",
              "      <td>zubaciv01</td>\n",
              "    </tr>\n",
              "  </tbody>\n",
              "</table>\n",
              "<p>572 rows × 30 columns</p>\n",
              "</div>\n",
              "    <div class=\"colab-df-buttons\">\n",
              "\n",
              "  <div class=\"colab-df-container\">\n",
              "    <button class=\"colab-df-convert\" onclick=\"convertToInteractive('df-09e96ea9-c5aa-431f-9017-3940bec03285')\"\n",
              "            title=\"Convert this dataframe to an interactive table.\"\n",
              "            style=\"display:none;\">\n",
              "\n",
              "  <svg xmlns=\"http://www.w3.org/2000/svg\" height=\"24px\" viewBox=\"0 -960 960 960\">\n",
              "    <path d=\"M120-120v-720h720v720H120Zm60-500h600v-160H180v160Zm220 220h160v-160H400v160Zm0 220h160v-160H400v160ZM180-400h160v-160H180v160Zm440 0h160v-160H620v160ZM180-180h160v-160H180v160Zm440 0h160v-160H620v160Z\"/>\n",
              "  </svg>\n",
              "    </button>\n",
              "\n",
              "  <style>\n",
              "    .colab-df-container {\n",
              "      display:flex;\n",
              "      gap: 12px;\n",
              "    }\n",
              "\n",
              "    .colab-df-convert {\n",
              "      background-color: #E8F0FE;\n",
              "      border: none;\n",
              "      border-radius: 50%;\n",
              "      cursor: pointer;\n",
              "      display: none;\n",
              "      fill: #1967D2;\n",
              "      height: 32px;\n",
              "      padding: 0 0 0 0;\n",
              "      width: 32px;\n",
              "    }\n",
              "\n",
              "    .colab-df-convert:hover {\n",
              "      background-color: #E2EBFA;\n",
              "      box-shadow: 0px 1px 2px rgba(60, 64, 67, 0.3), 0px 1px 3px 1px rgba(60, 64, 67, 0.15);\n",
              "      fill: #174EA6;\n",
              "    }\n",
              "\n",
              "    .colab-df-buttons div {\n",
              "      margin-bottom: 4px;\n",
              "    }\n",
              "\n",
              "    [theme=dark] .colab-df-convert {\n",
              "      background-color: #3B4455;\n",
              "      fill: #D2E3FC;\n",
              "    }\n",
              "\n",
              "    [theme=dark] .colab-df-convert:hover {\n",
              "      background-color: #434B5C;\n",
              "      box-shadow: 0px 1px 3px 1px rgba(0, 0, 0, 0.15);\n",
              "      filter: drop-shadow(0px 1px 2px rgba(0, 0, 0, 0.3));\n",
              "      fill: #FFFFFF;\n",
              "    }\n",
              "  </style>\n",
              "\n",
              "    <script>\n",
              "      const buttonEl =\n",
              "        document.querySelector('#df-09e96ea9-c5aa-431f-9017-3940bec03285 button.colab-df-convert');\n",
              "      buttonEl.style.display =\n",
              "        google.colab.kernel.accessAllowed ? 'block' : 'none';\n",
              "\n",
              "      async function convertToInteractive(key) {\n",
              "        const element = document.querySelector('#df-09e96ea9-c5aa-431f-9017-3940bec03285');\n",
              "        const dataTable =\n",
              "          await google.colab.kernel.invokeFunction('convertToInteractive',\n",
              "                                                    [key], {});\n",
              "        if (!dataTable) return;\n",
              "\n",
              "        const docLinkHtml = 'Like what you see? Visit the ' +\n",
              "          '<a target=\"_blank\" href=https://colab.research.google.com/notebooks/data_table.ipynb>data table notebook</a>'\n",
              "          + ' to learn more about interactive tables.';\n",
              "        element.innerHTML = '';\n",
              "        dataTable['output_type'] = 'display_data';\n",
              "        await google.colab.output.renderOutput(dataTable, element);\n",
              "        const docLink = document.createElement('div');\n",
              "        docLink.innerHTML = docLinkHtml;\n",
              "        element.appendChild(docLink);\n",
              "      }\n",
              "    </script>\n",
              "  </div>\n",
              "\n",
              "\n",
              "    <div id=\"df-87a7b72a-3fae-4466-9328-fa4617cec819\">\n",
              "      <button class=\"colab-df-quickchart\" onclick=\"quickchart('df-87a7b72a-3fae-4466-9328-fa4617cec819')\"\n",
              "                title=\"Suggest charts\"\n",
              "                style=\"display:none;\">\n",
              "\n",
              "<svg xmlns=\"http://www.w3.org/2000/svg\" height=\"24px\"viewBox=\"0 0 24 24\"\n",
              "     width=\"24px\">\n",
              "    <g>\n",
              "        <path d=\"M19 3H5c-1.1 0-2 .9-2 2v14c0 1.1.9 2 2 2h14c1.1 0 2-.9 2-2V5c0-1.1-.9-2-2-2zM9 17H7v-7h2v7zm4 0h-2V7h2v10zm4 0h-2v-4h2v4z\"/>\n",
              "    </g>\n",
              "</svg>\n",
              "      </button>\n",
              "\n",
              "<style>\n",
              "  .colab-df-quickchart {\n",
              "      --bg-color: #E8F0FE;\n",
              "      --fill-color: #1967D2;\n",
              "      --hover-bg-color: #E2EBFA;\n",
              "      --hover-fill-color: #174EA6;\n",
              "      --disabled-fill-color: #AAA;\n",
              "      --disabled-bg-color: #DDD;\n",
              "  }\n",
              "\n",
              "  [theme=dark] .colab-df-quickchart {\n",
              "      --bg-color: #3B4455;\n",
              "      --fill-color: #D2E3FC;\n",
              "      --hover-bg-color: #434B5C;\n",
              "      --hover-fill-color: #FFFFFF;\n",
              "      --disabled-bg-color: #3B4455;\n",
              "      --disabled-fill-color: #666;\n",
              "  }\n",
              "\n",
              "  .colab-df-quickchart {\n",
              "    background-color: var(--bg-color);\n",
              "    border: none;\n",
              "    border-radius: 50%;\n",
              "    cursor: pointer;\n",
              "    display: none;\n",
              "    fill: var(--fill-color);\n",
              "    height: 32px;\n",
              "    padding: 0;\n",
              "    width: 32px;\n",
              "  }\n",
              "\n",
              "  .colab-df-quickchart:hover {\n",
              "    background-color: var(--hover-bg-color);\n",
              "    box-shadow: 0 1px 2px rgba(60, 64, 67, 0.3), 0 1px 3px 1px rgba(60, 64, 67, 0.15);\n",
              "    fill: var(--button-hover-fill-color);\n",
              "  }\n",
              "\n",
              "  .colab-df-quickchart-complete:disabled,\n",
              "  .colab-df-quickchart-complete:disabled:hover {\n",
              "    background-color: var(--disabled-bg-color);\n",
              "    fill: var(--disabled-fill-color);\n",
              "    box-shadow: none;\n",
              "  }\n",
              "\n",
              "  .colab-df-spinner {\n",
              "    border: 2px solid var(--fill-color);\n",
              "    border-color: transparent;\n",
              "    border-bottom-color: var(--fill-color);\n",
              "    animation:\n",
              "      spin 1s steps(1) infinite;\n",
              "  }\n",
              "\n",
              "  @keyframes spin {\n",
              "    0% {\n",
              "      border-color: transparent;\n",
              "      border-bottom-color: var(--fill-color);\n",
              "      border-left-color: var(--fill-color);\n",
              "    }\n",
              "    20% {\n",
              "      border-color: transparent;\n",
              "      border-left-color: var(--fill-color);\n",
              "      border-top-color: var(--fill-color);\n",
              "    }\n",
              "    30% {\n",
              "      border-color: transparent;\n",
              "      border-left-color: var(--fill-color);\n",
              "      border-top-color: var(--fill-color);\n",
              "      border-right-color: var(--fill-color);\n",
              "    }\n",
              "    40% {\n",
              "      border-color: transparent;\n",
              "      border-right-color: var(--fill-color);\n",
              "      border-top-color: var(--fill-color);\n",
              "    }\n",
              "    60% {\n",
              "      border-color: transparent;\n",
              "      border-right-color: var(--fill-color);\n",
              "    }\n",
              "    80% {\n",
              "      border-color: transparent;\n",
              "      border-right-color: var(--fill-color);\n",
              "      border-bottom-color: var(--fill-color);\n",
              "    }\n",
              "    90% {\n",
              "      border-color: transparent;\n",
              "      border-bottom-color: var(--fill-color);\n",
              "    }\n",
              "  }\n",
              "</style>\n",
              "\n",
              "      <script>\n",
              "        async function quickchart(key) {\n",
              "          const quickchartButtonEl =\n",
              "            document.querySelector('#' + key + ' button');\n",
              "          quickchartButtonEl.disabled = true;  // To prevent multiple clicks.\n",
              "          quickchartButtonEl.classList.add('colab-df-spinner');\n",
              "          try {\n",
              "            const charts = await google.colab.kernel.invokeFunction(\n",
              "                'suggestCharts', [key], {});\n",
              "          } catch (error) {\n",
              "            console.error('Error during call to suggestCharts:', error);\n",
              "          }\n",
              "          quickchartButtonEl.classList.remove('colab-df-spinner');\n",
              "          quickchartButtonEl.classList.add('colab-df-quickchart-complete');\n",
              "        }\n",
              "        (() => {\n",
              "          let quickchartButtonEl =\n",
              "            document.querySelector('#df-87a7b72a-3fae-4466-9328-fa4617cec819 button');\n",
              "          quickchartButtonEl.style.display =\n",
              "            google.colab.kernel.accessAllowed ? 'block' : 'none';\n",
              "        })();\n",
              "      </script>\n",
              "    </div>\n",
              "    </div>\n",
              "  </div>\n"
            ],
            "application/vnd.google.colaboratory.intrinsic+json": {
              "type": "dataframe",
              "variable_name": "basketball"
            }
          },
          "metadata": {},
          "execution_count": 124
        }
      ]
    },
    {
      "cell_type": "markdown",
      "source": [
        "Its easy to call the column names and rows. You can also call the shape, but note that printing the dataframe also tells you the shape."
      ],
      "metadata": {
        "id": "ObYxzjtxdELR"
      }
    },
    {
      "cell_type": "code",
      "source": [
        "basketball.columns"
      ],
      "metadata": {
        "id": "_366zzNydTgG",
        "outputId": "f92d8510-e4d3-41e4-bb15-4ce52e9c752e",
        "colab": {
          "base_uri": "https://localhost:8080/"
        }
      },
      "execution_count": 125,
      "outputs": [
        {
          "output_type": "execute_result",
          "data": {
            "text/plain": [
              "Index(['Player', 'Pos', 'Age', 'Tm', 'G', 'GS', 'MP', 'FG', 'FGA', 'FG%', '3P',\n",
              "       '3PA', '3P%', '2P', '2PA', '2P%', 'eFG%', 'FT', 'FTA', 'FT%', 'ORB',\n",
              "       'DRB', 'TRB', 'AST', 'STL', 'BLK', 'TOV', 'PF', 'PTS',\n",
              "       'Player-additional'],\n",
              "      dtype='object')"
            ]
          },
          "metadata": {},
          "execution_count": 125
        }
      ]
    },
    {
      "cell_type": "code",
      "source": [
        "basketball.index"
      ],
      "metadata": {
        "id": "nYX_wKbIdXB-",
        "outputId": "87262459-4eae-4aaa-b217-042f1e202ed1",
        "colab": {
          "base_uri": "https://localhost:8080/"
        }
      },
      "execution_count": 126,
      "outputs": [
        {
          "output_type": "execute_result",
          "data": {
            "text/plain": [
              "RangeIndex(start=0, stop=572, step=1)"
            ]
          },
          "metadata": {},
          "execution_count": 126
        }
      ]
    },
    {
      "cell_type": "code",
      "source": [
        "basketball.shape"
      ],
      "metadata": {
        "id": "E-5l-VS0dZj3",
        "outputId": "3e6bced8-14d3-4c6b-9482-1c811a6c66ff",
        "colab": {
          "base_uri": "https://localhost:8080/"
        }
      },
      "execution_count": 127,
      "outputs": [
        {
          "output_type": "execute_result",
          "data": {
            "text/plain": [
              "(572, 30)"
            ]
          },
          "metadata": {},
          "execution_count": 127
        }
      ]
    },
    {
      "cell_type": "markdown",
      "source": [
        "We call columns by name."
      ],
      "metadata": {
        "id": "D9yJ4uQOdmog"
      }
    },
    {
      "cell_type": "code",
      "source": [
        "basketball.Player"
      ],
      "metadata": {
        "id": "KtFz8lZRdtBF",
        "outputId": "108170cc-7636-488f-941b-3c8abbc5f3e0",
        "colab": {
          "base_uri": "https://localhost:8080/",
          "height": 458
        }
      },
      "execution_count": 128,
      "outputs": [
        {
          "output_type": "execute_result",
          "data": {
            "text/plain": [
              "0              Precious Achiuwa\n",
              "1                   Bam Adebayo\n",
              "2                  Ochai Agbaji\n",
              "3                  Santi Aldama\n",
              "4      Nickeil Alexander-Walker\n",
              "                 ...           \n",
              "567              Thaddeus Young\n",
              "568                  Trae Young\n",
              "569              Omer Yurtseven\n",
              "570                 Cody Zeller\n",
              "571                 Ivica Zubac\n",
              "Name: Player, Length: 572, dtype: object"
            ],
            "text/html": [
              "<div>\n",
              "<style scoped>\n",
              "    .dataframe tbody tr th:only-of-type {\n",
              "        vertical-align: middle;\n",
              "    }\n",
              "\n",
              "    .dataframe tbody tr th {\n",
              "        vertical-align: top;\n",
              "    }\n",
              "\n",
              "    .dataframe thead th {\n",
              "        text-align: right;\n",
              "    }\n",
              "</style>\n",
              "<table border=\"1\" class=\"dataframe\">\n",
              "  <thead>\n",
              "    <tr style=\"text-align: right;\">\n",
              "      <th></th>\n",
              "      <th>Player</th>\n",
              "    </tr>\n",
              "  </thead>\n",
              "  <tbody>\n",
              "    <tr>\n",
              "      <th>0</th>\n",
              "      <td>Precious Achiuwa</td>\n",
              "    </tr>\n",
              "    <tr>\n",
              "      <th>1</th>\n",
              "      <td>Bam Adebayo</td>\n",
              "    </tr>\n",
              "    <tr>\n",
              "      <th>2</th>\n",
              "      <td>Ochai Agbaji</td>\n",
              "    </tr>\n",
              "    <tr>\n",
              "      <th>3</th>\n",
              "      <td>Santi Aldama</td>\n",
              "    </tr>\n",
              "    <tr>\n",
              "      <th>4</th>\n",
              "      <td>Nickeil Alexander-Walker</td>\n",
              "    </tr>\n",
              "    <tr>\n",
              "      <th>...</th>\n",
              "      <td>...</td>\n",
              "    </tr>\n",
              "    <tr>\n",
              "      <th>567</th>\n",
              "      <td>Thaddeus Young</td>\n",
              "    </tr>\n",
              "    <tr>\n",
              "      <th>568</th>\n",
              "      <td>Trae Young</td>\n",
              "    </tr>\n",
              "    <tr>\n",
              "      <th>569</th>\n",
              "      <td>Omer Yurtseven</td>\n",
              "    </tr>\n",
              "    <tr>\n",
              "      <th>570</th>\n",
              "      <td>Cody Zeller</td>\n",
              "    </tr>\n",
              "    <tr>\n",
              "      <th>571</th>\n",
              "      <td>Ivica Zubac</td>\n",
              "    </tr>\n",
              "  </tbody>\n",
              "</table>\n",
              "<p>572 rows × 1 columns</p>\n",
              "</div><br><label><b>dtype:</b> object</label>"
            ]
          },
          "metadata": {},
          "execution_count": 128
        }
      ]
    },
    {
      "cell_type": "code",
      "source": [
        "basketball['Player']"
      ],
      "metadata": {
        "id": "M37m1kgUh38F",
        "outputId": "d4d2e865-6ac6-40e7-dc64-abba13d7379c",
        "colab": {
          "base_uri": "https://localhost:8080/",
          "height": 458
        }
      },
      "execution_count": 129,
      "outputs": [
        {
          "output_type": "execute_result",
          "data": {
            "text/plain": [
              "0              Precious Achiuwa\n",
              "1                   Bam Adebayo\n",
              "2                  Ochai Agbaji\n",
              "3                  Santi Aldama\n",
              "4      Nickeil Alexander-Walker\n",
              "                 ...           \n",
              "567              Thaddeus Young\n",
              "568                  Trae Young\n",
              "569              Omer Yurtseven\n",
              "570                 Cody Zeller\n",
              "571                 Ivica Zubac\n",
              "Name: Player, Length: 572, dtype: object"
            ],
            "text/html": [
              "<div>\n",
              "<style scoped>\n",
              "    .dataframe tbody tr th:only-of-type {\n",
              "        vertical-align: middle;\n",
              "    }\n",
              "\n",
              "    .dataframe tbody tr th {\n",
              "        vertical-align: top;\n",
              "    }\n",
              "\n",
              "    .dataframe thead th {\n",
              "        text-align: right;\n",
              "    }\n",
              "</style>\n",
              "<table border=\"1\" class=\"dataframe\">\n",
              "  <thead>\n",
              "    <tr style=\"text-align: right;\">\n",
              "      <th></th>\n",
              "      <th>Player</th>\n",
              "    </tr>\n",
              "  </thead>\n",
              "  <tbody>\n",
              "    <tr>\n",
              "      <th>0</th>\n",
              "      <td>Precious Achiuwa</td>\n",
              "    </tr>\n",
              "    <tr>\n",
              "      <th>1</th>\n",
              "      <td>Bam Adebayo</td>\n",
              "    </tr>\n",
              "    <tr>\n",
              "      <th>2</th>\n",
              "      <td>Ochai Agbaji</td>\n",
              "    </tr>\n",
              "    <tr>\n",
              "      <th>3</th>\n",
              "      <td>Santi Aldama</td>\n",
              "    </tr>\n",
              "    <tr>\n",
              "      <th>4</th>\n",
              "      <td>Nickeil Alexander-Walker</td>\n",
              "    </tr>\n",
              "    <tr>\n",
              "      <th>...</th>\n",
              "      <td>...</td>\n",
              "    </tr>\n",
              "    <tr>\n",
              "      <th>567</th>\n",
              "      <td>Thaddeus Young</td>\n",
              "    </tr>\n",
              "    <tr>\n",
              "      <th>568</th>\n",
              "      <td>Trae Young</td>\n",
              "    </tr>\n",
              "    <tr>\n",
              "      <th>569</th>\n",
              "      <td>Omer Yurtseven</td>\n",
              "    </tr>\n",
              "    <tr>\n",
              "      <th>570</th>\n",
              "      <td>Cody Zeller</td>\n",
              "    </tr>\n",
              "    <tr>\n",
              "      <th>571</th>\n",
              "      <td>Ivica Zubac</td>\n",
              "    </tr>\n",
              "  </tbody>\n",
              "</table>\n",
              "<p>572 rows × 1 columns</p>\n",
              "</div><br><label><b>dtype:</b> object</label>"
            ]
          },
          "metadata": {},
          "execution_count": 129
        }
      ]
    },
    {
      "cell_type": "code",
      "source": [
        "#the double brackets returns a data frame\n",
        "basketball[['Player']]"
      ],
      "metadata": {
        "id": "fPkCewXndys2",
        "outputId": "85df2813-f859-4093-ec2e-ebcc117b4e47",
        "colab": {
          "base_uri": "https://localhost:8080/",
          "height": 424
        }
      },
      "execution_count": 130,
      "outputs": [
        {
          "output_type": "execute_result",
          "data": {
            "text/plain": [
              "                       Player\n",
              "0            Precious Achiuwa\n",
              "1                 Bam Adebayo\n",
              "2                Ochai Agbaji\n",
              "3                Santi Aldama\n",
              "4    Nickeil Alexander-Walker\n",
              "..                        ...\n",
              "567            Thaddeus Young\n",
              "568                Trae Young\n",
              "569            Omer Yurtseven\n",
              "570               Cody Zeller\n",
              "571               Ivica Zubac\n",
              "\n",
              "[572 rows x 1 columns]"
            ],
            "text/html": [
              "\n",
              "  <div id=\"df-4dfb56ad-241f-4941-aeee-fda5a5981739\" class=\"colab-df-container\">\n",
              "    <div>\n",
              "<style scoped>\n",
              "    .dataframe tbody tr th:only-of-type {\n",
              "        vertical-align: middle;\n",
              "    }\n",
              "\n",
              "    .dataframe tbody tr th {\n",
              "        vertical-align: top;\n",
              "    }\n",
              "\n",
              "    .dataframe thead th {\n",
              "        text-align: right;\n",
              "    }\n",
              "</style>\n",
              "<table border=\"1\" class=\"dataframe\">\n",
              "  <thead>\n",
              "    <tr style=\"text-align: right;\">\n",
              "      <th></th>\n",
              "      <th>Player</th>\n",
              "    </tr>\n",
              "  </thead>\n",
              "  <tbody>\n",
              "    <tr>\n",
              "      <th>0</th>\n",
              "      <td>Precious Achiuwa</td>\n",
              "    </tr>\n",
              "    <tr>\n",
              "      <th>1</th>\n",
              "      <td>Bam Adebayo</td>\n",
              "    </tr>\n",
              "    <tr>\n",
              "      <th>2</th>\n",
              "      <td>Ochai Agbaji</td>\n",
              "    </tr>\n",
              "    <tr>\n",
              "      <th>3</th>\n",
              "      <td>Santi Aldama</td>\n",
              "    </tr>\n",
              "    <tr>\n",
              "      <th>4</th>\n",
              "      <td>Nickeil Alexander-Walker</td>\n",
              "    </tr>\n",
              "    <tr>\n",
              "      <th>...</th>\n",
              "      <td>...</td>\n",
              "    </tr>\n",
              "    <tr>\n",
              "      <th>567</th>\n",
              "      <td>Thaddeus Young</td>\n",
              "    </tr>\n",
              "    <tr>\n",
              "      <th>568</th>\n",
              "      <td>Trae Young</td>\n",
              "    </tr>\n",
              "    <tr>\n",
              "      <th>569</th>\n",
              "      <td>Omer Yurtseven</td>\n",
              "    </tr>\n",
              "    <tr>\n",
              "      <th>570</th>\n",
              "      <td>Cody Zeller</td>\n",
              "    </tr>\n",
              "    <tr>\n",
              "      <th>571</th>\n",
              "      <td>Ivica Zubac</td>\n",
              "    </tr>\n",
              "  </tbody>\n",
              "</table>\n",
              "<p>572 rows × 1 columns</p>\n",
              "</div>\n",
              "    <div class=\"colab-df-buttons\">\n",
              "\n",
              "  <div class=\"colab-df-container\">\n",
              "    <button class=\"colab-df-convert\" onclick=\"convertToInteractive('df-4dfb56ad-241f-4941-aeee-fda5a5981739')\"\n",
              "            title=\"Convert this dataframe to an interactive table.\"\n",
              "            style=\"display:none;\">\n",
              "\n",
              "  <svg xmlns=\"http://www.w3.org/2000/svg\" height=\"24px\" viewBox=\"0 -960 960 960\">\n",
              "    <path d=\"M120-120v-720h720v720H120Zm60-500h600v-160H180v160Zm220 220h160v-160H400v160Zm0 220h160v-160H400v160ZM180-400h160v-160H180v160Zm440 0h160v-160H620v160ZM180-180h160v-160H180v160Zm440 0h160v-160H620v160Z\"/>\n",
              "  </svg>\n",
              "    </button>\n",
              "\n",
              "  <style>\n",
              "    .colab-df-container {\n",
              "      display:flex;\n",
              "      gap: 12px;\n",
              "    }\n",
              "\n",
              "    .colab-df-convert {\n",
              "      background-color: #E8F0FE;\n",
              "      border: none;\n",
              "      border-radius: 50%;\n",
              "      cursor: pointer;\n",
              "      display: none;\n",
              "      fill: #1967D2;\n",
              "      height: 32px;\n",
              "      padding: 0 0 0 0;\n",
              "      width: 32px;\n",
              "    }\n",
              "\n",
              "    .colab-df-convert:hover {\n",
              "      background-color: #E2EBFA;\n",
              "      box-shadow: 0px 1px 2px rgba(60, 64, 67, 0.3), 0px 1px 3px 1px rgba(60, 64, 67, 0.15);\n",
              "      fill: #174EA6;\n",
              "    }\n",
              "\n",
              "    .colab-df-buttons div {\n",
              "      margin-bottom: 4px;\n",
              "    }\n",
              "\n",
              "    [theme=dark] .colab-df-convert {\n",
              "      background-color: #3B4455;\n",
              "      fill: #D2E3FC;\n",
              "    }\n",
              "\n",
              "    [theme=dark] .colab-df-convert:hover {\n",
              "      background-color: #434B5C;\n",
              "      box-shadow: 0px 1px 3px 1px rgba(0, 0, 0, 0.15);\n",
              "      filter: drop-shadow(0px 1px 2px rgba(0, 0, 0, 0.3));\n",
              "      fill: #FFFFFF;\n",
              "    }\n",
              "  </style>\n",
              "\n",
              "    <script>\n",
              "      const buttonEl =\n",
              "        document.querySelector('#df-4dfb56ad-241f-4941-aeee-fda5a5981739 button.colab-df-convert');\n",
              "      buttonEl.style.display =\n",
              "        google.colab.kernel.accessAllowed ? 'block' : 'none';\n",
              "\n",
              "      async function convertToInteractive(key) {\n",
              "        const element = document.querySelector('#df-4dfb56ad-241f-4941-aeee-fda5a5981739');\n",
              "        const dataTable =\n",
              "          await google.colab.kernel.invokeFunction('convertToInteractive',\n",
              "                                                    [key], {});\n",
              "        if (!dataTable) return;\n",
              "\n",
              "        const docLinkHtml = 'Like what you see? Visit the ' +\n",
              "          '<a target=\"_blank\" href=https://colab.research.google.com/notebooks/data_table.ipynb>data table notebook</a>'\n",
              "          + ' to learn more about interactive tables.';\n",
              "        element.innerHTML = '';\n",
              "        dataTable['output_type'] = 'display_data';\n",
              "        await google.colab.output.renderOutput(dataTable, element);\n",
              "        const docLink = document.createElement('div');\n",
              "        docLink.innerHTML = docLinkHtml;\n",
              "        element.appendChild(docLink);\n",
              "      }\n",
              "    </script>\n",
              "  </div>\n",
              "\n",
              "\n",
              "    <div id=\"df-86793fbe-f482-4f4e-9860-5a4069f095cb\">\n",
              "      <button class=\"colab-df-quickchart\" onclick=\"quickchart('df-86793fbe-f482-4f4e-9860-5a4069f095cb')\"\n",
              "                title=\"Suggest charts\"\n",
              "                style=\"display:none;\">\n",
              "\n",
              "<svg xmlns=\"http://www.w3.org/2000/svg\" height=\"24px\"viewBox=\"0 0 24 24\"\n",
              "     width=\"24px\">\n",
              "    <g>\n",
              "        <path d=\"M19 3H5c-1.1 0-2 .9-2 2v14c0 1.1.9 2 2 2h14c1.1 0 2-.9 2-2V5c0-1.1-.9-2-2-2zM9 17H7v-7h2v7zm4 0h-2V7h2v10zm4 0h-2v-4h2v4z\"/>\n",
              "    </g>\n",
              "</svg>\n",
              "      </button>\n",
              "\n",
              "<style>\n",
              "  .colab-df-quickchart {\n",
              "      --bg-color: #E8F0FE;\n",
              "      --fill-color: #1967D2;\n",
              "      --hover-bg-color: #E2EBFA;\n",
              "      --hover-fill-color: #174EA6;\n",
              "      --disabled-fill-color: #AAA;\n",
              "      --disabled-bg-color: #DDD;\n",
              "  }\n",
              "\n",
              "  [theme=dark] .colab-df-quickchart {\n",
              "      --bg-color: #3B4455;\n",
              "      --fill-color: #D2E3FC;\n",
              "      --hover-bg-color: #434B5C;\n",
              "      --hover-fill-color: #FFFFFF;\n",
              "      --disabled-bg-color: #3B4455;\n",
              "      --disabled-fill-color: #666;\n",
              "  }\n",
              "\n",
              "  .colab-df-quickchart {\n",
              "    background-color: var(--bg-color);\n",
              "    border: none;\n",
              "    border-radius: 50%;\n",
              "    cursor: pointer;\n",
              "    display: none;\n",
              "    fill: var(--fill-color);\n",
              "    height: 32px;\n",
              "    padding: 0;\n",
              "    width: 32px;\n",
              "  }\n",
              "\n",
              "  .colab-df-quickchart:hover {\n",
              "    background-color: var(--hover-bg-color);\n",
              "    box-shadow: 0 1px 2px rgba(60, 64, 67, 0.3), 0 1px 3px 1px rgba(60, 64, 67, 0.15);\n",
              "    fill: var(--button-hover-fill-color);\n",
              "  }\n",
              "\n",
              "  .colab-df-quickchart-complete:disabled,\n",
              "  .colab-df-quickchart-complete:disabled:hover {\n",
              "    background-color: var(--disabled-bg-color);\n",
              "    fill: var(--disabled-fill-color);\n",
              "    box-shadow: none;\n",
              "  }\n",
              "\n",
              "  .colab-df-spinner {\n",
              "    border: 2px solid var(--fill-color);\n",
              "    border-color: transparent;\n",
              "    border-bottom-color: var(--fill-color);\n",
              "    animation:\n",
              "      spin 1s steps(1) infinite;\n",
              "  }\n",
              "\n",
              "  @keyframes spin {\n",
              "    0% {\n",
              "      border-color: transparent;\n",
              "      border-bottom-color: var(--fill-color);\n",
              "      border-left-color: var(--fill-color);\n",
              "    }\n",
              "    20% {\n",
              "      border-color: transparent;\n",
              "      border-left-color: var(--fill-color);\n",
              "      border-top-color: var(--fill-color);\n",
              "    }\n",
              "    30% {\n",
              "      border-color: transparent;\n",
              "      border-left-color: var(--fill-color);\n",
              "      border-top-color: var(--fill-color);\n",
              "      border-right-color: var(--fill-color);\n",
              "    }\n",
              "    40% {\n",
              "      border-color: transparent;\n",
              "      border-right-color: var(--fill-color);\n",
              "      border-top-color: var(--fill-color);\n",
              "    }\n",
              "    60% {\n",
              "      border-color: transparent;\n",
              "      border-right-color: var(--fill-color);\n",
              "    }\n",
              "    80% {\n",
              "      border-color: transparent;\n",
              "      border-right-color: var(--fill-color);\n",
              "      border-bottom-color: var(--fill-color);\n",
              "    }\n",
              "    90% {\n",
              "      border-color: transparent;\n",
              "      border-bottom-color: var(--fill-color);\n",
              "    }\n",
              "  }\n",
              "</style>\n",
              "\n",
              "      <script>\n",
              "        async function quickchart(key) {\n",
              "          const quickchartButtonEl =\n",
              "            document.querySelector('#' + key + ' button');\n",
              "          quickchartButtonEl.disabled = true;  // To prevent multiple clicks.\n",
              "          quickchartButtonEl.classList.add('colab-df-spinner');\n",
              "          try {\n",
              "            const charts = await google.colab.kernel.invokeFunction(\n",
              "                'suggestCharts', [key], {});\n",
              "          } catch (error) {\n",
              "            console.error('Error during call to suggestCharts:', error);\n",
              "          }\n",
              "          quickchartButtonEl.classList.remove('colab-df-spinner');\n",
              "          quickchartButtonEl.classList.add('colab-df-quickchart-complete');\n",
              "        }\n",
              "        (() => {\n",
              "          let quickchartButtonEl =\n",
              "            document.querySelector('#df-86793fbe-f482-4f4e-9860-5a4069f095cb button');\n",
              "          quickchartButtonEl.style.display =\n",
              "            google.colab.kernel.accessAllowed ? 'block' : 'none';\n",
              "        })();\n",
              "      </script>\n",
              "    </div>\n",
              "    </div>\n",
              "  </div>\n"
            ],
            "application/vnd.google.colaboratory.intrinsic+json": {
              "type": "dataframe",
              "summary": "{\n  \"name\": \"basketball[['Player']]\",\n  \"rows\": 572,\n  \"fields\": [\n    {\n      \"column\": \"Player\",\n      \"properties\": {\n        \"dtype\": \"string\",\n        \"num_unique_values\": 572,\n        \"samples\": [\n          \"Jonas Valan\\u010di\\u016bnas\",\n          \"Jaylen Brown\",\n          \"Henri Drell\"\n        ],\n        \"semantic_type\": \"\",\n        \"description\": \"\"\n      }\n    }\n  ]\n}"
            }
          },
          "metadata": {},
          "execution_count": 130
        }
      ]
    },
    {
      "cell_type": "markdown",
      "source": [
        "The second brackets method is required when we want a column with funky characters in its name."
      ],
      "metadata": {
        "id": "6qAg31ujeIgg"
      }
    },
    {
      "cell_type": "markdown",
      "source": [
        "Want to slice multiple columns?"
      ],
      "metadata": {
        "id": "gxR4s5ZdfQGZ"
      }
    },
    {
      "cell_type": "code",
      "source": [
        "basketball[['Player','FG%']]"
      ],
      "metadata": {
        "id": "W32u2GCzeTUS",
        "outputId": "8e018edb-2f60-4f1e-b850-84d2e7c917a2",
        "colab": {
          "base_uri": "https://localhost:8080/",
          "height": 424
        }
      },
      "execution_count": 131,
      "outputs": [
        {
          "output_type": "execute_result",
          "data": {
            "text/plain": [
              "                       Player    FG%\n",
              "0            Precious Achiuwa  0.501\n",
              "1                 Bam Adebayo  0.521\n",
              "2                Ochai Agbaji  0.411\n",
              "3                Santi Aldama  0.435\n",
              "4    Nickeil Alexander-Walker  0.439\n",
              "..                        ...    ...\n",
              "567            Thaddeus Young  0.602\n",
              "568                Trae Young  0.430\n",
              "569            Omer Yurtseven  0.538\n",
              "570               Cody Zeller  0.419\n",
              "571               Ivica Zubac  0.649\n",
              "\n",
              "[572 rows x 2 columns]"
            ],
            "text/html": [
              "\n",
              "  <div id=\"df-5496f8ae-15a6-45e1-90c6-d6d64c6929c0\" class=\"colab-df-container\">\n",
              "    <div>\n",
              "<style scoped>\n",
              "    .dataframe tbody tr th:only-of-type {\n",
              "        vertical-align: middle;\n",
              "    }\n",
              "\n",
              "    .dataframe tbody tr th {\n",
              "        vertical-align: top;\n",
              "    }\n",
              "\n",
              "    .dataframe thead th {\n",
              "        text-align: right;\n",
              "    }\n",
              "</style>\n",
              "<table border=\"1\" class=\"dataframe\">\n",
              "  <thead>\n",
              "    <tr style=\"text-align: right;\">\n",
              "      <th></th>\n",
              "      <th>Player</th>\n",
              "      <th>FG%</th>\n",
              "    </tr>\n",
              "  </thead>\n",
              "  <tbody>\n",
              "    <tr>\n",
              "      <th>0</th>\n",
              "      <td>Precious Achiuwa</td>\n",
              "      <td>0.501</td>\n",
              "    </tr>\n",
              "    <tr>\n",
              "      <th>1</th>\n",
              "      <td>Bam Adebayo</td>\n",
              "      <td>0.521</td>\n",
              "    </tr>\n",
              "    <tr>\n",
              "      <th>2</th>\n",
              "      <td>Ochai Agbaji</td>\n",
              "      <td>0.411</td>\n",
              "    </tr>\n",
              "    <tr>\n",
              "      <th>3</th>\n",
              "      <td>Santi Aldama</td>\n",
              "      <td>0.435</td>\n",
              "    </tr>\n",
              "    <tr>\n",
              "      <th>4</th>\n",
              "      <td>Nickeil Alexander-Walker</td>\n",
              "      <td>0.439</td>\n",
              "    </tr>\n",
              "    <tr>\n",
              "      <th>...</th>\n",
              "      <td>...</td>\n",
              "      <td>...</td>\n",
              "    </tr>\n",
              "    <tr>\n",
              "      <th>567</th>\n",
              "      <td>Thaddeus Young</td>\n",
              "      <td>0.602</td>\n",
              "    </tr>\n",
              "    <tr>\n",
              "      <th>568</th>\n",
              "      <td>Trae Young</td>\n",
              "      <td>0.430</td>\n",
              "    </tr>\n",
              "    <tr>\n",
              "      <th>569</th>\n",
              "      <td>Omer Yurtseven</td>\n",
              "      <td>0.538</td>\n",
              "    </tr>\n",
              "    <tr>\n",
              "      <th>570</th>\n",
              "      <td>Cody Zeller</td>\n",
              "      <td>0.419</td>\n",
              "    </tr>\n",
              "    <tr>\n",
              "      <th>571</th>\n",
              "      <td>Ivica Zubac</td>\n",
              "      <td>0.649</td>\n",
              "    </tr>\n",
              "  </tbody>\n",
              "</table>\n",
              "<p>572 rows × 2 columns</p>\n",
              "</div>\n",
              "    <div class=\"colab-df-buttons\">\n",
              "\n",
              "  <div class=\"colab-df-container\">\n",
              "    <button class=\"colab-df-convert\" onclick=\"convertToInteractive('df-5496f8ae-15a6-45e1-90c6-d6d64c6929c0')\"\n",
              "            title=\"Convert this dataframe to an interactive table.\"\n",
              "            style=\"display:none;\">\n",
              "\n",
              "  <svg xmlns=\"http://www.w3.org/2000/svg\" height=\"24px\" viewBox=\"0 -960 960 960\">\n",
              "    <path d=\"M120-120v-720h720v720H120Zm60-500h600v-160H180v160Zm220 220h160v-160H400v160Zm0 220h160v-160H400v160ZM180-400h160v-160H180v160Zm440 0h160v-160H620v160ZM180-180h160v-160H180v160Zm440 0h160v-160H620v160Z\"/>\n",
              "  </svg>\n",
              "    </button>\n",
              "\n",
              "  <style>\n",
              "    .colab-df-container {\n",
              "      display:flex;\n",
              "      gap: 12px;\n",
              "    }\n",
              "\n",
              "    .colab-df-convert {\n",
              "      background-color: #E8F0FE;\n",
              "      border: none;\n",
              "      border-radius: 50%;\n",
              "      cursor: pointer;\n",
              "      display: none;\n",
              "      fill: #1967D2;\n",
              "      height: 32px;\n",
              "      padding: 0 0 0 0;\n",
              "      width: 32px;\n",
              "    }\n",
              "\n",
              "    .colab-df-convert:hover {\n",
              "      background-color: #E2EBFA;\n",
              "      box-shadow: 0px 1px 2px rgba(60, 64, 67, 0.3), 0px 1px 3px 1px rgba(60, 64, 67, 0.15);\n",
              "      fill: #174EA6;\n",
              "    }\n",
              "\n",
              "    .colab-df-buttons div {\n",
              "      margin-bottom: 4px;\n",
              "    }\n",
              "\n",
              "    [theme=dark] .colab-df-convert {\n",
              "      background-color: #3B4455;\n",
              "      fill: #D2E3FC;\n",
              "    }\n",
              "\n",
              "    [theme=dark] .colab-df-convert:hover {\n",
              "      background-color: #434B5C;\n",
              "      box-shadow: 0px 1px 3px 1px rgba(0, 0, 0, 0.15);\n",
              "      filter: drop-shadow(0px 1px 2px rgba(0, 0, 0, 0.3));\n",
              "      fill: #FFFFFF;\n",
              "    }\n",
              "  </style>\n",
              "\n",
              "    <script>\n",
              "      const buttonEl =\n",
              "        document.querySelector('#df-5496f8ae-15a6-45e1-90c6-d6d64c6929c0 button.colab-df-convert');\n",
              "      buttonEl.style.display =\n",
              "        google.colab.kernel.accessAllowed ? 'block' : 'none';\n",
              "\n",
              "      async function convertToInteractive(key) {\n",
              "        const element = document.querySelector('#df-5496f8ae-15a6-45e1-90c6-d6d64c6929c0');\n",
              "        const dataTable =\n",
              "          await google.colab.kernel.invokeFunction('convertToInteractive',\n",
              "                                                    [key], {});\n",
              "        if (!dataTable) return;\n",
              "\n",
              "        const docLinkHtml = 'Like what you see? Visit the ' +\n",
              "          '<a target=\"_blank\" href=https://colab.research.google.com/notebooks/data_table.ipynb>data table notebook</a>'\n",
              "          + ' to learn more about interactive tables.';\n",
              "        element.innerHTML = '';\n",
              "        dataTable['output_type'] = 'display_data';\n",
              "        await google.colab.output.renderOutput(dataTable, element);\n",
              "        const docLink = document.createElement('div');\n",
              "        docLink.innerHTML = docLinkHtml;\n",
              "        element.appendChild(docLink);\n",
              "      }\n",
              "    </script>\n",
              "  </div>\n",
              "\n",
              "\n",
              "    <div id=\"df-9c90fc6c-83f6-45f5-bd7c-dc26cc77355d\">\n",
              "      <button class=\"colab-df-quickchart\" onclick=\"quickchart('df-9c90fc6c-83f6-45f5-bd7c-dc26cc77355d')\"\n",
              "                title=\"Suggest charts\"\n",
              "                style=\"display:none;\">\n",
              "\n",
              "<svg xmlns=\"http://www.w3.org/2000/svg\" height=\"24px\"viewBox=\"0 0 24 24\"\n",
              "     width=\"24px\">\n",
              "    <g>\n",
              "        <path d=\"M19 3H5c-1.1 0-2 .9-2 2v14c0 1.1.9 2 2 2h14c1.1 0 2-.9 2-2V5c0-1.1-.9-2-2-2zM9 17H7v-7h2v7zm4 0h-2V7h2v10zm4 0h-2v-4h2v4z\"/>\n",
              "    </g>\n",
              "</svg>\n",
              "      </button>\n",
              "\n",
              "<style>\n",
              "  .colab-df-quickchart {\n",
              "      --bg-color: #E8F0FE;\n",
              "      --fill-color: #1967D2;\n",
              "      --hover-bg-color: #E2EBFA;\n",
              "      --hover-fill-color: #174EA6;\n",
              "      --disabled-fill-color: #AAA;\n",
              "      --disabled-bg-color: #DDD;\n",
              "  }\n",
              "\n",
              "  [theme=dark] .colab-df-quickchart {\n",
              "      --bg-color: #3B4455;\n",
              "      --fill-color: #D2E3FC;\n",
              "      --hover-bg-color: #434B5C;\n",
              "      --hover-fill-color: #FFFFFF;\n",
              "      --disabled-bg-color: #3B4455;\n",
              "      --disabled-fill-color: #666;\n",
              "  }\n",
              "\n",
              "  .colab-df-quickchart {\n",
              "    background-color: var(--bg-color);\n",
              "    border: none;\n",
              "    border-radius: 50%;\n",
              "    cursor: pointer;\n",
              "    display: none;\n",
              "    fill: var(--fill-color);\n",
              "    height: 32px;\n",
              "    padding: 0;\n",
              "    width: 32px;\n",
              "  }\n",
              "\n",
              "  .colab-df-quickchart:hover {\n",
              "    background-color: var(--hover-bg-color);\n",
              "    box-shadow: 0 1px 2px rgba(60, 64, 67, 0.3), 0 1px 3px 1px rgba(60, 64, 67, 0.15);\n",
              "    fill: var(--button-hover-fill-color);\n",
              "  }\n",
              "\n",
              "  .colab-df-quickchart-complete:disabled,\n",
              "  .colab-df-quickchart-complete:disabled:hover {\n",
              "    background-color: var(--disabled-bg-color);\n",
              "    fill: var(--disabled-fill-color);\n",
              "    box-shadow: none;\n",
              "  }\n",
              "\n",
              "  .colab-df-spinner {\n",
              "    border: 2px solid var(--fill-color);\n",
              "    border-color: transparent;\n",
              "    border-bottom-color: var(--fill-color);\n",
              "    animation:\n",
              "      spin 1s steps(1) infinite;\n",
              "  }\n",
              "\n",
              "  @keyframes spin {\n",
              "    0% {\n",
              "      border-color: transparent;\n",
              "      border-bottom-color: var(--fill-color);\n",
              "      border-left-color: var(--fill-color);\n",
              "    }\n",
              "    20% {\n",
              "      border-color: transparent;\n",
              "      border-left-color: var(--fill-color);\n",
              "      border-top-color: var(--fill-color);\n",
              "    }\n",
              "    30% {\n",
              "      border-color: transparent;\n",
              "      border-left-color: var(--fill-color);\n",
              "      border-top-color: var(--fill-color);\n",
              "      border-right-color: var(--fill-color);\n",
              "    }\n",
              "    40% {\n",
              "      border-color: transparent;\n",
              "      border-right-color: var(--fill-color);\n",
              "      border-top-color: var(--fill-color);\n",
              "    }\n",
              "    60% {\n",
              "      border-color: transparent;\n",
              "      border-right-color: var(--fill-color);\n",
              "    }\n",
              "    80% {\n",
              "      border-color: transparent;\n",
              "      border-right-color: var(--fill-color);\n",
              "      border-bottom-color: var(--fill-color);\n",
              "    }\n",
              "    90% {\n",
              "      border-color: transparent;\n",
              "      border-bottom-color: var(--fill-color);\n",
              "    }\n",
              "  }\n",
              "</style>\n",
              "\n",
              "      <script>\n",
              "        async function quickchart(key) {\n",
              "          const quickchartButtonEl =\n",
              "            document.querySelector('#' + key + ' button');\n",
              "          quickchartButtonEl.disabled = true;  // To prevent multiple clicks.\n",
              "          quickchartButtonEl.classList.add('colab-df-spinner');\n",
              "          try {\n",
              "            const charts = await google.colab.kernel.invokeFunction(\n",
              "                'suggestCharts', [key], {});\n",
              "          } catch (error) {\n",
              "            console.error('Error during call to suggestCharts:', error);\n",
              "          }\n",
              "          quickchartButtonEl.classList.remove('colab-df-spinner');\n",
              "          quickchartButtonEl.classList.add('colab-df-quickchart-complete');\n",
              "        }\n",
              "        (() => {\n",
              "          let quickchartButtonEl =\n",
              "            document.querySelector('#df-9c90fc6c-83f6-45f5-bd7c-dc26cc77355d button');\n",
              "          quickchartButtonEl.style.display =\n",
              "            google.colab.kernel.accessAllowed ? 'block' : 'none';\n",
              "        })();\n",
              "      </script>\n",
              "    </div>\n",
              "    </div>\n",
              "  </div>\n"
            ],
            "application/vnd.google.colaboratory.intrinsic+json": {
              "type": "dataframe",
              "summary": "{\n  \"name\": \"basketball[['Player','FG%']]\",\n  \"rows\": 572,\n  \"fields\": [\n    {\n      \"column\": \"Player\",\n      \"properties\": {\n        \"dtype\": \"string\",\n        \"num_unique_values\": 572,\n        \"samples\": [\n          \"Jonas Valan\\u010di\\u016bnas\",\n          \"Jaylen Brown\",\n          \"Henri Drell\"\n        ],\n        \"semantic_type\": \"\",\n        \"description\": \"\"\n      }\n    },\n    {\n      \"column\": \"FG%\",\n      \"properties\": {\n        \"dtype\": \"number\",\n        \"std\": 0.10725905691831003,\n        \"min\": 0.0,\n        \"max\": 0.747,\n        \"num_unique_values\": 242,\n        \"samples\": [\n          0.464,\n          0.634,\n          0.353\n        ],\n        \"semantic_type\": \"\",\n        \"description\": \"\"\n      }\n    }\n  ]\n}"
            }
          },
          "metadata": {},
          "execution_count": 131
        }
      ]
    },
    {
      "cell_type": "markdown",
      "source": [
        "Want to slice multiple rows and multiple columns?"
      ],
      "metadata": {
        "id": "UmEjf6WqiOFO"
      }
    },
    {
      "cell_type": "code",
      "source": [
        "#use loc to grab the zeroth, second, and 207th row.\n",
        "basketball[['Player', 'FG%']].loc[[0,4,207]]"
      ],
      "metadata": {
        "id": "PRJxUIb_fUsg",
        "outputId": "c5817dce-a465-4b99-f5e0-3cba66fe8a93",
        "colab": {
          "base_uri": "https://localhost:8080/",
          "height": 143
        }
      },
      "execution_count": 132,
      "outputs": [
        {
          "output_type": "execute_result",
          "data": {
            "text/plain": [
              "                       Player    FG%\n",
              "0            Precious Achiuwa  0.501\n",
              "4    Nickeil Alexander-Walker  0.439\n",
              "207        Isaiah Hartenstein  0.644"
            ],
            "text/html": [
              "\n",
              "  <div id=\"df-c0a651ce-06d8-46cc-a98e-c07d5cab0dd3\" class=\"colab-df-container\">\n",
              "    <div>\n",
              "<style scoped>\n",
              "    .dataframe tbody tr th:only-of-type {\n",
              "        vertical-align: middle;\n",
              "    }\n",
              "\n",
              "    .dataframe tbody tr th {\n",
              "        vertical-align: top;\n",
              "    }\n",
              "\n",
              "    .dataframe thead th {\n",
              "        text-align: right;\n",
              "    }\n",
              "</style>\n",
              "<table border=\"1\" class=\"dataframe\">\n",
              "  <thead>\n",
              "    <tr style=\"text-align: right;\">\n",
              "      <th></th>\n",
              "      <th>Player</th>\n",
              "      <th>FG%</th>\n",
              "    </tr>\n",
              "  </thead>\n",
              "  <tbody>\n",
              "    <tr>\n",
              "      <th>0</th>\n",
              "      <td>Precious Achiuwa</td>\n",
              "      <td>0.501</td>\n",
              "    </tr>\n",
              "    <tr>\n",
              "      <th>4</th>\n",
              "      <td>Nickeil Alexander-Walker</td>\n",
              "      <td>0.439</td>\n",
              "    </tr>\n",
              "    <tr>\n",
              "      <th>207</th>\n",
              "      <td>Isaiah Hartenstein</td>\n",
              "      <td>0.644</td>\n",
              "    </tr>\n",
              "  </tbody>\n",
              "</table>\n",
              "</div>\n",
              "    <div class=\"colab-df-buttons\">\n",
              "\n",
              "  <div class=\"colab-df-container\">\n",
              "    <button class=\"colab-df-convert\" onclick=\"convertToInteractive('df-c0a651ce-06d8-46cc-a98e-c07d5cab0dd3')\"\n",
              "            title=\"Convert this dataframe to an interactive table.\"\n",
              "            style=\"display:none;\">\n",
              "\n",
              "  <svg xmlns=\"http://www.w3.org/2000/svg\" height=\"24px\" viewBox=\"0 -960 960 960\">\n",
              "    <path d=\"M120-120v-720h720v720H120Zm60-500h600v-160H180v160Zm220 220h160v-160H400v160Zm0 220h160v-160H400v160ZM180-400h160v-160H180v160Zm440 0h160v-160H620v160ZM180-180h160v-160H180v160Zm440 0h160v-160H620v160Z\"/>\n",
              "  </svg>\n",
              "    </button>\n",
              "\n",
              "  <style>\n",
              "    .colab-df-container {\n",
              "      display:flex;\n",
              "      gap: 12px;\n",
              "    }\n",
              "\n",
              "    .colab-df-convert {\n",
              "      background-color: #E8F0FE;\n",
              "      border: none;\n",
              "      border-radius: 50%;\n",
              "      cursor: pointer;\n",
              "      display: none;\n",
              "      fill: #1967D2;\n",
              "      height: 32px;\n",
              "      padding: 0 0 0 0;\n",
              "      width: 32px;\n",
              "    }\n",
              "\n",
              "    .colab-df-convert:hover {\n",
              "      background-color: #E2EBFA;\n",
              "      box-shadow: 0px 1px 2px rgba(60, 64, 67, 0.3), 0px 1px 3px 1px rgba(60, 64, 67, 0.15);\n",
              "      fill: #174EA6;\n",
              "    }\n",
              "\n",
              "    .colab-df-buttons div {\n",
              "      margin-bottom: 4px;\n",
              "    }\n",
              "\n",
              "    [theme=dark] .colab-df-convert {\n",
              "      background-color: #3B4455;\n",
              "      fill: #D2E3FC;\n",
              "    }\n",
              "\n",
              "    [theme=dark] .colab-df-convert:hover {\n",
              "      background-color: #434B5C;\n",
              "      box-shadow: 0px 1px 3px 1px rgba(0, 0, 0, 0.15);\n",
              "      filter: drop-shadow(0px 1px 2px rgba(0, 0, 0, 0.3));\n",
              "      fill: #FFFFFF;\n",
              "    }\n",
              "  </style>\n",
              "\n",
              "    <script>\n",
              "      const buttonEl =\n",
              "        document.querySelector('#df-c0a651ce-06d8-46cc-a98e-c07d5cab0dd3 button.colab-df-convert');\n",
              "      buttonEl.style.display =\n",
              "        google.colab.kernel.accessAllowed ? 'block' : 'none';\n",
              "\n",
              "      async function convertToInteractive(key) {\n",
              "        const element = document.querySelector('#df-c0a651ce-06d8-46cc-a98e-c07d5cab0dd3');\n",
              "        const dataTable =\n",
              "          await google.colab.kernel.invokeFunction('convertToInteractive',\n",
              "                                                    [key], {});\n",
              "        if (!dataTable) return;\n",
              "\n",
              "        const docLinkHtml = 'Like what you see? Visit the ' +\n",
              "          '<a target=\"_blank\" href=https://colab.research.google.com/notebooks/data_table.ipynb>data table notebook</a>'\n",
              "          + ' to learn more about interactive tables.';\n",
              "        element.innerHTML = '';\n",
              "        dataTable['output_type'] = 'display_data';\n",
              "        await google.colab.output.renderOutput(dataTable, element);\n",
              "        const docLink = document.createElement('div');\n",
              "        docLink.innerHTML = docLinkHtml;\n",
              "        element.appendChild(docLink);\n",
              "      }\n",
              "    </script>\n",
              "  </div>\n",
              "\n",
              "\n",
              "    <div id=\"df-635f42c7-8986-4b88-8a7b-bb00f83650b0\">\n",
              "      <button class=\"colab-df-quickchart\" onclick=\"quickchart('df-635f42c7-8986-4b88-8a7b-bb00f83650b0')\"\n",
              "                title=\"Suggest charts\"\n",
              "                style=\"display:none;\">\n",
              "\n",
              "<svg xmlns=\"http://www.w3.org/2000/svg\" height=\"24px\"viewBox=\"0 0 24 24\"\n",
              "     width=\"24px\">\n",
              "    <g>\n",
              "        <path d=\"M19 3H5c-1.1 0-2 .9-2 2v14c0 1.1.9 2 2 2h14c1.1 0 2-.9 2-2V5c0-1.1-.9-2-2-2zM9 17H7v-7h2v7zm4 0h-2V7h2v10zm4 0h-2v-4h2v4z\"/>\n",
              "    </g>\n",
              "</svg>\n",
              "      </button>\n",
              "\n",
              "<style>\n",
              "  .colab-df-quickchart {\n",
              "      --bg-color: #E8F0FE;\n",
              "      --fill-color: #1967D2;\n",
              "      --hover-bg-color: #E2EBFA;\n",
              "      --hover-fill-color: #174EA6;\n",
              "      --disabled-fill-color: #AAA;\n",
              "      --disabled-bg-color: #DDD;\n",
              "  }\n",
              "\n",
              "  [theme=dark] .colab-df-quickchart {\n",
              "      --bg-color: #3B4455;\n",
              "      --fill-color: #D2E3FC;\n",
              "      --hover-bg-color: #434B5C;\n",
              "      --hover-fill-color: #FFFFFF;\n",
              "      --disabled-bg-color: #3B4455;\n",
              "      --disabled-fill-color: #666;\n",
              "  }\n",
              "\n",
              "  .colab-df-quickchart {\n",
              "    background-color: var(--bg-color);\n",
              "    border: none;\n",
              "    border-radius: 50%;\n",
              "    cursor: pointer;\n",
              "    display: none;\n",
              "    fill: var(--fill-color);\n",
              "    height: 32px;\n",
              "    padding: 0;\n",
              "    width: 32px;\n",
              "  }\n",
              "\n",
              "  .colab-df-quickchart:hover {\n",
              "    background-color: var(--hover-bg-color);\n",
              "    box-shadow: 0 1px 2px rgba(60, 64, 67, 0.3), 0 1px 3px 1px rgba(60, 64, 67, 0.15);\n",
              "    fill: var(--button-hover-fill-color);\n",
              "  }\n",
              "\n",
              "  .colab-df-quickchart-complete:disabled,\n",
              "  .colab-df-quickchart-complete:disabled:hover {\n",
              "    background-color: var(--disabled-bg-color);\n",
              "    fill: var(--disabled-fill-color);\n",
              "    box-shadow: none;\n",
              "  }\n",
              "\n",
              "  .colab-df-spinner {\n",
              "    border: 2px solid var(--fill-color);\n",
              "    border-color: transparent;\n",
              "    border-bottom-color: var(--fill-color);\n",
              "    animation:\n",
              "      spin 1s steps(1) infinite;\n",
              "  }\n",
              "\n",
              "  @keyframes spin {\n",
              "    0% {\n",
              "      border-color: transparent;\n",
              "      border-bottom-color: var(--fill-color);\n",
              "      border-left-color: var(--fill-color);\n",
              "    }\n",
              "    20% {\n",
              "      border-color: transparent;\n",
              "      border-left-color: var(--fill-color);\n",
              "      border-top-color: var(--fill-color);\n",
              "    }\n",
              "    30% {\n",
              "      border-color: transparent;\n",
              "      border-left-color: var(--fill-color);\n",
              "      border-top-color: var(--fill-color);\n",
              "      border-right-color: var(--fill-color);\n",
              "    }\n",
              "    40% {\n",
              "      border-color: transparent;\n",
              "      border-right-color: var(--fill-color);\n",
              "      border-top-color: var(--fill-color);\n",
              "    }\n",
              "    60% {\n",
              "      border-color: transparent;\n",
              "      border-right-color: var(--fill-color);\n",
              "    }\n",
              "    80% {\n",
              "      border-color: transparent;\n",
              "      border-right-color: var(--fill-color);\n",
              "      border-bottom-color: var(--fill-color);\n",
              "    }\n",
              "    90% {\n",
              "      border-color: transparent;\n",
              "      border-bottom-color: var(--fill-color);\n",
              "    }\n",
              "  }\n",
              "</style>\n",
              "\n",
              "      <script>\n",
              "        async function quickchart(key) {\n",
              "          const quickchartButtonEl =\n",
              "            document.querySelector('#' + key + ' button');\n",
              "          quickchartButtonEl.disabled = true;  // To prevent multiple clicks.\n",
              "          quickchartButtonEl.classList.add('colab-df-spinner');\n",
              "          try {\n",
              "            const charts = await google.colab.kernel.invokeFunction(\n",
              "                'suggestCharts', [key], {});\n",
              "          } catch (error) {\n",
              "            console.error('Error during call to suggestCharts:', error);\n",
              "          }\n",
              "          quickchartButtonEl.classList.remove('colab-df-spinner');\n",
              "          quickchartButtonEl.classList.add('colab-df-quickchart-complete');\n",
              "        }\n",
              "        (() => {\n",
              "          let quickchartButtonEl =\n",
              "            document.querySelector('#df-635f42c7-8986-4b88-8a7b-bb00f83650b0 button');\n",
              "          quickchartButtonEl.style.display =\n",
              "            google.colab.kernel.accessAllowed ? 'block' : 'none';\n",
              "        })();\n",
              "      </script>\n",
              "    </div>\n",
              "    </div>\n",
              "  </div>\n"
            ],
            "application/vnd.google.colaboratory.intrinsic+json": {
              "type": "dataframe",
              "summary": "{\n  \"name\": \"basketball[['Player', 'FG%']]\",\n  \"rows\": 3,\n  \"fields\": [\n    {\n      \"column\": \"Player\",\n      \"properties\": {\n        \"dtype\": \"string\",\n        \"num_unique_values\": 3,\n        \"samples\": [\n          \"Precious Achiuwa\",\n          \"Nickeil Alexander-Walker\",\n          \"Isaiah Hartenstein\"\n        ],\n        \"semantic_type\": \"\",\n        \"description\": \"\"\n      }\n    },\n    {\n      \"column\": \"FG%\",\n      \"properties\": {\n        \"dtype\": \"number\",\n        \"std\": 0.10513324878457814,\n        \"min\": 0.439,\n        \"max\": 0.644,\n        \"num_unique_values\": 3,\n        \"samples\": [\n          0.501,\n          0.439,\n          0.644\n        ],\n        \"semantic_type\": \"\",\n        \"description\": \"\"\n      }\n    }\n  ]\n}"
            }
          },
          "metadata": {},
          "execution_count": 132
        }
      ]
    },
    {
      "cell_type": "markdown",
      "source": [
        "**Task9**:\n",
        "\n",
        "Find the names of the Players, feild goal attempts (FGA) and total points (PTS) of the players in the 87th and  94th row."
      ],
      "metadata": {
        "id": "tmUPcmYoSifQ"
      }
    },
    {
      "cell_type": "code",
      "source": [
        "#ANSWER9\n",
        "\n"
      ],
      "metadata": {
        "id": "-J9tKk5mTFzz"
      },
      "execution_count": 133,
      "outputs": []
    },
    {
      "cell_type": "markdown",
      "source": [
        "### Query and Bools\n",
        "\n",
        "Because I provide clean, moderate to small sized data sets in this course, most of our data wrangling problems can be solved with query.\n",
        "\n",
        "Query makes use of a built in data type we haven't mentioned yet, called a bool."
      ],
      "metadata": {
        "id": "s8178kjoBtyU"
      }
    },
    {
      "cell_type": "markdown",
      "source": [
        "I'll give you an example of query, and then I'll define bools."
      ],
      "metadata": {
        "id": "-xwLw819HN_g"
      }
    },
    {
      "cell_type": "code",
      "source": [
        "#finds all players with more offensive rebounds than defensive rebounds\n",
        "#and who have also played more than 100 minutes\n",
        "hustle_players = basketball.query('ORB >= DRB and MP >= 100')\n",
        "hustle_players"
      ],
      "metadata": {
        "id": "NixyQgeYCPXf",
        "outputId": "fe75e7ab-e147-4725-ec29-d96c7046ac97",
        "colab": {
          "base_uri": "https://localhost:8080/",
          "height": 468
        }
      },
      "execution_count": 134,
      "outputs": [
        {
          "output_type": "execute_result",
          "data": {
            "text/plain": [
              "                     Player Pos  Age   Tm   G  GS   MP   FG  FGA    FG%  ...  \\\n",
              "11   Thanasis Antetokounmpo  PF   31  MIL  34   0  155   16   30  0.533  ...   \n",
              "164              Luka Garza   C   25  MIN  25   0  122   36   75  0.480  ...   \n",
              "191        Mouhamadou Gueye  PF   25  TOR  11   0  120   11   38  0.289  ...   \n",
              "234            Matthew Hurt  PF   23  MEM   8   0  113   12   34  0.353  ...   \n",
              "286            Jock Landale   C   28  HOU  56   3  763  106  206  0.515  ...   \n",
              "295           Maxwell Lewis  SF   21  LAL  34   0  103    4   21  0.190  ...   \n",
              "346           Justin Minaya  SF   24  POR  34   1  381   22   74  0.297  ...   \n",
              "433       Mitchell Robinson   C   25  NYK  31  21  768   73  127  0.575  ...   \n",
              "551      Jeenathan Williams  SG   24  HOU  22   0  129   27   50  0.540  ...   \n",
              "\n",
              "     ORB  DRB  TRB  AST  STL  BLK  TOV  PF  PTS  Player-additional  \n",
              "11     7    6   13   17    7    4   14  24   32          antetth01  \n",
              "164   19   12   31    4    4    1    6  24   99          garzalu01  \n",
              "191   12   11   23    5    3   18   12  15   26          gueyemo01  \n",
              "234    9    7   16    4    3    3    2   8   32           hurtma01  \n",
              "286   88   84  172   65   20   33   31  74  274          landajo01  \n",
              "295    2    2    4    6    2    1   10   5   11          lewisma05  \n",
              "346   30   26   56   21    9   10    9  35   61          minayju01  \n",
              "433  142  121  263   18   37   35   25  55  173          robinmi01  \n",
              "551   12   11   23    7    4    1    4  10   63          willije02  \n",
              "\n",
              "[9 rows x 30 columns]"
            ],
            "text/html": [
              "\n",
              "  <div id=\"df-d2e5378a-5af9-4f6d-9f8a-76c669d8a0ea\" class=\"colab-df-container\">\n",
              "    <div>\n",
              "<style scoped>\n",
              "    .dataframe tbody tr th:only-of-type {\n",
              "        vertical-align: middle;\n",
              "    }\n",
              "\n",
              "    .dataframe tbody tr th {\n",
              "        vertical-align: top;\n",
              "    }\n",
              "\n",
              "    .dataframe thead th {\n",
              "        text-align: right;\n",
              "    }\n",
              "</style>\n",
              "<table border=\"1\" class=\"dataframe\">\n",
              "  <thead>\n",
              "    <tr style=\"text-align: right;\">\n",
              "      <th></th>\n",
              "      <th>Player</th>\n",
              "      <th>Pos</th>\n",
              "      <th>Age</th>\n",
              "      <th>Tm</th>\n",
              "      <th>G</th>\n",
              "      <th>GS</th>\n",
              "      <th>MP</th>\n",
              "      <th>FG</th>\n",
              "      <th>FGA</th>\n",
              "      <th>FG%</th>\n",
              "      <th>...</th>\n",
              "      <th>ORB</th>\n",
              "      <th>DRB</th>\n",
              "      <th>TRB</th>\n",
              "      <th>AST</th>\n",
              "      <th>STL</th>\n",
              "      <th>BLK</th>\n",
              "      <th>TOV</th>\n",
              "      <th>PF</th>\n",
              "      <th>PTS</th>\n",
              "      <th>Player-additional</th>\n",
              "    </tr>\n",
              "  </thead>\n",
              "  <tbody>\n",
              "    <tr>\n",
              "      <th>11</th>\n",
              "      <td>Thanasis Antetokounmpo</td>\n",
              "      <td>PF</td>\n",
              "      <td>31</td>\n",
              "      <td>MIL</td>\n",
              "      <td>34</td>\n",
              "      <td>0</td>\n",
              "      <td>155</td>\n",
              "      <td>16</td>\n",
              "      <td>30</td>\n",
              "      <td>0.533</td>\n",
              "      <td>...</td>\n",
              "      <td>7</td>\n",
              "      <td>6</td>\n",
              "      <td>13</td>\n",
              "      <td>17</td>\n",
              "      <td>7</td>\n",
              "      <td>4</td>\n",
              "      <td>14</td>\n",
              "      <td>24</td>\n",
              "      <td>32</td>\n",
              "      <td>antetth01</td>\n",
              "    </tr>\n",
              "    <tr>\n",
              "      <th>164</th>\n",
              "      <td>Luka Garza</td>\n",
              "      <td>C</td>\n",
              "      <td>25</td>\n",
              "      <td>MIN</td>\n",
              "      <td>25</td>\n",
              "      <td>0</td>\n",
              "      <td>122</td>\n",
              "      <td>36</td>\n",
              "      <td>75</td>\n",
              "      <td>0.480</td>\n",
              "      <td>...</td>\n",
              "      <td>19</td>\n",
              "      <td>12</td>\n",
              "      <td>31</td>\n",
              "      <td>4</td>\n",
              "      <td>4</td>\n",
              "      <td>1</td>\n",
              "      <td>6</td>\n",
              "      <td>24</td>\n",
              "      <td>99</td>\n",
              "      <td>garzalu01</td>\n",
              "    </tr>\n",
              "    <tr>\n",
              "      <th>191</th>\n",
              "      <td>Mouhamadou Gueye</td>\n",
              "      <td>PF</td>\n",
              "      <td>25</td>\n",
              "      <td>TOR</td>\n",
              "      <td>11</td>\n",
              "      <td>0</td>\n",
              "      <td>120</td>\n",
              "      <td>11</td>\n",
              "      <td>38</td>\n",
              "      <td>0.289</td>\n",
              "      <td>...</td>\n",
              "      <td>12</td>\n",
              "      <td>11</td>\n",
              "      <td>23</td>\n",
              "      <td>5</td>\n",
              "      <td>3</td>\n",
              "      <td>18</td>\n",
              "      <td>12</td>\n",
              "      <td>15</td>\n",
              "      <td>26</td>\n",
              "      <td>gueyemo01</td>\n",
              "    </tr>\n",
              "    <tr>\n",
              "      <th>234</th>\n",
              "      <td>Matthew Hurt</td>\n",
              "      <td>PF</td>\n",
              "      <td>23</td>\n",
              "      <td>MEM</td>\n",
              "      <td>8</td>\n",
              "      <td>0</td>\n",
              "      <td>113</td>\n",
              "      <td>12</td>\n",
              "      <td>34</td>\n",
              "      <td>0.353</td>\n",
              "      <td>...</td>\n",
              "      <td>9</td>\n",
              "      <td>7</td>\n",
              "      <td>16</td>\n",
              "      <td>4</td>\n",
              "      <td>3</td>\n",
              "      <td>3</td>\n",
              "      <td>2</td>\n",
              "      <td>8</td>\n",
              "      <td>32</td>\n",
              "      <td>hurtma01</td>\n",
              "    </tr>\n",
              "    <tr>\n",
              "      <th>286</th>\n",
              "      <td>Jock Landale</td>\n",
              "      <td>C</td>\n",
              "      <td>28</td>\n",
              "      <td>HOU</td>\n",
              "      <td>56</td>\n",
              "      <td>3</td>\n",
              "      <td>763</td>\n",
              "      <td>106</td>\n",
              "      <td>206</td>\n",
              "      <td>0.515</td>\n",
              "      <td>...</td>\n",
              "      <td>88</td>\n",
              "      <td>84</td>\n",
              "      <td>172</td>\n",
              "      <td>65</td>\n",
              "      <td>20</td>\n",
              "      <td>33</td>\n",
              "      <td>31</td>\n",
              "      <td>74</td>\n",
              "      <td>274</td>\n",
              "      <td>landajo01</td>\n",
              "    </tr>\n",
              "    <tr>\n",
              "      <th>295</th>\n",
              "      <td>Maxwell Lewis</td>\n",
              "      <td>SF</td>\n",
              "      <td>21</td>\n",
              "      <td>LAL</td>\n",
              "      <td>34</td>\n",
              "      <td>0</td>\n",
              "      <td>103</td>\n",
              "      <td>4</td>\n",
              "      <td>21</td>\n",
              "      <td>0.190</td>\n",
              "      <td>...</td>\n",
              "      <td>2</td>\n",
              "      <td>2</td>\n",
              "      <td>4</td>\n",
              "      <td>6</td>\n",
              "      <td>2</td>\n",
              "      <td>1</td>\n",
              "      <td>10</td>\n",
              "      <td>5</td>\n",
              "      <td>11</td>\n",
              "      <td>lewisma05</td>\n",
              "    </tr>\n",
              "    <tr>\n",
              "      <th>346</th>\n",
              "      <td>Justin Minaya</td>\n",
              "      <td>SF</td>\n",
              "      <td>24</td>\n",
              "      <td>POR</td>\n",
              "      <td>34</td>\n",
              "      <td>1</td>\n",
              "      <td>381</td>\n",
              "      <td>22</td>\n",
              "      <td>74</td>\n",
              "      <td>0.297</td>\n",
              "      <td>...</td>\n",
              "      <td>30</td>\n",
              "      <td>26</td>\n",
              "      <td>56</td>\n",
              "      <td>21</td>\n",
              "      <td>9</td>\n",
              "      <td>10</td>\n",
              "      <td>9</td>\n",
              "      <td>35</td>\n",
              "      <td>61</td>\n",
              "      <td>minayju01</td>\n",
              "    </tr>\n",
              "    <tr>\n",
              "      <th>433</th>\n",
              "      <td>Mitchell Robinson</td>\n",
              "      <td>C</td>\n",
              "      <td>25</td>\n",
              "      <td>NYK</td>\n",
              "      <td>31</td>\n",
              "      <td>21</td>\n",
              "      <td>768</td>\n",
              "      <td>73</td>\n",
              "      <td>127</td>\n",
              "      <td>0.575</td>\n",
              "      <td>...</td>\n",
              "      <td>142</td>\n",
              "      <td>121</td>\n",
              "      <td>263</td>\n",
              "      <td>18</td>\n",
              "      <td>37</td>\n",
              "      <td>35</td>\n",
              "      <td>25</td>\n",
              "      <td>55</td>\n",
              "      <td>173</td>\n",
              "      <td>robinmi01</td>\n",
              "    </tr>\n",
              "    <tr>\n",
              "      <th>551</th>\n",
              "      <td>Jeenathan Williams</td>\n",
              "      <td>SG</td>\n",
              "      <td>24</td>\n",
              "      <td>HOU</td>\n",
              "      <td>22</td>\n",
              "      <td>0</td>\n",
              "      <td>129</td>\n",
              "      <td>27</td>\n",
              "      <td>50</td>\n",
              "      <td>0.540</td>\n",
              "      <td>...</td>\n",
              "      <td>12</td>\n",
              "      <td>11</td>\n",
              "      <td>23</td>\n",
              "      <td>7</td>\n",
              "      <td>4</td>\n",
              "      <td>1</td>\n",
              "      <td>4</td>\n",
              "      <td>10</td>\n",
              "      <td>63</td>\n",
              "      <td>willije02</td>\n",
              "    </tr>\n",
              "  </tbody>\n",
              "</table>\n",
              "<p>9 rows × 30 columns</p>\n",
              "</div>\n",
              "    <div class=\"colab-df-buttons\">\n",
              "\n",
              "  <div class=\"colab-df-container\">\n",
              "    <button class=\"colab-df-convert\" onclick=\"convertToInteractive('df-d2e5378a-5af9-4f6d-9f8a-76c669d8a0ea')\"\n",
              "            title=\"Convert this dataframe to an interactive table.\"\n",
              "            style=\"display:none;\">\n",
              "\n",
              "  <svg xmlns=\"http://www.w3.org/2000/svg\" height=\"24px\" viewBox=\"0 -960 960 960\">\n",
              "    <path d=\"M120-120v-720h720v720H120Zm60-500h600v-160H180v160Zm220 220h160v-160H400v160Zm0 220h160v-160H400v160ZM180-400h160v-160H180v160Zm440 0h160v-160H620v160ZM180-180h160v-160H180v160Zm440 0h160v-160H620v160Z\"/>\n",
              "  </svg>\n",
              "    </button>\n",
              "\n",
              "  <style>\n",
              "    .colab-df-container {\n",
              "      display:flex;\n",
              "      gap: 12px;\n",
              "    }\n",
              "\n",
              "    .colab-df-convert {\n",
              "      background-color: #E8F0FE;\n",
              "      border: none;\n",
              "      border-radius: 50%;\n",
              "      cursor: pointer;\n",
              "      display: none;\n",
              "      fill: #1967D2;\n",
              "      height: 32px;\n",
              "      padding: 0 0 0 0;\n",
              "      width: 32px;\n",
              "    }\n",
              "\n",
              "    .colab-df-convert:hover {\n",
              "      background-color: #E2EBFA;\n",
              "      box-shadow: 0px 1px 2px rgba(60, 64, 67, 0.3), 0px 1px 3px 1px rgba(60, 64, 67, 0.15);\n",
              "      fill: #174EA6;\n",
              "    }\n",
              "\n",
              "    .colab-df-buttons div {\n",
              "      margin-bottom: 4px;\n",
              "    }\n",
              "\n",
              "    [theme=dark] .colab-df-convert {\n",
              "      background-color: #3B4455;\n",
              "      fill: #D2E3FC;\n",
              "    }\n",
              "\n",
              "    [theme=dark] .colab-df-convert:hover {\n",
              "      background-color: #434B5C;\n",
              "      box-shadow: 0px 1px 3px 1px rgba(0, 0, 0, 0.15);\n",
              "      filter: drop-shadow(0px 1px 2px rgba(0, 0, 0, 0.3));\n",
              "      fill: #FFFFFF;\n",
              "    }\n",
              "  </style>\n",
              "\n",
              "    <script>\n",
              "      const buttonEl =\n",
              "        document.querySelector('#df-d2e5378a-5af9-4f6d-9f8a-76c669d8a0ea button.colab-df-convert');\n",
              "      buttonEl.style.display =\n",
              "        google.colab.kernel.accessAllowed ? 'block' : 'none';\n",
              "\n",
              "      async function convertToInteractive(key) {\n",
              "        const element = document.querySelector('#df-d2e5378a-5af9-4f6d-9f8a-76c669d8a0ea');\n",
              "        const dataTable =\n",
              "          await google.colab.kernel.invokeFunction('convertToInteractive',\n",
              "                                                    [key], {});\n",
              "        if (!dataTable) return;\n",
              "\n",
              "        const docLinkHtml = 'Like what you see? Visit the ' +\n",
              "          '<a target=\"_blank\" href=https://colab.research.google.com/notebooks/data_table.ipynb>data table notebook</a>'\n",
              "          + ' to learn more about interactive tables.';\n",
              "        element.innerHTML = '';\n",
              "        dataTable['output_type'] = 'display_data';\n",
              "        await google.colab.output.renderOutput(dataTable, element);\n",
              "        const docLink = document.createElement('div');\n",
              "        docLink.innerHTML = docLinkHtml;\n",
              "        element.appendChild(docLink);\n",
              "      }\n",
              "    </script>\n",
              "  </div>\n",
              "\n",
              "\n",
              "    <div id=\"df-e2f57ba6-6ace-4906-8c1d-dc984261c275\">\n",
              "      <button class=\"colab-df-quickchart\" onclick=\"quickchart('df-e2f57ba6-6ace-4906-8c1d-dc984261c275')\"\n",
              "                title=\"Suggest charts\"\n",
              "                style=\"display:none;\">\n",
              "\n",
              "<svg xmlns=\"http://www.w3.org/2000/svg\" height=\"24px\"viewBox=\"0 0 24 24\"\n",
              "     width=\"24px\">\n",
              "    <g>\n",
              "        <path d=\"M19 3H5c-1.1 0-2 .9-2 2v14c0 1.1.9 2 2 2h14c1.1 0 2-.9 2-2V5c0-1.1-.9-2-2-2zM9 17H7v-7h2v7zm4 0h-2V7h2v10zm4 0h-2v-4h2v4z\"/>\n",
              "    </g>\n",
              "</svg>\n",
              "      </button>\n",
              "\n",
              "<style>\n",
              "  .colab-df-quickchart {\n",
              "      --bg-color: #E8F0FE;\n",
              "      --fill-color: #1967D2;\n",
              "      --hover-bg-color: #E2EBFA;\n",
              "      --hover-fill-color: #174EA6;\n",
              "      --disabled-fill-color: #AAA;\n",
              "      --disabled-bg-color: #DDD;\n",
              "  }\n",
              "\n",
              "  [theme=dark] .colab-df-quickchart {\n",
              "      --bg-color: #3B4455;\n",
              "      --fill-color: #D2E3FC;\n",
              "      --hover-bg-color: #434B5C;\n",
              "      --hover-fill-color: #FFFFFF;\n",
              "      --disabled-bg-color: #3B4455;\n",
              "      --disabled-fill-color: #666;\n",
              "  }\n",
              "\n",
              "  .colab-df-quickchart {\n",
              "    background-color: var(--bg-color);\n",
              "    border: none;\n",
              "    border-radius: 50%;\n",
              "    cursor: pointer;\n",
              "    display: none;\n",
              "    fill: var(--fill-color);\n",
              "    height: 32px;\n",
              "    padding: 0;\n",
              "    width: 32px;\n",
              "  }\n",
              "\n",
              "  .colab-df-quickchart:hover {\n",
              "    background-color: var(--hover-bg-color);\n",
              "    box-shadow: 0 1px 2px rgba(60, 64, 67, 0.3), 0 1px 3px 1px rgba(60, 64, 67, 0.15);\n",
              "    fill: var(--button-hover-fill-color);\n",
              "  }\n",
              "\n",
              "  .colab-df-quickchart-complete:disabled,\n",
              "  .colab-df-quickchart-complete:disabled:hover {\n",
              "    background-color: var(--disabled-bg-color);\n",
              "    fill: var(--disabled-fill-color);\n",
              "    box-shadow: none;\n",
              "  }\n",
              "\n",
              "  .colab-df-spinner {\n",
              "    border: 2px solid var(--fill-color);\n",
              "    border-color: transparent;\n",
              "    border-bottom-color: var(--fill-color);\n",
              "    animation:\n",
              "      spin 1s steps(1) infinite;\n",
              "  }\n",
              "\n",
              "  @keyframes spin {\n",
              "    0% {\n",
              "      border-color: transparent;\n",
              "      border-bottom-color: var(--fill-color);\n",
              "      border-left-color: var(--fill-color);\n",
              "    }\n",
              "    20% {\n",
              "      border-color: transparent;\n",
              "      border-left-color: var(--fill-color);\n",
              "      border-top-color: var(--fill-color);\n",
              "    }\n",
              "    30% {\n",
              "      border-color: transparent;\n",
              "      border-left-color: var(--fill-color);\n",
              "      border-top-color: var(--fill-color);\n",
              "      border-right-color: var(--fill-color);\n",
              "    }\n",
              "    40% {\n",
              "      border-color: transparent;\n",
              "      border-right-color: var(--fill-color);\n",
              "      border-top-color: var(--fill-color);\n",
              "    }\n",
              "    60% {\n",
              "      border-color: transparent;\n",
              "      border-right-color: var(--fill-color);\n",
              "    }\n",
              "    80% {\n",
              "      border-color: transparent;\n",
              "      border-right-color: var(--fill-color);\n",
              "      border-bottom-color: var(--fill-color);\n",
              "    }\n",
              "    90% {\n",
              "      border-color: transparent;\n",
              "      border-bottom-color: var(--fill-color);\n",
              "    }\n",
              "  }\n",
              "</style>\n",
              "\n",
              "      <script>\n",
              "        async function quickchart(key) {\n",
              "          const quickchartButtonEl =\n",
              "            document.querySelector('#' + key + ' button');\n",
              "          quickchartButtonEl.disabled = true;  // To prevent multiple clicks.\n",
              "          quickchartButtonEl.classList.add('colab-df-spinner');\n",
              "          try {\n",
              "            const charts = await google.colab.kernel.invokeFunction(\n",
              "                'suggestCharts', [key], {});\n",
              "          } catch (error) {\n",
              "            console.error('Error during call to suggestCharts:', error);\n",
              "          }\n",
              "          quickchartButtonEl.classList.remove('colab-df-spinner');\n",
              "          quickchartButtonEl.classList.add('colab-df-quickchart-complete');\n",
              "        }\n",
              "        (() => {\n",
              "          let quickchartButtonEl =\n",
              "            document.querySelector('#df-e2f57ba6-6ace-4906-8c1d-dc984261c275 button');\n",
              "          quickchartButtonEl.style.display =\n",
              "            google.colab.kernel.accessAllowed ? 'block' : 'none';\n",
              "        })();\n",
              "      </script>\n",
              "    </div>\n",
              "    </div>\n",
              "  </div>\n"
            ],
            "application/vnd.google.colaboratory.intrinsic+json": {
              "type": "dataframe",
              "variable_name": "hustle_players"
            }
          },
          "metadata": {},
          "execution_count": 134
        }
      ]
    },
    {
      "cell_type": "markdown",
      "source": [
        "Bools are True or False. True is 1, and False is 0. The key words True and False cannot be variables"
      ],
      "metadata": {
        "id": "cqNSRXlKLjzY"
      }
    },
    {
      "cell_type": "code",
      "source": [
        "True = 2"
      ],
      "metadata": {
        "id": "IMkoHCnxNBlT",
        "outputId": "d005d469-4c85-4f4d-b9b0-4ce8e19253a7",
        "colab": {
          "base_uri": "https://localhost:8080/",
          "height": 106
        }
      },
      "execution_count": 135,
      "outputs": [
        {
          "output_type": "error",
          "ename": "SyntaxError",
          "evalue": "cannot assign to True (ipython-input-210365840.py, line 1)",
          "traceback": [
            "\u001b[0;36m  File \u001b[0;32m\"/tmp/ipython-input-210365840.py\"\u001b[0;36m, line \u001b[0;32m1\u001b[0m\n\u001b[0;31m    True = 2\u001b[0m\n\u001b[0m    ^\u001b[0m\n\u001b[0;31mSyntaxError\u001b[0m\u001b[0;31m:\u001b[0m cannot assign to True\n"
          ]
        }
      ]
    },
    {
      "cell_type": "markdown",
      "source": [
        "They come into play when I apply boolean operators. For example, if I want to know if 5 equals 5."
      ],
      "metadata": {
        "id": "CAm_sVCKNjhj"
      }
    },
    {
      "cell_type": "code",
      "source": [
        "#does 5 equal 5?\n",
        "5 == 5"
      ],
      "metadata": {
        "id": "pHII6IpJNsqH"
      },
      "execution_count": null,
      "outputs": []
    },
    {
      "cell_type": "code",
      "source": [
        "#does 5 equal 'five'?\n",
        "5 == 'five'"
      ],
      "metadata": {
        "id": "tJc4gWaEN1NC"
      },
      "execution_count": null,
      "outputs": []
    },
    {
      "cell_type": "markdown",
      "source": [
        "True and False are also the numbers 1 and 0 respectively. This can come in handy"
      ],
      "metadata": {
        "id": "vhEu9RJ6N-0P"
      }
    },
    {
      "cell_type": "code",
      "source": [
        "#True equals 1\n",
        "True == 1"
      ],
      "metadata": {
        "id": "0lX5v4HsOFsr"
      },
      "execution_count": null,
      "outputs": []
    },
    {
      "cell_type": "code",
      "source": [
        "#True not equaling 1 is False\n",
        "True != 1"
      ],
      "metadata": {
        "id": "ZaXQGv0xOMST"
      },
      "execution_count": null,
      "outputs": []
    },
    {
      "cell_type": "code",
      "source": [
        "#Adding bools counts the number of trues\n",
        "False + True + True + False + False"
      ],
      "metadata": {
        "id": "VZLlermvOqPf"
      },
      "execution_count": null,
      "outputs": []
    },
    {
      "cell_type": "markdown",
      "source": [
        "Here's an example each of *and*, *or*, and *not*."
      ],
      "metadata": {
        "id": "nyoZmvB0O8ap"
      }
    },
    {
      "cell_type": "code",
      "source": [
        "#both sides must be true for and\n",
        "(True == 1) and (False != 0)"
      ],
      "metadata": {
        "id": "P9d-EEnyPBrx"
      },
      "execution_count": null,
      "outputs": []
    },
    {
      "cell_type": "code",
      "source": [
        "#only one side (or more) needs to be true for or\n",
        "(True == 1) or (False != 0)"
      ],
      "metadata": {
        "id": "Ukyk9iqwPWbI"
      },
      "execution_count": null,
      "outputs": []
    },
    {
      "cell_type": "code",
      "source": [
        "#not swaps True for False, and False for True\n",
        "not 0, not False"
      ],
      "metadata": {
        "id": "B86v6IJXPc9n"
      },
      "execution_count": null,
      "outputs": []
    },
    {
      "cell_type": "markdown",
      "source": [
        "Here are the other four boolean operations."
      ],
      "metadata": {
        "id": "yT-aKlvBQCD-"
      }
    },
    {
      "cell_type": "code",
      "source": [
        "#strictly less than, and strickly greater than\n",
        "0 < 0, 4 > 5"
      ],
      "metadata": {
        "id": "6gbLhA01QGO4"
      },
      "execution_count": null,
      "outputs": []
    },
    {
      "cell_type": "code",
      "source": [
        "#less than or equal to, and greater than or equal to\n",
        "5 <= 5, 6 >= 5"
      ],
      "metadata": {
        "id": "315B_UvnQVsl"
      },
      "execution_count": null,
      "outputs": []
    },
    {
      "cell_type": "markdown",
      "source": [
        "Now that you know what bools are, use my example query from above to complete the task below."
      ],
      "metadata": {
        "id": "jBzfaRgISPH-"
      }
    },
    {
      "cell_type": "markdown",
      "source": [
        "**Task10**:\n",
        "\n",
        "Find all the players that have played more than 41 games (G), and have more turn overs (TOV) than assists (AST)."
      ],
      "metadata": {
        "id": "cofxFtMVXVEq"
      }
    },
    {
      "cell_type": "code",
      "source": [
        "#ANSWER10\n",
        "\n"
      ],
      "metadata": {
        "id": "R-6NsnAaYTge"
      },
      "execution_count": null,
      "outputs": []
    },
    {
      "cell_type": "markdown",
      "source": [
        "## For loops\n",
        "\n",
        "Most of the time, there is some [dataframe method](https://pandas.pydata.org/docs/reference/frame.html) that does whatever we want, in terms of data wrangling.\n",
        "\n",
        "Occasionally, there will be no built in method that quite does what we need.\n",
        "\n",
        "In those cases, we will use a for loop. For loops often involve if statements, so we'll introduce those as well."
      ],
      "metadata": {
        "id": "xihD6cs1qugo"
      }
    },
    {
      "cell_type": "markdown",
      "source": [
        "I'll start with a simple example that isn't all that useful."
      ],
      "metadata": {
        "id": "21bkIGlpkARj"
      }
    },
    {
      "cell_type": "code",
      "source": [
        "#initialize a variable to update during the for loop\n",
        "x = 0\n",
        "\n",
        "#initialize an iterable to run our for loop over\n",
        "onetoten = np.arange(1,11)\n",
        "\n",
        "#the actual for loop\n",
        "for i in onetoten:\n",
        "    x = x + i"
      ],
      "metadata": {
        "id": "flrWiOtLkJyl"
      },
      "execution_count": null,
      "outputs": []
    },
    {
      "cell_type": "code",
      "source": [
        "#the sum of the numbers from one to ten\n",
        "x"
      ],
      "metadata": {
        "id": "4SvTFnAjluSn"
      },
      "execution_count": null,
      "outputs": []
    },
    {
      "cell_type": "markdown",
      "source": [
        "Most of the time, we'll avoid for loops for anything but plotting, because their are often better vectorized solutions available."
      ],
      "metadata": {
        "id": "nlsNqVjsmYOx"
      }
    },
    {
      "cell_type": "code",
      "source": [
        "#could have just used the vectroized solution\n",
        "onetoten.sum()"
      ],
      "metadata": {
        "id": "xU0F_V8AmL98"
      },
      "execution_count": null,
      "outputs": []
    },
    {
      "cell_type": "markdown",
      "source": [
        "Here's a more relevant example:\n",
        "\n",
        "While playing with the 2023/2024 NBA basketball data, I wanted to pull up Lebron James' stats. And I figured I might as well pull all the other players with James in their name, since there couldn't be that many.\n",
        "\n",
        "I searched for a while, and couldn't find a nice vectorized solution that uses the pandas methods.\n",
        "\n",
        "So I wrote this for loop. It has too new things from the previous loop:\n",
        "\n",
        "- a function, enumerate, which allows me to grab the item in my iterable and the index of that item.\n",
        "- an if statement. They work like this: if the condition in them is met, execute the indented code. If not, then continue with the rest of the for loop.\n",
        "\n",
        "Most for loops we need in this class will be at least this complicated. Usually more so."
      ],
      "metadata": {
        "id": "x0tdMXhxuaJ_"
      }
    },
    {
      "cell_type": "code",
      "source": [
        "#create an array of all zeros the same length as one of the columns in basketball\n",
        "james_index = np.zeros_like(basketball.Player)\n",
        "\n",
        "#index is the number of the row, name is the string that represents player name\n",
        "#enumerate is a function that breaks basketball.Player into index and name\n",
        "for index, name in enumerate(basketball.Player):\n",
        "\n",
        "    #if the string 'James' is in the string of player name\n",
        "    if 'James' in name:\n",
        "\n",
        "        #then put a True value, or 1, in the corresponding James index tracker\n",
        "        james_index[index] = 1\n",
        "\n",
        "#adds up the array elements of james_index\n",
        "#this helps me know if my loop went awry or not\n",
        "#but otherwise has nothing to do with the for loop.\n",
        "james_index.sum()"
      ],
      "metadata": {
        "id": "lv7xrz2xrllT",
        "colab": {
          "base_uri": "https://localhost:8080/"
        },
        "outputId": "2ecd0acb-d398-4ca3-d1ae-c84dec6b0ccd"
      },
      "execution_count": 136,
      "outputs": [
        {
          "output_type": "execute_result",
          "data": {
            "text/plain": [
              "5"
            ]
          },
          "metadata": {},
          "execution_count": 136
        }
      ]
    },
    {
      "cell_type": "code",
      "source": [
        "#always a good idea to print out any data set you've created\n",
        "#even if you're expecting it to be uninteresting\n",
        "james_index"
      ],
      "metadata": {
        "id": "pyusseuFzHyl",
        "colab": {
          "base_uri": "https://localhost:8080/"
        },
        "outputId": "b11b466f-849f-46e3-ef74-8fb30e2037ce"
      },
      "execution_count": 137,
      "outputs": [
        {
          "output_type": "execute_result",
          "data": {
            "text/plain": [
              "array([0, 0, 0, 0, 0, 0, 0, 0, 0, 0, 0, 0, 0, 0, 0, 0, 0, 0, 0, 0, 0, 0,\n",
              "       0, 0, 0, 0, 0, 0, 0, 0, 0, 0, 0, 0, 0, 0, 0, 0, 0, 0, 0, 0, 0, 0,\n",
              "       0, 0, 0, 0, 0, 0, 0, 0, 0, 0, 0, 0, 1, 0, 0, 0, 0, 0, 0, 0, 0, 0,\n",
              "       0, 0, 0, 0, 0, 0, 0, 0, 0, 0, 0, 0, 0, 0, 0, 0, 0, 0, 0, 0, 0, 0,\n",
              "       0, 0, 0, 0, 0, 0, 0, 0, 0, 0, 0, 0, 0, 0, 0, 0, 0, 0, 0, 0, 0, 0,\n",
              "       0, 0, 0, 0, 0, 0, 0, 0, 0, 0, 0, 0, 0, 0, 0, 0, 0, 0, 0, 0, 0, 0,\n",
              "       0, 0, 0, 0, 0, 0, 0, 0, 0, 0, 0, 0, 0, 0, 0, 0, 0, 0, 0, 0, 0, 0,\n",
              "       0, 0, 0, 0, 0, 0, 0, 0, 0, 0, 0, 0, 0, 0, 0, 0, 0, 0, 0, 0, 0, 0,\n",
              "       0, 0, 0, 0, 0, 0, 0, 0, 0, 0, 0, 0, 0, 0, 0, 0, 0, 0, 0, 0, 0, 0,\n",
              "       1, 0, 0, 0, 0, 0, 0, 0, 0, 0, 0, 0, 0, 0, 0, 0, 0, 0, 0, 0, 0, 0,\n",
              "       0, 0, 0, 0, 0, 0, 0, 0, 0, 0, 0, 0, 0, 0, 0, 0, 0, 0, 0, 0, 0, 0,\n",
              "       0, 0, 0, 0, 0, 0, 0, 1, 0, 0, 0, 0, 0, 0, 0, 0, 1, 0, 0, 0, 0, 0,\n",
              "       0, 0, 0, 0, 0, 0, 0, 0, 0, 0, 0, 0, 0, 0, 0, 0, 0, 0, 0, 0, 0, 0,\n",
              "       0, 0, 0, 0, 0, 0, 0, 0, 0, 0, 0, 0, 0, 0, 0, 0, 0, 0, 0, 0, 0, 0,\n",
              "       0, 0, 0, 0, 0, 0, 0, 0, 0, 0, 0, 0, 0, 0, 0, 0, 0, 0, 0, 0, 0, 0,\n",
              "       0, 0, 0, 0, 0, 0, 0, 0, 0, 0, 0, 0, 0, 0, 0, 0, 0, 0, 0, 0, 0, 0,\n",
              "       0, 0, 0, 0, 0, 0, 0, 0, 0, 0, 0, 0, 0, 0, 0, 0, 0, 0, 0, 0, 0, 0,\n",
              "       0, 0, 0, 0, 0, 0, 0, 0, 0, 0, 0, 0, 0, 0, 0, 0, 0, 0, 0, 0, 0, 0,\n",
              "       0, 0, 0, 0, 0, 0, 0, 0, 0, 0, 0, 0, 0, 0, 0, 0, 0, 0, 0, 0, 0, 0,\n",
              "       0, 0, 0, 0, 0, 0, 0, 0, 0, 0, 0, 0, 0, 0, 0, 0, 0, 0, 0, 0, 0, 0,\n",
              "       0, 0, 0, 0, 0, 0, 0, 0, 0, 0, 0, 0, 0, 0, 0, 0, 0, 0, 0, 0, 0, 0,\n",
              "       0, 0, 0, 0, 0, 0, 0, 0, 0, 0, 0, 0, 0, 0, 0, 0, 0, 0, 0, 0, 0, 0,\n",
              "       0, 0, 0, 0, 0, 0, 0, 0, 0, 0, 0, 0, 0, 0, 0, 0, 0, 0, 0, 0, 0, 0,\n",
              "       0, 0, 0, 0, 0, 0, 0, 0, 0, 0, 0, 0, 0, 0, 0, 0, 0, 0, 0, 0, 0, 0,\n",
              "       0, 0, 0, 0, 0, 0, 0, 0, 0, 0, 0, 0, 0, 0, 0, 0, 0, 0, 0, 0, 0, 0,\n",
              "       0, 0, 0, 0, 0, 0, 0, 0, 0, 0, 0, 0, 0, 1, 0, 0, 0, 0, 0, 0, 0, 0],\n",
              "      dtype=object)"
            ]
          },
          "metadata": {},
          "execution_count": 137
        }
      ]
    },
    {
      "cell_type": "code",
      "source": [
        "#this grabs all the rows/players with James in their name\n",
        "basketball.loc[james_index == True]"
      ],
      "metadata": {
        "id": "alSwKExExd_p",
        "colab": {
          "base_uri": "https://localhost:8080/",
          "height": 360
        },
        "outputId": "8a6f482c-bbbe-4b9a-a448-c51e9dc12da5"
      },
      "execution_count": 138,
      "outputs": [
        {
          "output_type": "execute_result",
          "data": {
            "text/plain": [
              "              Player Pos  Age   Tm   G  GS    MP   FG   FGA    FG%  ...  ORB  \\\n",
              "56   James Bouknight  SG   23  CHO  14   0    81   18    41  0.439  ...    1   \n",
              "198     James Harden  PG   34  LAC  72  72  2470  352   822  0.428  ...   34   \n",
              "249     LeBron James  PF   39  LAL  71  71  2504  685  1269  0.540  ...   61   \n",
              "258    James Johnson  PF   36  IND   9   0    47    3    10  0.300  ...    1   \n",
              "563    James Wiseman   C   22  DET  63   6  1091  187   305  0.613  ...  110   \n",
              "\n",
              "     DRB  TRB  AST  STL  BLK  TOV   PF   PTS  Player-additional  \n",
              "56     8    9    6    1    1    2    3    50          bouknja01  \n",
              "198  335  369  614   77   57  185  127  1192          hardeja01  \n",
              "249  457  518  589   89   38  245   78  1822          jamesle01  \n",
              "258    3    4    8    5    1    5    9     8          johnsja01  \n",
              "563  226  336   54   12   39   66  141   446          wisemja01  \n",
              "\n",
              "[5 rows x 30 columns]"
            ],
            "text/html": [
              "\n",
              "  <div id=\"df-cfc9b156-2448-4c7c-a94c-3ef64456071f\" class=\"colab-df-container\">\n",
              "    <div>\n",
              "<style scoped>\n",
              "    .dataframe tbody tr th:only-of-type {\n",
              "        vertical-align: middle;\n",
              "    }\n",
              "\n",
              "    .dataframe tbody tr th {\n",
              "        vertical-align: top;\n",
              "    }\n",
              "\n",
              "    .dataframe thead th {\n",
              "        text-align: right;\n",
              "    }\n",
              "</style>\n",
              "<table border=\"1\" class=\"dataframe\">\n",
              "  <thead>\n",
              "    <tr style=\"text-align: right;\">\n",
              "      <th></th>\n",
              "      <th>Player</th>\n",
              "      <th>Pos</th>\n",
              "      <th>Age</th>\n",
              "      <th>Tm</th>\n",
              "      <th>G</th>\n",
              "      <th>GS</th>\n",
              "      <th>MP</th>\n",
              "      <th>FG</th>\n",
              "      <th>FGA</th>\n",
              "      <th>FG%</th>\n",
              "      <th>...</th>\n",
              "      <th>ORB</th>\n",
              "      <th>DRB</th>\n",
              "      <th>TRB</th>\n",
              "      <th>AST</th>\n",
              "      <th>STL</th>\n",
              "      <th>BLK</th>\n",
              "      <th>TOV</th>\n",
              "      <th>PF</th>\n",
              "      <th>PTS</th>\n",
              "      <th>Player-additional</th>\n",
              "    </tr>\n",
              "  </thead>\n",
              "  <tbody>\n",
              "    <tr>\n",
              "      <th>56</th>\n",
              "      <td>James Bouknight</td>\n",
              "      <td>SG</td>\n",
              "      <td>23</td>\n",
              "      <td>CHO</td>\n",
              "      <td>14</td>\n",
              "      <td>0</td>\n",
              "      <td>81</td>\n",
              "      <td>18</td>\n",
              "      <td>41</td>\n",
              "      <td>0.439</td>\n",
              "      <td>...</td>\n",
              "      <td>1</td>\n",
              "      <td>8</td>\n",
              "      <td>9</td>\n",
              "      <td>6</td>\n",
              "      <td>1</td>\n",
              "      <td>1</td>\n",
              "      <td>2</td>\n",
              "      <td>3</td>\n",
              "      <td>50</td>\n",
              "      <td>bouknja01</td>\n",
              "    </tr>\n",
              "    <tr>\n",
              "      <th>198</th>\n",
              "      <td>James Harden</td>\n",
              "      <td>PG</td>\n",
              "      <td>34</td>\n",
              "      <td>LAC</td>\n",
              "      <td>72</td>\n",
              "      <td>72</td>\n",
              "      <td>2470</td>\n",
              "      <td>352</td>\n",
              "      <td>822</td>\n",
              "      <td>0.428</td>\n",
              "      <td>...</td>\n",
              "      <td>34</td>\n",
              "      <td>335</td>\n",
              "      <td>369</td>\n",
              "      <td>614</td>\n",
              "      <td>77</td>\n",
              "      <td>57</td>\n",
              "      <td>185</td>\n",
              "      <td>127</td>\n",
              "      <td>1192</td>\n",
              "      <td>hardeja01</td>\n",
              "    </tr>\n",
              "    <tr>\n",
              "      <th>249</th>\n",
              "      <td>LeBron James</td>\n",
              "      <td>PF</td>\n",
              "      <td>39</td>\n",
              "      <td>LAL</td>\n",
              "      <td>71</td>\n",
              "      <td>71</td>\n",
              "      <td>2504</td>\n",
              "      <td>685</td>\n",
              "      <td>1269</td>\n",
              "      <td>0.540</td>\n",
              "      <td>...</td>\n",
              "      <td>61</td>\n",
              "      <td>457</td>\n",
              "      <td>518</td>\n",
              "      <td>589</td>\n",
              "      <td>89</td>\n",
              "      <td>38</td>\n",
              "      <td>245</td>\n",
              "      <td>78</td>\n",
              "      <td>1822</td>\n",
              "      <td>jamesle01</td>\n",
              "    </tr>\n",
              "    <tr>\n",
              "      <th>258</th>\n",
              "      <td>James Johnson</td>\n",
              "      <td>PF</td>\n",
              "      <td>36</td>\n",
              "      <td>IND</td>\n",
              "      <td>9</td>\n",
              "      <td>0</td>\n",
              "      <td>47</td>\n",
              "      <td>3</td>\n",
              "      <td>10</td>\n",
              "      <td>0.300</td>\n",
              "      <td>...</td>\n",
              "      <td>1</td>\n",
              "      <td>3</td>\n",
              "      <td>4</td>\n",
              "      <td>8</td>\n",
              "      <td>5</td>\n",
              "      <td>1</td>\n",
              "      <td>5</td>\n",
              "      <td>9</td>\n",
              "      <td>8</td>\n",
              "      <td>johnsja01</td>\n",
              "    </tr>\n",
              "    <tr>\n",
              "      <th>563</th>\n",
              "      <td>James Wiseman</td>\n",
              "      <td>C</td>\n",
              "      <td>22</td>\n",
              "      <td>DET</td>\n",
              "      <td>63</td>\n",
              "      <td>6</td>\n",
              "      <td>1091</td>\n",
              "      <td>187</td>\n",
              "      <td>305</td>\n",
              "      <td>0.613</td>\n",
              "      <td>...</td>\n",
              "      <td>110</td>\n",
              "      <td>226</td>\n",
              "      <td>336</td>\n",
              "      <td>54</td>\n",
              "      <td>12</td>\n",
              "      <td>39</td>\n",
              "      <td>66</td>\n",
              "      <td>141</td>\n",
              "      <td>446</td>\n",
              "      <td>wisemja01</td>\n",
              "    </tr>\n",
              "  </tbody>\n",
              "</table>\n",
              "<p>5 rows × 30 columns</p>\n",
              "</div>\n",
              "    <div class=\"colab-df-buttons\">\n",
              "\n",
              "  <div class=\"colab-df-container\">\n",
              "    <button class=\"colab-df-convert\" onclick=\"convertToInteractive('df-cfc9b156-2448-4c7c-a94c-3ef64456071f')\"\n",
              "            title=\"Convert this dataframe to an interactive table.\"\n",
              "            style=\"display:none;\">\n",
              "\n",
              "  <svg xmlns=\"http://www.w3.org/2000/svg\" height=\"24px\" viewBox=\"0 -960 960 960\">\n",
              "    <path d=\"M120-120v-720h720v720H120Zm60-500h600v-160H180v160Zm220 220h160v-160H400v160Zm0 220h160v-160H400v160ZM180-400h160v-160H180v160Zm440 0h160v-160H620v160ZM180-180h160v-160H180v160Zm440 0h160v-160H620v160Z\"/>\n",
              "  </svg>\n",
              "    </button>\n",
              "\n",
              "  <style>\n",
              "    .colab-df-container {\n",
              "      display:flex;\n",
              "      gap: 12px;\n",
              "    }\n",
              "\n",
              "    .colab-df-convert {\n",
              "      background-color: #E8F0FE;\n",
              "      border: none;\n",
              "      border-radius: 50%;\n",
              "      cursor: pointer;\n",
              "      display: none;\n",
              "      fill: #1967D2;\n",
              "      height: 32px;\n",
              "      padding: 0 0 0 0;\n",
              "      width: 32px;\n",
              "    }\n",
              "\n",
              "    .colab-df-convert:hover {\n",
              "      background-color: #E2EBFA;\n",
              "      box-shadow: 0px 1px 2px rgba(60, 64, 67, 0.3), 0px 1px 3px 1px rgba(60, 64, 67, 0.15);\n",
              "      fill: #174EA6;\n",
              "    }\n",
              "\n",
              "    .colab-df-buttons div {\n",
              "      margin-bottom: 4px;\n",
              "    }\n",
              "\n",
              "    [theme=dark] .colab-df-convert {\n",
              "      background-color: #3B4455;\n",
              "      fill: #D2E3FC;\n",
              "    }\n",
              "\n",
              "    [theme=dark] .colab-df-convert:hover {\n",
              "      background-color: #434B5C;\n",
              "      box-shadow: 0px 1px 3px 1px rgba(0, 0, 0, 0.15);\n",
              "      filter: drop-shadow(0px 1px 2px rgba(0, 0, 0, 0.3));\n",
              "      fill: #FFFFFF;\n",
              "    }\n",
              "  </style>\n",
              "\n",
              "    <script>\n",
              "      const buttonEl =\n",
              "        document.querySelector('#df-cfc9b156-2448-4c7c-a94c-3ef64456071f button.colab-df-convert');\n",
              "      buttonEl.style.display =\n",
              "        google.colab.kernel.accessAllowed ? 'block' : 'none';\n",
              "\n",
              "      async function convertToInteractive(key) {\n",
              "        const element = document.querySelector('#df-cfc9b156-2448-4c7c-a94c-3ef64456071f');\n",
              "        const dataTable =\n",
              "          await google.colab.kernel.invokeFunction('convertToInteractive',\n",
              "                                                    [key], {});\n",
              "        if (!dataTable) return;\n",
              "\n",
              "        const docLinkHtml = 'Like what you see? Visit the ' +\n",
              "          '<a target=\"_blank\" href=https://colab.research.google.com/notebooks/data_table.ipynb>data table notebook</a>'\n",
              "          + ' to learn more about interactive tables.';\n",
              "        element.innerHTML = '';\n",
              "        dataTable['output_type'] = 'display_data';\n",
              "        await google.colab.output.renderOutput(dataTable, element);\n",
              "        const docLink = document.createElement('div');\n",
              "        docLink.innerHTML = docLinkHtml;\n",
              "        element.appendChild(docLink);\n",
              "      }\n",
              "    </script>\n",
              "  </div>\n",
              "\n",
              "\n",
              "    <div id=\"df-b03a936b-37d4-4b59-a349-217f428a25e1\">\n",
              "      <button class=\"colab-df-quickchart\" onclick=\"quickchart('df-b03a936b-37d4-4b59-a349-217f428a25e1')\"\n",
              "                title=\"Suggest charts\"\n",
              "                style=\"display:none;\">\n",
              "\n",
              "<svg xmlns=\"http://www.w3.org/2000/svg\" height=\"24px\"viewBox=\"0 0 24 24\"\n",
              "     width=\"24px\">\n",
              "    <g>\n",
              "        <path d=\"M19 3H5c-1.1 0-2 .9-2 2v14c0 1.1.9 2 2 2h14c1.1 0 2-.9 2-2V5c0-1.1-.9-2-2-2zM9 17H7v-7h2v7zm4 0h-2V7h2v10zm4 0h-2v-4h2v4z\"/>\n",
              "    </g>\n",
              "</svg>\n",
              "      </button>\n",
              "\n",
              "<style>\n",
              "  .colab-df-quickchart {\n",
              "      --bg-color: #E8F0FE;\n",
              "      --fill-color: #1967D2;\n",
              "      --hover-bg-color: #E2EBFA;\n",
              "      --hover-fill-color: #174EA6;\n",
              "      --disabled-fill-color: #AAA;\n",
              "      --disabled-bg-color: #DDD;\n",
              "  }\n",
              "\n",
              "  [theme=dark] .colab-df-quickchart {\n",
              "      --bg-color: #3B4455;\n",
              "      --fill-color: #D2E3FC;\n",
              "      --hover-bg-color: #434B5C;\n",
              "      --hover-fill-color: #FFFFFF;\n",
              "      --disabled-bg-color: #3B4455;\n",
              "      --disabled-fill-color: #666;\n",
              "  }\n",
              "\n",
              "  .colab-df-quickchart {\n",
              "    background-color: var(--bg-color);\n",
              "    border: none;\n",
              "    border-radius: 50%;\n",
              "    cursor: pointer;\n",
              "    display: none;\n",
              "    fill: var(--fill-color);\n",
              "    height: 32px;\n",
              "    padding: 0;\n",
              "    width: 32px;\n",
              "  }\n",
              "\n",
              "  .colab-df-quickchart:hover {\n",
              "    background-color: var(--hover-bg-color);\n",
              "    box-shadow: 0 1px 2px rgba(60, 64, 67, 0.3), 0 1px 3px 1px rgba(60, 64, 67, 0.15);\n",
              "    fill: var(--button-hover-fill-color);\n",
              "  }\n",
              "\n",
              "  .colab-df-quickchart-complete:disabled,\n",
              "  .colab-df-quickchart-complete:disabled:hover {\n",
              "    background-color: var(--disabled-bg-color);\n",
              "    fill: var(--disabled-fill-color);\n",
              "    box-shadow: none;\n",
              "  }\n",
              "\n",
              "  .colab-df-spinner {\n",
              "    border: 2px solid var(--fill-color);\n",
              "    border-color: transparent;\n",
              "    border-bottom-color: var(--fill-color);\n",
              "    animation:\n",
              "      spin 1s steps(1) infinite;\n",
              "  }\n",
              "\n",
              "  @keyframes spin {\n",
              "    0% {\n",
              "      border-color: transparent;\n",
              "      border-bottom-color: var(--fill-color);\n",
              "      border-left-color: var(--fill-color);\n",
              "    }\n",
              "    20% {\n",
              "      border-color: transparent;\n",
              "      border-left-color: var(--fill-color);\n",
              "      border-top-color: var(--fill-color);\n",
              "    }\n",
              "    30% {\n",
              "      border-color: transparent;\n",
              "      border-left-color: var(--fill-color);\n",
              "      border-top-color: var(--fill-color);\n",
              "      border-right-color: var(--fill-color);\n",
              "    }\n",
              "    40% {\n",
              "      border-color: transparent;\n",
              "      border-right-color: var(--fill-color);\n",
              "      border-top-color: var(--fill-color);\n",
              "    }\n",
              "    60% {\n",
              "      border-color: transparent;\n",
              "      border-right-color: var(--fill-color);\n",
              "    }\n",
              "    80% {\n",
              "      border-color: transparent;\n",
              "      border-right-color: var(--fill-color);\n",
              "      border-bottom-color: var(--fill-color);\n",
              "    }\n",
              "    90% {\n",
              "      border-color: transparent;\n",
              "      border-bottom-color: var(--fill-color);\n",
              "    }\n",
              "  }\n",
              "</style>\n",
              "\n",
              "      <script>\n",
              "        async function quickchart(key) {\n",
              "          const quickchartButtonEl =\n",
              "            document.querySelector('#' + key + ' button');\n",
              "          quickchartButtonEl.disabled = true;  // To prevent multiple clicks.\n",
              "          quickchartButtonEl.classList.add('colab-df-spinner');\n",
              "          try {\n",
              "            const charts = await google.colab.kernel.invokeFunction(\n",
              "                'suggestCharts', [key], {});\n",
              "          } catch (error) {\n",
              "            console.error('Error during call to suggestCharts:', error);\n",
              "          }\n",
              "          quickchartButtonEl.classList.remove('colab-df-spinner');\n",
              "          quickchartButtonEl.classList.add('colab-df-quickchart-complete');\n",
              "        }\n",
              "        (() => {\n",
              "          let quickchartButtonEl =\n",
              "            document.querySelector('#df-b03a936b-37d4-4b59-a349-217f428a25e1 button');\n",
              "          quickchartButtonEl.style.display =\n",
              "            google.colab.kernel.accessAllowed ? 'block' : 'none';\n",
              "        })();\n",
              "      </script>\n",
              "    </div>\n",
              "    </div>\n",
              "  </div>\n"
            ],
            "application/vnd.google.colaboratory.intrinsic+json": {
              "type": "dataframe"
            }
          },
          "metadata": {},
          "execution_count": 138
        }
      ]
    },
    {
      "cell_type": "markdown",
      "source": [
        "This next task was supposed to require you to make a for loop, but I underestimated how powerful pandas' query function is. So, although my answer key does have a soultion that works, its better to use only query.\n",
        "\n",
        "Also, to make 'FT%' work in query, write '\\`FT%\\`' instead."
      ],
      "metadata": {
        "id": "l9PkQ4E19gPZ"
      }
    },
    {
      "cell_type": "markdown",
      "source": [
        "**Task11**:\n",
        "\n",
        "Display all players--and their stats-- from the 2023/2024 NBA season, who are PG (point guards), have a 0.9 FG% (free throw percentage) or higher,  and have more than 40 FTA (free throw attempts)."
      ],
      "metadata": {
        "id": "8vMSBRIj2MzA"
      }
    },
    {
      "cell_type": "code",
      "source": [
        "#ANSWER11\n",
        "\n"
      ],
      "metadata": {
        "id": "y4ccY05_2wmT"
      },
      "execution_count": null,
      "outputs": []
    },
    {
      "cell_type": "markdown",
      "source": [
        "## Exporting Data from Colab\n",
        "\n",
        "I don't plan on making you do this as part of the course, but this is still a skill I want you to have.\n",
        "\n",
        "As usual, I'm only covering a tiny bit of what's available. For more info, see: [Importing/Exporting files using pandas](https://pandas.pydata.org/docs/reference/io.html)"
      ],
      "metadata": {
        "id": "Eecz-8LBCA5i"
      }
    },
    {
      "cell_type": "markdown",
      "source": [
        "Let's say I have a colleague for who doesn't know how to code and will not ever learn how, but they still need the data I've manipulated/generated in order to do their job.\n",
        "\n",
        "In this case, the path of least resistance is to export the data from Colab to my local machine, and then put it in a shared cloud folder (like google drive) and/or send it to them in an email.\n",
        "\n",
        "Let's practice this with the James data, shown below."
      ],
      "metadata": {
        "id": "p-yKIjDmCndi"
      }
    },
    {
      "cell_type": "code",
      "source": [
        "james_df = basketball.loc[james_index == True]\n",
        "james_df"
      ],
      "metadata": {
        "id": "1KkXOA39EbQz",
        "colab": {
          "base_uri": "https://localhost:8080/",
          "height": 360
        },
        "outputId": "f1e30a3d-8aad-416d-f432-892ea2e38338"
      },
      "execution_count": 141,
      "outputs": [
        {
          "output_type": "execute_result",
          "data": {
            "text/plain": [
              "              Player Pos  Age   Tm   G  GS    MP   FG   FGA    FG%  ...  ORB  \\\n",
              "56   James Bouknight  SG   23  CHO  14   0    81   18    41  0.439  ...    1   \n",
              "198     James Harden  PG   34  LAC  72  72  2470  352   822  0.428  ...   34   \n",
              "249     LeBron James  PF   39  LAL  71  71  2504  685  1269  0.540  ...   61   \n",
              "258    James Johnson  PF   36  IND   9   0    47    3    10  0.300  ...    1   \n",
              "563    James Wiseman   C   22  DET  63   6  1091  187   305  0.613  ...  110   \n",
              "\n",
              "     DRB  TRB  AST  STL  BLK  TOV   PF   PTS  Player-additional  \n",
              "56     8    9    6    1    1    2    3    50          bouknja01  \n",
              "198  335  369  614   77   57  185  127  1192          hardeja01  \n",
              "249  457  518  589   89   38  245   78  1822          jamesle01  \n",
              "258    3    4    8    5    1    5    9     8          johnsja01  \n",
              "563  226  336   54   12   39   66  141   446          wisemja01  \n",
              "\n",
              "[5 rows x 30 columns]"
            ],
            "text/html": [
              "\n",
              "  <div id=\"df-b4b79d60-6829-44b8-9f5d-f0782c4dcc21\" class=\"colab-df-container\">\n",
              "    <div>\n",
              "<style scoped>\n",
              "    .dataframe tbody tr th:only-of-type {\n",
              "        vertical-align: middle;\n",
              "    }\n",
              "\n",
              "    .dataframe tbody tr th {\n",
              "        vertical-align: top;\n",
              "    }\n",
              "\n",
              "    .dataframe thead th {\n",
              "        text-align: right;\n",
              "    }\n",
              "</style>\n",
              "<table border=\"1\" class=\"dataframe\">\n",
              "  <thead>\n",
              "    <tr style=\"text-align: right;\">\n",
              "      <th></th>\n",
              "      <th>Player</th>\n",
              "      <th>Pos</th>\n",
              "      <th>Age</th>\n",
              "      <th>Tm</th>\n",
              "      <th>G</th>\n",
              "      <th>GS</th>\n",
              "      <th>MP</th>\n",
              "      <th>FG</th>\n",
              "      <th>FGA</th>\n",
              "      <th>FG%</th>\n",
              "      <th>...</th>\n",
              "      <th>ORB</th>\n",
              "      <th>DRB</th>\n",
              "      <th>TRB</th>\n",
              "      <th>AST</th>\n",
              "      <th>STL</th>\n",
              "      <th>BLK</th>\n",
              "      <th>TOV</th>\n",
              "      <th>PF</th>\n",
              "      <th>PTS</th>\n",
              "      <th>Player-additional</th>\n",
              "    </tr>\n",
              "  </thead>\n",
              "  <tbody>\n",
              "    <tr>\n",
              "      <th>56</th>\n",
              "      <td>James Bouknight</td>\n",
              "      <td>SG</td>\n",
              "      <td>23</td>\n",
              "      <td>CHO</td>\n",
              "      <td>14</td>\n",
              "      <td>0</td>\n",
              "      <td>81</td>\n",
              "      <td>18</td>\n",
              "      <td>41</td>\n",
              "      <td>0.439</td>\n",
              "      <td>...</td>\n",
              "      <td>1</td>\n",
              "      <td>8</td>\n",
              "      <td>9</td>\n",
              "      <td>6</td>\n",
              "      <td>1</td>\n",
              "      <td>1</td>\n",
              "      <td>2</td>\n",
              "      <td>3</td>\n",
              "      <td>50</td>\n",
              "      <td>bouknja01</td>\n",
              "    </tr>\n",
              "    <tr>\n",
              "      <th>198</th>\n",
              "      <td>James Harden</td>\n",
              "      <td>PG</td>\n",
              "      <td>34</td>\n",
              "      <td>LAC</td>\n",
              "      <td>72</td>\n",
              "      <td>72</td>\n",
              "      <td>2470</td>\n",
              "      <td>352</td>\n",
              "      <td>822</td>\n",
              "      <td>0.428</td>\n",
              "      <td>...</td>\n",
              "      <td>34</td>\n",
              "      <td>335</td>\n",
              "      <td>369</td>\n",
              "      <td>614</td>\n",
              "      <td>77</td>\n",
              "      <td>57</td>\n",
              "      <td>185</td>\n",
              "      <td>127</td>\n",
              "      <td>1192</td>\n",
              "      <td>hardeja01</td>\n",
              "    </tr>\n",
              "    <tr>\n",
              "      <th>249</th>\n",
              "      <td>LeBron James</td>\n",
              "      <td>PF</td>\n",
              "      <td>39</td>\n",
              "      <td>LAL</td>\n",
              "      <td>71</td>\n",
              "      <td>71</td>\n",
              "      <td>2504</td>\n",
              "      <td>685</td>\n",
              "      <td>1269</td>\n",
              "      <td>0.540</td>\n",
              "      <td>...</td>\n",
              "      <td>61</td>\n",
              "      <td>457</td>\n",
              "      <td>518</td>\n",
              "      <td>589</td>\n",
              "      <td>89</td>\n",
              "      <td>38</td>\n",
              "      <td>245</td>\n",
              "      <td>78</td>\n",
              "      <td>1822</td>\n",
              "      <td>jamesle01</td>\n",
              "    </tr>\n",
              "    <tr>\n",
              "      <th>258</th>\n",
              "      <td>James Johnson</td>\n",
              "      <td>PF</td>\n",
              "      <td>36</td>\n",
              "      <td>IND</td>\n",
              "      <td>9</td>\n",
              "      <td>0</td>\n",
              "      <td>47</td>\n",
              "      <td>3</td>\n",
              "      <td>10</td>\n",
              "      <td>0.300</td>\n",
              "      <td>...</td>\n",
              "      <td>1</td>\n",
              "      <td>3</td>\n",
              "      <td>4</td>\n",
              "      <td>8</td>\n",
              "      <td>5</td>\n",
              "      <td>1</td>\n",
              "      <td>5</td>\n",
              "      <td>9</td>\n",
              "      <td>8</td>\n",
              "      <td>johnsja01</td>\n",
              "    </tr>\n",
              "    <tr>\n",
              "      <th>563</th>\n",
              "      <td>James Wiseman</td>\n",
              "      <td>C</td>\n",
              "      <td>22</td>\n",
              "      <td>DET</td>\n",
              "      <td>63</td>\n",
              "      <td>6</td>\n",
              "      <td>1091</td>\n",
              "      <td>187</td>\n",
              "      <td>305</td>\n",
              "      <td>0.613</td>\n",
              "      <td>...</td>\n",
              "      <td>110</td>\n",
              "      <td>226</td>\n",
              "      <td>336</td>\n",
              "      <td>54</td>\n",
              "      <td>12</td>\n",
              "      <td>39</td>\n",
              "      <td>66</td>\n",
              "      <td>141</td>\n",
              "      <td>446</td>\n",
              "      <td>wisemja01</td>\n",
              "    </tr>\n",
              "  </tbody>\n",
              "</table>\n",
              "<p>5 rows × 30 columns</p>\n",
              "</div>\n",
              "    <div class=\"colab-df-buttons\">\n",
              "\n",
              "  <div class=\"colab-df-container\">\n",
              "    <button class=\"colab-df-convert\" onclick=\"convertToInteractive('df-b4b79d60-6829-44b8-9f5d-f0782c4dcc21')\"\n",
              "            title=\"Convert this dataframe to an interactive table.\"\n",
              "            style=\"display:none;\">\n",
              "\n",
              "  <svg xmlns=\"http://www.w3.org/2000/svg\" height=\"24px\" viewBox=\"0 -960 960 960\">\n",
              "    <path d=\"M120-120v-720h720v720H120Zm60-500h600v-160H180v160Zm220 220h160v-160H400v160Zm0 220h160v-160H400v160ZM180-400h160v-160H180v160Zm440 0h160v-160H620v160ZM180-180h160v-160H180v160Zm440 0h160v-160H620v160Z\"/>\n",
              "  </svg>\n",
              "    </button>\n",
              "\n",
              "  <style>\n",
              "    .colab-df-container {\n",
              "      display:flex;\n",
              "      gap: 12px;\n",
              "    }\n",
              "\n",
              "    .colab-df-convert {\n",
              "      background-color: #E8F0FE;\n",
              "      border: none;\n",
              "      border-radius: 50%;\n",
              "      cursor: pointer;\n",
              "      display: none;\n",
              "      fill: #1967D2;\n",
              "      height: 32px;\n",
              "      padding: 0 0 0 0;\n",
              "      width: 32px;\n",
              "    }\n",
              "\n",
              "    .colab-df-convert:hover {\n",
              "      background-color: #E2EBFA;\n",
              "      box-shadow: 0px 1px 2px rgba(60, 64, 67, 0.3), 0px 1px 3px 1px rgba(60, 64, 67, 0.15);\n",
              "      fill: #174EA6;\n",
              "    }\n",
              "\n",
              "    .colab-df-buttons div {\n",
              "      margin-bottom: 4px;\n",
              "    }\n",
              "\n",
              "    [theme=dark] .colab-df-convert {\n",
              "      background-color: #3B4455;\n",
              "      fill: #D2E3FC;\n",
              "    }\n",
              "\n",
              "    [theme=dark] .colab-df-convert:hover {\n",
              "      background-color: #434B5C;\n",
              "      box-shadow: 0px 1px 3px 1px rgba(0, 0, 0, 0.15);\n",
              "      filter: drop-shadow(0px 1px 2px rgba(0, 0, 0, 0.3));\n",
              "      fill: #FFFFFF;\n",
              "    }\n",
              "  </style>\n",
              "\n",
              "    <script>\n",
              "      const buttonEl =\n",
              "        document.querySelector('#df-b4b79d60-6829-44b8-9f5d-f0782c4dcc21 button.colab-df-convert');\n",
              "      buttonEl.style.display =\n",
              "        google.colab.kernel.accessAllowed ? 'block' : 'none';\n",
              "\n",
              "      async function convertToInteractive(key) {\n",
              "        const element = document.querySelector('#df-b4b79d60-6829-44b8-9f5d-f0782c4dcc21');\n",
              "        const dataTable =\n",
              "          await google.colab.kernel.invokeFunction('convertToInteractive',\n",
              "                                                    [key], {});\n",
              "        if (!dataTable) return;\n",
              "\n",
              "        const docLinkHtml = 'Like what you see? Visit the ' +\n",
              "          '<a target=\"_blank\" href=https://colab.research.google.com/notebooks/data_table.ipynb>data table notebook</a>'\n",
              "          + ' to learn more about interactive tables.';\n",
              "        element.innerHTML = '';\n",
              "        dataTable['output_type'] = 'display_data';\n",
              "        await google.colab.output.renderOutput(dataTable, element);\n",
              "        const docLink = document.createElement('div');\n",
              "        docLink.innerHTML = docLinkHtml;\n",
              "        element.appendChild(docLink);\n",
              "      }\n",
              "    </script>\n",
              "  </div>\n",
              "\n",
              "\n",
              "    <div id=\"df-32dc9aa1-7a7d-4f6b-b4b7-91b6a0e7375d\">\n",
              "      <button class=\"colab-df-quickchart\" onclick=\"quickchart('df-32dc9aa1-7a7d-4f6b-b4b7-91b6a0e7375d')\"\n",
              "                title=\"Suggest charts\"\n",
              "                style=\"display:none;\">\n",
              "\n",
              "<svg xmlns=\"http://www.w3.org/2000/svg\" height=\"24px\"viewBox=\"0 0 24 24\"\n",
              "     width=\"24px\">\n",
              "    <g>\n",
              "        <path d=\"M19 3H5c-1.1 0-2 .9-2 2v14c0 1.1.9 2 2 2h14c1.1 0 2-.9 2-2V5c0-1.1-.9-2-2-2zM9 17H7v-7h2v7zm4 0h-2V7h2v10zm4 0h-2v-4h2v4z\"/>\n",
              "    </g>\n",
              "</svg>\n",
              "      </button>\n",
              "\n",
              "<style>\n",
              "  .colab-df-quickchart {\n",
              "      --bg-color: #E8F0FE;\n",
              "      --fill-color: #1967D2;\n",
              "      --hover-bg-color: #E2EBFA;\n",
              "      --hover-fill-color: #174EA6;\n",
              "      --disabled-fill-color: #AAA;\n",
              "      --disabled-bg-color: #DDD;\n",
              "  }\n",
              "\n",
              "  [theme=dark] .colab-df-quickchart {\n",
              "      --bg-color: #3B4455;\n",
              "      --fill-color: #D2E3FC;\n",
              "      --hover-bg-color: #434B5C;\n",
              "      --hover-fill-color: #FFFFFF;\n",
              "      --disabled-bg-color: #3B4455;\n",
              "      --disabled-fill-color: #666;\n",
              "  }\n",
              "\n",
              "  .colab-df-quickchart {\n",
              "    background-color: var(--bg-color);\n",
              "    border: none;\n",
              "    border-radius: 50%;\n",
              "    cursor: pointer;\n",
              "    display: none;\n",
              "    fill: var(--fill-color);\n",
              "    height: 32px;\n",
              "    padding: 0;\n",
              "    width: 32px;\n",
              "  }\n",
              "\n",
              "  .colab-df-quickchart:hover {\n",
              "    background-color: var(--hover-bg-color);\n",
              "    box-shadow: 0 1px 2px rgba(60, 64, 67, 0.3), 0 1px 3px 1px rgba(60, 64, 67, 0.15);\n",
              "    fill: var(--button-hover-fill-color);\n",
              "  }\n",
              "\n",
              "  .colab-df-quickchart-complete:disabled,\n",
              "  .colab-df-quickchart-complete:disabled:hover {\n",
              "    background-color: var(--disabled-bg-color);\n",
              "    fill: var(--disabled-fill-color);\n",
              "    box-shadow: none;\n",
              "  }\n",
              "\n",
              "  .colab-df-spinner {\n",
              "    border: 2px solid var(--fill-color);\n",
              "    border-color: transparent;\n",
              "    border-bottom-color: var(--fill-color);\n",
              "    animation:\n",
              "      spin 1s steps(1) infinite;\n",
              "  }\n",
              "\n",
              "  @keyframes spin {\n",
              "    0% {\n",
              "      border-color: transparent;\n",
              "      border-bottom-color: var(--fill-color);\n",
              "      border-left-color: var(--fill-color);\n",
              "    }\n",
              "    20% {\n",
              "      border-color: transparent;\n",
              "      border-left-color: var(--fill-color);\n",
              "      border-top-color: var(--fill-color);\n",
              "    }\n",
              "    30% {\n",
              "      border-color: transparent;\n",
              "      border-left-color: var(--fill-color);\n",
              "      border-top-color: var(--fill-color);\n",
              "      border-right-color: var(--fill-color);\n",
              "    }\n",
              "    40% {\n",
              "      border-color: transparent;\n",
              "      border-right-color: var(--fill-color);\n",
              "      border-top-color: var(--fill-color);\n",
              "    }\n",
              "    60% {\n",
              "      border-color: transparent;\n",
              "      border-right-color: var(--fill-color);\n",
              "    }\n",
              "    80% {\n",
              "      border-color: transparent;\n",
              "      border-right-color: var(--fill-color);\n",
              "      border-bottom-color: var(--fill-color);\n",
              "    }\n",
              "    90% {\n",
              "      border-color: transparent;\n",
              "      border-bottom-color: var(--fill-color);\n",
              "    }\n",
              "  }\n",
              "</style>\n",
              "\n",
              "      <script>\n",
              "        async function quickchart(key) {\n",
              "          const quickchartButtonEl =\n",
              "            document.querySelector('#' + key + ' button');\n",
              "          quickchartButtonEl.disabled = true;  // To prevent multiple clicks.\n",
              "          quickchartButtonEl.classList.add('colab-df-spinner');\n",
              "          try {\n",
              "            const charts = await google.colab.kernel.invokeFunction(\n",
              "                'suggestCharts', [key], {});\n",
              "          } catch (error) {\n",
              "            console.error('Error during call to suggestCharts:', error);\n",
              "          }\n",
              "          quickchartButtonEl.classList.remove('colab-df-spinner');\n",
              "          quickchartButtonEl.classList.add('colab-df-quickchart-complete');\n",
              "        }\n",
              "        (() => {\n",
              "          let quickchartButtonEl =\n",
              "            document.querySelector('#df-32dc9aa1-7a7d-4f6b-b4b7-91b6a0e7375d button');\n",
              "          quickchartButtonEl.style.display =\n",
              "            google.colab.kernel.accessAllowed ? 'block' : 'none';\n",
              "        })();\n",
              "      </script>\n",
              "    </div>\n",
              "    </div>\n",
              "  </div>\n"
            ],
            "application/vnd.google.colaboratory.intrinsic+json": {
              "type": "dataframe",
              "variable_name": "james_df"
            }
          },
          "metadata": {},
          "execution_count": 141
        }
      ]
    },
    {
      "cell_type": "markdown",
      "source": [
        "Here's how I can turn this into a csv, a format most programs (like excel) can read:"
      ],
      "metadata": {
        "id": "tIXIvi_NEhuO"
      }
    },
    {
      "cell_type": "code",
      "source": [
        "#creates a csv file on whatver machine the code is run on.\n",
        "#I need to name the file as well.\n",
        "james_df.to_csv('NBA_Jameses.csv')"
      ],
      "metadata": {
        "id": "P0Gff6oyEsCj"
      },
      "execution_count": 142,
      "outputs": []
    },
    {
      "cell_type": "markdown",
      "source": [
        "Next steps:\n",
        "\n",
        "1. Look at the side panel--to the left of all the code and text blocks.\n",
        "\n",
        "2. Click on the icon that looks like a tiny manilla folder.\n",
        "\n",
        "3. Find NBA_Jameses.csv, hover your mouse over it, and click on the three stacked dots to the right of it.\n",
        "\n",
        "4. Click download.\n",
        "\n",
        "From there, its the same as downloading any file from the internet onto your computer."
      ],
      "metadata": {
        "id": "sjErCHmpFTeA"
      }
    },
    {
      "cell_type": "markdown",
      "source": [
        "While you're there, notice that you can upload files to the google server where all your code is being run, and even mount your google drive account."
      ],
      "metadata": {
        "id": "3vZm9Q1SGBtV"
      }
    },
    {
      "cell_type": "markdown",
      "source": [
        "## Further Reading\n",
        "\n",
        "As promised, there is much I didn't cover. Here's lip service to some of that left out information.\n",
        "\n"
      ],
      "metadata": {
        "id": "ytvCHMghHAI3"
      }
    },
    {
      "cell_type": "markdown",
      "source": [
        "### Tensors and xarrays\n",
        "\n",
        "Notable datastructures I didn't cover, but that are relevant for modern machcine learning: tensors, and xarrays.\n",
        "\n",
        "Tensors are multi dimensional arrays; technically numpy can make them, but tensorflow and Pytorch are two libraries that implement tensors more optimized for statistical learning.\n",
        "\n",
        "xarray is its own python library, and it's basically what would happen if a dataframe and a dict had the perfect child.\n",
        "\n",
        "We use tensors for doing math with high dimensional data, and we use xarrays to keeping track of a lot of seperate, but related, datasets.\n",
        "\n",
        "We won't use tensors unless we get to neural networks, but we'll use xarrays all the time. We'll discuss them more as they come up.\n"
      ],
      "metadata": {
        "id": "WYTnGKxfI-2k"
      }
    },
    {
      "cell_type": "markdown",
      "source": [
        "### Polars\n",
        "\n",
        "You may have noticed that query is slow. In fact pandas itself--while way faster than using lists--is quite slow.\n",
        "\n",
        "There is a relatively new library called [polars](https://pola.rs/) that does everything pandas does, but much faster.\n",
        "\n",
        "The only reason I will use pandas in my examples is because I was too lazy to learn a new thing."
      ],
      "metadata": {
        "id": "TKqZYJ4TPXJK"
      }
    },
    {
      "cell_type": "markdown",
      "source": [
        "### Data Wrangling\n",
        "\n",
        "Data Wrangling is what happens when the data you're interested in is not a csv . That's a bit of a joke and an exaggeration . . . but its also not.\n",
        "\n",
        "When I say csv, I mean nice, neat rows and columns, with everything lined up and seperated by commas.\n",
        "\n",
        "Here are a few ways real world data can make us suffer:\n",
        "- it's not collected in rows and columns\n",
        "- it's collected in rows and columns, but so disorganized that the rows and columns don't actually mean anything.\n",
        "- it's collected in neat rows and columns, but the the entries into those rows and columns are inconsistent in format.\n",
        "- everything is in rows and columns, neat and consistent throughout--but our functions are still reading the data wrong (this happened to me with a csv file that wasn't actually seperated by commas, but by semi colons instead).\n",
        "- like the last point, except everything was read correctly, but now there are missing values.\n",
        "- any combination of the above.\n",
        "\n",
        "Even if everything is actually perfect--which does happen--data sets can be so large that doing anything with them at all is a chore.\n",
        "\n",
        "For class notes and exercises, I've limited my examples to perfectly clean, small to medium sized data.\n",
        "\n",
        "Projects, however, are open ended, and you will choose your your own data. So up to you if you want to choose a pre-cleaned data set or not."
      ],
      "metadata": {
        "id": "lpYgcE1hJXRf"
      }
    },
    {
      "cell_type": "markdown",
      "source": [
        "## Summary\n",
        "\n",
        "We covered quite a bit in our first unit.\n",
        "\n",
        "We:\n",
        "\n",
        "- learned the two main ways python deals with numbers, ints and floats\n",
        "- covered strings, lists, and dicts, which we can use to store multiple pieces of data linked together.\n",
        "- introduced the numpy array, the most common way to mathematically operate on collections of data of the same type in python\n",
        "- manipulated real world tabular data using pandas\n",
        "- learned how to import and export data from pandas.\n",
        "\n",
        "I expect most of y'all to feel overwhelmed and confused, especially if this is your first coding class. That's good! It means you're thinking about this material.\n",
        "\n",
        "Remember, I'm not asking or expecting you to become an expert data scientist. Our goal is to get vulnearble and expose ourselves to how data science/modern statistics is done. Feel good if you've done that!"
      ],
      "metadata": {
        "id": "9kayKzu5M8-N"
      }
    }
  ]
}